{
 "cells": [
  {
   "cell_type": "markdown",
   "id": "13340035",
   "metadata": {},
   "source": [
    "# A mathematical approach to mob mentality \n",
    "\n",
    ">\"A mob's always made up of people, no matter what. Mr. Cunningham was part of a mob last night, but he was still a man. Every mob in every little Southern town is always made up of people you know.”\n",
    "> - Harper Lee, *To Kill a Mockingbird* (1960)\n",
    "\n",
    "From lynch mobs to the Holocaust to the Rwandan genocide, many of the the worst atrocities in human history have  been commited by united groups of people who seeemed \"ordinary\" beforehand. It is hard to understand how this is possible- surely none of these populations was composed entirely of psycopaths, so how could they unanimously decide to support violence? I have struggled with this apparent paradox for years, as have many others. \n",
    "\n",
    "The resolution to the paradox may be in peer pressure, which can coerce people to act against their natural inclinations. In this notebook we will be building a mathematical model of peer pressure. Of course it will never perfectly replicate human decision-making, but hopefully it can shed some light on the mechanisms underlying mob mentality\n",
    "\n",
    "## 1. Defining a model of human peer pressure\n",
    "\n",
    ">“Human behavior is fragile and unpredictable and often at the mercy of the situation. Every individual still, of course, has a choice as to how to behave, it's just that for many people the situation is the key determinate in that choice.”\n",
    "> - Lawrence Rees, *Auschwitz: A New History* (2005)\n",
    "\n",
    "Our goal is to make a model of human behavior that incorporates the main elements of decision-making in the context of a potential mob action. Lawrence Rees, quoted above, has a valuable perspective for our purposes because he has spent his career documenting WWII-era atrocities. By his account, this model should include innate inclination, external factors, and some element of randomness. Then, assuming that people have the option of either supporting (+1) or opposing (-1) a movement, we can simply quantify those 3 factors, add them up, and use the sign to determine a person's behavior. \n",
    "\n",
    "The first question is how to quantify all of these factors. Tackling them one at a time\n",
    "- We will define innate inclination as a normal RV. The mean and standard deviation will be included as parameters\n",
    "- Each individuals' external situation is different, based on the people they interact with, so the first step here is to model the relationships of a full human society. There is a dense literature about how to accomplish this. Barabasi and Alberts' \"Perferential Attachment Model\" is known to be the most realistic interaction model, as seen [here](https://math.mit.edu/~apost/courses/18.204_2018/Lee_Bernick_paper.pdf), so we will use that to define peer relationships. \n",
    "    - Barabasi-Albert graphs are generated according to a degree parameter $m$. The average node will end up with $2*m$ connections. According to a [recent survey](https://72point.news/case-study-evite), the average American has 16 friends. Therefore an appropriate choice of $m$ to model a friendship network is 8\n",
    "- To quantify the external situation for a single person, we will average the behavior of their peers. \n",
    "    - To be clear, this is average behavior, not average inclination. Nobody knows their neighbors' true inclinations \n",
    "- We will define the random factor to be normal RV with a mean of 0\n",
    "    - The standard deviation will be included as a parameter, but mostly we will use 0.17 as a crude estimate. ([This study](https://journals.plos.org/plosone/article?id=10.1371/journal.pone.0184562) found that Facebook activity could predict the right/left divide with a 90% accuracy. Considering the average magnitude of innate inclination = 1, the average magnitude of neighbor behavior = 0.5, then the magnitude of the random factor should be about 0.17)\n",
    "\n",
    "The final equation looks like this \n",
    "\n",
    "$B_i = sign(A_i + \\frac{\\sum \\limits _{j \\in N_i} B_{j}}{n_i} + \\epsilon_i ) $\n",
    "\n",
    "where $B_i$ is behavior (usually either -1 or -1), $A_i$ is innate inclination, $n_i$ is the number of neighbors a node has, $N_i$ is the set of those neighbors, and $\\epsilon_i$ is a random factor\n",
    "\n",
    "We have thus defined a process to update human behavior based on a peer pressure model. The second question is figuring out how to simulate a real society with this process. \n",
    "\n",
    "To do this, we will start with all behaviors set to neutral (0), then run the updating process on all individuals in the society multiple times. We will process each person at the same time for each iteration so that we can advantage of numpy vectorization and improve performance  "
   ]
  },
  {
   "cell_type": "code",
   "execution_count": 1,
   "id": "63f1eb97",
   "metadata": {},
   "outputs": [],
   "source": [
    "import pandas as pd\n",
    "import numpy as np\n",
    "import plotly.express as px\n",
    "import networkx as nx\n",
    "import matplotlib.pyplot as plt\n",
    "from scipy.optimize import curve_fit\n",
    "from sympy import Symbol, diff, lambdify, solve, nsolve, exp\n",
    "import datetime\n",
    "\n",
    "from scipy.stats import skew\n",
    "from scipy.stats import kurtosis\n",
    "from scipy.stats import kurtosistest\n",
    "from scipy.stats import skewtest\n",
    "from scipy.stats import bernoulli\n",
    "from sklearn.metrics import mean_absolute_error"
   ]
  },
  {
   "cell_type": "code",
   "execution_count": 2,
   "id": "11e3c004",
   "metadata": {},
   "outputs": [],
   "source": [
    "#turning a list into an array is much faster with cython than it is with numpy\n",
    "\n",
    "%load_ext cython"
   ]
  },
  {
   "cell_type": "code",
   "execution_count": 3,
   "id": "054e1f39",
   "metadata": {},
   "outputs": [],
   "source": [
    "%%cython\n",
    "\n",
    "cimport cython\n",
    "import numpy as np\n",
    "\n",
    "@cython.boundscheck(False)\n",
    "cpdef to_array(list inp):\n",
    "    cdef long[:] arr = np.zeros(len(inp), dtype=long)\n",
    "    cdef Py_ssize_t idx\n",
    "    for idx in range(len(inp)):\n",
    "        arr[idx] = inp[idx]\n",
    "    return np.asarray(arr)"
   ]
  },
  {
   "cell_type": "code",
   "execution_count": 4,
   "id": "3901645b",
   "metadata": {},
   "outputs": [],
   "source": [
    "def run_simulation(G\n",
    "                   ,n_iterations\n",
    "                   ,attitude_m\n",
    "                   ,attitude_sd = 1\n",
    "                   ,epsilon_sd = 0\n",
    "):\n",
    "    '''Simulates the defined peer pressure process over an existing network graph\n",
    "    \n",
    "    Args:\n",
    "        G (networkx graph): Undirected graph defining peer relationships in a mock society\n",
    "        n_iterations (int): Number of times to iterate through the behavior updating process\n",
    "        attitude_m (float): Mean of attitude distribution\n",
    "        attitude_sd (float): Standard deviation of attitude distribution\n",
    "        epsilon_sd (float): Standard deviation of random factor\n",
    "\n",
    "    Returns:\n",
    "        Dictionary of form {epoch -> (mean resultant behavior)}\n",
    "    '''\n",
    "    length = len(G)\n",
    "    attitudes = np.random.normal(loc = attitude_m\n",
    "                                 ,scale = attitude_sd\n",
    "                                 , size = length)\n",
    "\n",
    "    for j in G.nodes:\n",
    "        G.nodes[j]['behavior'] = 0\n",
    "\n",
    "    node_list = list(G.nodes)\n",
    "    \n",
    "    res = {}\n",
    "    \n",
    "    rands = np.random.normal(scale = epsilon_sd,size = (n_iterations,length))\n",
    "    \n",
    "    neighbors = [[G.nodes[j] for j in G.neighbors(n)] for n in node_list]\n",
    "    neighbor_node_list = [n for v,n in zip(neighbors,node_list) for x in v]\n",
    "    labels = to_array(neighbor_node_list) #gets used later\n",
    "    \n",
    "    for i in range(n_iterations):\n",
    "                \n",
    "        neighbor_behaviors = [x['behavior'] for v in neighbors for x in v]\n",
    "        average_neighbor_behaviors = clever_average(neighbor_behaviors, labels)\n",
    "        \n",
    "        new_behavior = np.sign(average_neighbor_behaviors + attitudes + rands[i])\n",
    "        \n",
    "        for j, v in zip(G.nodes, new_behavior):\n",
    "            G.nodes[j]['behavior'] = v\n",
    "                \n",
    "        res[i] = np.mean([G.nodes[n]['behavior'] for n in G.nodes])\n",
    "        \n",
    "    return res\n",
    "\n",
    "#this function is adapted from Vlad Feinberg, at https://vladfeinberg.com/2021/01/07/vectorizing-ragged-arrays.html\n",
    "#the purpose is to do a more efficient 'jagged mean' via clever vectorization\n",
    "def clever_average(Xz, labels):\n",
    "    d = np.diff(labels, prepend=-1) # binary mask where labels change\n",
    "    \n",
    "    pos = np.flatnonzero(d) # indices where labels change\n",
    "    pos = np.append(pos, len(Xz))\n",
    "    \n",
    "    Xz = np.concatenate((np.zeros_like(Xz[0:1]), Xz), axis=0)\n",
    "    Xsums = np.cumsum(Xz, axis=0)\n",
    "\n",
    "    # reduce by taking differences of accumulations exactly at the\n",
    "    # endpoints for cluster indices, using pos array\n",
    "    Xsums = np.diff(Xsums[pos], axis=0)\n",
    "    counts = np.diff(pos)\n",
    "\n",
    "    return Xsums / np.maximum(counts, 1)"
   ]
  },
  {
   "cell_type": "markdown",
   "id": "388efc7f",
   "metadata": {},
   "source": [
    "## 1. Determing how large our \"society\" needs to be"
   ]
  },
  {
   "cell_type": "markdown",
   "id": "aed9ff0c",
   "metadata": {},
   "source": [
    "We would like to understand the behavior of very large societies. However, simulating a large society would require a lot of computational power, so we would prefer to run the simulation on a small one if we can. Let's check if resultant behavior levels off at some point, allowing us to use a medium-size society as a proxy for larger ones.\n"
   ]
  },
  {
   "cell_type": "code",
   "execution_count": 6,
   "id": "ac527bb8",
   "metadata": {},
   "outputs": [],
   "source": [
    "def run_simulations(n_nodes\n",
    "                     ,n_iterations\n",
    "                     ,attitude_m\n",
    "                     ,attitude_sd = 1\n",
    "                     ,epsilon_sd = 0\n",
    "                     ,n_trials = 5):\n",
    "    '''Runs a simulation many times, and takes the average result\n",
    "    \n",
    "    Args:\n",
    "        n_nodes (int): Number of nodes to use in BA graph\n",
    "        n_iterations (int): Number of times to iterate through the behavior updating process\n",
    "        attitude_m (float): Mean of attitude distribution\n",
    "        attitude_sd (float): Standard Deviation of attitude distribution   \n",
    "        epsilon_sd (float): Standard deviation of random factor\n",
    "        n_trials (int): Number of times to run the simulation from scratch\n",
    "\n",
    "    Returns:\n",
    "        Dictionary of form {epoch -> (mean resultant behavior)}\n",
    "    '''\n",
    "    G = nx.generators.random_graphs.barabasi_albert_graph(n_nodes, 8)\n",
    "\n",
    "    res = [run_simulation(G, n_iterations, attitude_m,attitude_sd,epsilon_sd) for i in range(n_trials)]\n",
    "    \n",
    "    return res\n"
   ]
  },
  {
   "cell_type": "code",
   "execution_count": 7,
   "id": "fa408396",
   "metadata": {},
   "outputs": [
    {
     "name": "stdout",
     "output_type": "stream",
     "text": [
      "0:01:56.241236\n"
     ]
    }
   ],
   "source": [
    "start = datetime.datetime.now()\n",
    "ns = np.linspace(2,3.5,10)\n",
    "all_res = [run_simulations(10**n, 20,0.1,1,0.17,100) for n in ns]\n",
    "end = datetime.datetime.now()\n",
    "print(end - start)"
   ]
  },
  {
   "cell_type": "code",
   "execution_count": 8,
   "id": "48709414",
   "metadata": {},
   "outputs": [],
   "source": [
    "y = [{r : np.mean([x[r] for x in res]) for r in res[0].keys()} for res in all_res]\n",
    "result_df = pd.DataFrame.from_records(y)\n",
    "result_df.index = [10**n for n in ns]\n",
    "result_df.columns = ['Epoch: ' + str(col) for col in result_df.columns]"
   ]
  },
  {
   "cell_type": "code",
   "execution_count": 9,
   "id": "1323bb23",
   "metadata": {},
   "outputs": [
    {
     "data": {
      "image/png": "[encoded data removed]",
      "text/plain": [
       "<Figure size 432x288 with 1 Axes>"
      ]
     },
     "metadata": {
      "needs_background": "light"
     },
     "output_type": "display_data"
    }
   ],
   "source": [
    "for col in result_df.columns:\n",
    "    plt.plot(result_df.index,result_df[col], label = col) \n",
    "plt.xlabel('Number of nodes in BA graph')\n",
    "plt.ylabel('Average Resultant Behavior')\n",
    "plt.legend(fontsize = 'xx-small', loc = 'upper right')\n",
    "plt.show()"
   ]
  },
  {
   "cell_type": "markdown",
   "id": "87ed1326",
   "metadata": {},
   "source": [
    "Resultant behavior did not change much after 1500 nodes, so we will use 1500 for the rest of our investigations"
   ]
  },
  {
   "cell_type": "markdown",
   "id": "448ce281",
   "metadata": {},
   "source": [
    "## 2. Running our model with different distributions of attitudes"
   ]
  },
  {
   "cell_type": "markdown",
   "id": "e4670eac",
   "metadata": {},
   "source": [
    "Now we will run our simulation many times with different values of $m$ to see how that effects behavior at the end of the process"
   ]
  },
  {
   "cell_type": "code",
   "execution_count": 30,
   "id": "4487471e",
   "metadata": {},
   "outputs": [],
   "source": [
    "def run_simulations(G\n",
    "                     ,n_iterations\n",
    "                     ,attitude_m\n",
    "                     ,attitude_sd = 1\n",
    "                     ,epsilon_sd = 0\n",
    "                     ,n_trials = 5):\n",
    "    '''Runs a simulation many times, and takes the average result\n",
    "    \n",
    "    Args:\n",
    "        G (networkx graph): Undirected graph defining peer relationships in a mock society\n",
    "        n_iterations (int): Number of times to iterate through the behavior updating process\n",
    "        attitude_m (float): Mean of attitude distribution\n",
    "        attitude_sd (float): Standard deviation of attitude distribution\n",
    "        epsilon_sd (float): Standard deviation of random factor\n",
    "        n_trials (int): Number of times to run the simulation from scratch\n",
    "\n",
    "    Returns:\n",
    "        Dictionary of form {epoch -> (mean resultant behavior)}\n",
    "    '''\n",
    "    res = [run_simulation(G, n_iterations, attitude_m,attitude_sd,epsilon_sd) for i in range(n_trials)]\n",
    "    \n",
    "    return res\n",
    "\n",
    "\n"
   ]
  },
  {
   "cell_type": "code",
   "execution_count": 31,
   "id": "e71ce812",
   "metadata": {},
   "outputs": [
    {
     "name": "stdout",
     "output_type": "stream",
     "text": [
      "0:05:44.050784\n"
     ]
    }
   ],
   "source": [
    "#We will run with the same Barabasi-Albert graph every time, to reduce volatility\n",
    "G = nx.generators.random_graphs.barabasi_albert_graph(1500, 8)\n",
    "\n",
    "start = datetime.datetime.now()\n",
    "ms = np.linspace(-1,1,30)\n",
    "all_res_m = [run_simulations(G, 20,m, 1,0.17,60) for m in ms]\n",
    "end = datetime.datetime.now()\n",
    "print(end - start)"
   ]
  },
  {
   "cell_type": "markdown",
   "id": "d04cc008",
   "metadata": {},
   "source": [
    "### 2a. Resultant average behavior"
   ]
  },
  {
   "cell_type": "code",
   "execution_count": 32,
   "id": "6c25807f",
   "metadata": {},
   "outputs": [],
   "source": [
    "y_m = [{r : np.mean([x[r] for x in res]) for r in res[0].keys()} for res in all_res_m]\n",
    "result_df_m = pd.DataFrame.from_records(y_m)\n",
    "result_df_m.index = ms\n",
    "result_df_m.columns = ['Epoch: ' + str(col) for col in result_df_m.columns]"
   ]
  },
  {
   "cell_type": "code",
   "execution_count": 33,
   "id": "8fedda24",
   "metadata": {},
   "outputs": [
    {
     "data": {
      "image/png": "[encoded data removed]",
      "text/plain": [
       "<Figure size 432x288 with 1 Axes>"
      ]
     },
     "metadata": {
      "needs_background": "light"
     },
     "output_type": "display_data"
    }
   ],
   "source": [
    "for col in result_df_m.columns:\n",
    "    plt.plot(result_df_m.index,result_df_m[col], label = col) \n",
    "plt.xlabel('Mode of Natural Inclination Distribution')\n",
    "plt.ylabel('Average Resultant Behavior')\n",
    "plt.legend(fontsize = 'xx-small', loc = 'upper left')\n",
    "plt.show()"
   ]
  },
  {
   "cell_type": "markdown",
   "id": "b46dd0e2",
   "metadata": {},
   "source": [
    "There is a lot to unpack here. First, it is apparent that the initial conditions have a clear effect on the long-run outcome. When the mean initial attitude goes up, so does the average outcome behavior. \n",
    "\n",
    "For the first epoch, represented by the blue line in the middle, this relationship appears to be linear. However, it becomes increasingly nonlinear as the number of epochs increases. In particular, the slope around the center increases and the slopes further out approach zero. By the 20th epoch, a 0.5 difference in inclination mode around the middle results in a 0.9 difference in average outcome behavior. \n",
    "\n",
    "This suggests a 'critical mass' theory of social behavior. An attitude can be well-represented in a population, but if it does not quite reach the threshold of acceptability, it will be tamped down by social pressure. With a relatively small boost many in the middle are homogenized into support, creating stronger and stronger peer pressure until mob mentality takes over and only a minority of extreme oppponents are holding out. This phenomena could explain how widespread violent attitudes can seem to appear suddenly in a population. The actual attitudes of people do not need to flip overnight, they just needed to shift enough to reach a critical mass. "
   ]
  },
  {
   "cell_type": "markdown",
   "id": "c3ef3669",
   "metadata": {},
   "source": [
    "Exactly how steep does the curve get in the middle? We can fit a curve to our data points, and compute a derivative directly. We will use a logistic and a polynomial equation, then calculate the derivative at 0 of the curve that fits best"
   ]
  },
  {
   "cell_type": "code",
   "execution_count": 34,
   "id": "69524b13",
   "metadata": {},
   "outputs": [
    {
     "data": {
      "image/png": "[encoded data removed]",
      "text/plain": [
       "<Figure size 432x288 with 1 Axes>"
      ]
     },
     "metadata": {
      "needs_background": "light"
     },
     "output_type": "display_data"
    }
   ],
   "source": [
    "def logifunc(x,A,k, off):\n",
    "    return A / (1 + np.exp(-k*(x)))+off\n",
    "\n",
    "def polyfunc(x,a,b,c):\n",
    "    return a*x**3 + b*x**2 + c*x**1\n",
    "\n",
    "logi_popt, logi_pcov = curve_fit(logifunc, result_df_m.index, result_df_m['Epoch: 19'], p0=[9, 1, 0])\n",
    "\n",
    "poly_popt, poly_pcov = curve_fit(polyfunc, result_df_m.index, result_df_m['Epoch: 19'], p0=[0,0,0])\n",
    "\n",
    "plt.plot(result_df_m.index, logifunc(result_df_m.index,*logi_popt), color = 'red', label = 'logistic')\n",
    "plt.plot(result_df_m.index, polyfunc(result_df_m.index,*poly_popt), color = 'blue', label = 'polynomial')\n",
    "plt.plot(result_df_m.index, result_df_m['Epoch: 19'], color = 'black', label = 'actual')\n",
    "\n",
    "plt.xlabel('Mode of Natural Inclination Distribution')\n",
    "plt.ylabel('Average Resultant Behavior')\n",
    "plt.legend(fontsize = 'small', loc = 'upper left')\n",
    "\n",
    "plt.show()"
   ]
  },
  {
   "cell_type": "markdown",
   "id": "913225d8",
   "metadata": {},
   "source": [
    "The logistic curve fits the observed result very closely, with only a few degrees of freedom! The theoretical true curve may be a logistic, or something closely related\n",
    "\n",
    "We will calculate the derivative of the logistic regression using sympy"
   ]
  },
  {
   "cell_type": "code",
   "execution_count": 37,
   "id": "68e17363",
   "metadata": {},
   "outputs": [
    {
     "name": "stdout",
     "output_type": "stream",
     "text": [
      "at 0.0: 2.428\n",
      "at 0.5: 0.615\n"
     ]
    }
   ],
   "source": [
    "x = Symbol('x')\n",
    "\n",
    "A = logi_popt[0]\n",
    "k = logi_popt[1]\n",
    "off = logi_popt[2]\n",
    "\n",
    "y = A / (1 + exp(-k*(x)))+off\n",
    "\n",
    "dx = diff(y,x) \n",
    "\n",
    "ddx = lambdify(x, dx)     # this creates a function that you can call\n",
    "\n",
    "print('at 0.0: ' + str(np.round(ddx(0),3)))\n",
    "print('at 0.5: ' + str(np.round(ddx(0.5),3)))"
   ]
  },
  {
   "cell_type": "markdown",
   "id": "e33cc7d1",
   "metadata": {},
   "source": [
    "The slope at $m=0$ is about 4 times higher than the slope at $m=0.5$. This shows how much more influential each person is when the society is near gridlock, vs. when it is already highly skewed in one direction"
   ]
  },
  {
   "cell_type": "markdown",
   "id": "c6dc33dc",
   "metadata": {},
   "source": [
    "### 2a. Standard deviation of results\n",
    "\n",
    "How does the volatility change with different input means?"
   ]
  },
  {
   "cell_type": "code",
   "execution_count": 38,
   "id": "dfd2dc2c",
   "metadata": {},
   "outputs": [],
   "source": [
    "y_std = [{r : np.std([x[r] for x in res]) for r in res[0].keys()} for res in all_res_m]\n",
    "result_df_std = pd.DataFrame.from_records(y_std)\n",
    "result_df_std.index = ms\n",
    "result_df_std.columns = ['Epoch: ' + str(col) for col in result_df_std.columns]"
   ]
  },
  {
   "cell_type": "code",
   "execution_count": 39,
   "id": "4544c44e",
   "metadata": {},
   "outputs": [
    {
     "data": {
      "image/png": "[encoded data removed]",
      "text/plain": [
       "<Figure size 432x288 with 1 Axes>"
      ]
     },
     "metadata": {
      "needs_background": "light"
     },
     "output_type": "display_data"
    }
   ],
   "source": [
    "for col in result_df_std.columns:\n",
    "    plt.plot(result_df_std.index,result_df_std[col], label = col) \n",
    "plt.xlabel('Mean of Natural Inclination Distribution')\n",
    "plt.ylabel('Standard deviation of result')\n",
    "plt.legend(fontsize = 'xx-small', loc = 'upper left')\n",
    "plt.show()"
   ]
  },
  {
   "cell_type": "markdown",
   "id": "b2538ae1",
   "metadata": {},
   "source": [
    "There is definitely a peak- But maybe this peak is only due to the logistic nature of the result data? We can check if the peak still holds after transforming our data with a reverse link function\n",
    "\n",
    "First step is to invert our fitted link function"
   ]
  },
  {
   "cell_type": "code",
   "execution_count": 40,
   "id": "9c0cb3b9",
   "metadata": {},
   "outputs": [
    {
     "name": "stdout",
     "output_type": "stream",
     "text": [
      "0.4999999999999999\n",
      "-0.09999999999999998\n"
     ]
    }
   ],
   "source": [
    "def logifunc_inv(x,A,k, off):\n",
    "    return np.log((x - off)/(A-x+off))/k\n",
    "\n",
    "print(logifunc_inv(logifunc(0.5,*logi_popt),*logi_popt))\n",
    "print(logifunc_inv(logifunc(-0.1,*logi_popt),*logi_popt))"
   ]
  },
  {
   "cell_type": "markdown",
   "id": "ecb4f868",
   "metadata": {},
   "source": [
    "To avoid any infinite logs, we will use -1 as the offset and 2 as the scale parameter. That will make sure that there is a defined logit for every result"
   ]
  },
  {
   "cell_type": "code",
   "execution_count": 41,
   "id": "61e6eb10",
   "metadata": {},
   "outputs": [],
   "source": [
    "y_lstd = [{r : np.std([logifunc_inv(x[r],2,logi_popt[1],-1) for x in res]) for r in res[0].keys()} for res in all_res_m]\n",
    "result_df_lstd = pd.DataFrame.from_records(y_lstd)\n",
    "result_df_lstd.index = ms\n",
    "result_df_lstd.columns = ['Epoch: ' + str(col) for col in result_df_lstd.columns]"
   ]
  },
  {
   "cell_type": "code",
   "execution_count": 42,
   "id": "5c64e6d3",
   "metadata": {},
   "outputs": [
    {
     "data": {
      "image/png": "[encoded data removed]",
      "text/plain": [
       "<Figure size 432x288 with 1 Axes>"
      ]
     },
     "metadata": {
      "needs_background": "light"
     },
     "output_type": "display_data"
    }
   ],
   "source": [
    "for col in result_df_lstd.columns:\n",
    "    plt.plot(result_df_lstd.index,result_df_lstd[col], label = col) \n",
    "plt.xlabel('Mean of Natural Inclination Distribution')\n",
    "plt.ylabel('Standard deviation of logit result')\n",
    "plt.legend(fontsize = 'xx-small', loc = 'upper left')\n",
    "plt.show()"
   ]
  },
  {
   "cell_type": "markdown",
   "id": "49ead741",
   "metadata": {},
   "source": [
    "Interestingly, it now seems like there are multiple peaks. The peak in the middle is the highest, but there are also auxiliary peaks to the side. Perhaps this happens because there is always some probability of an equilibrium going against the majority will, and that drives up the variance when the majority will is significantly biased."
   ]
  },
  {
   "cell_type": "markdown",
   "id": "14cb53ba",
   "metadata": {},
   "source": [
    "# 3. Is this process converging?\n",
    "\n",
    "Before moving forward, we should check to make sure that the process is converging. There are multiple ways we can think about this- to start, let's look at how much the result is changing after each epoch"
   ]
  },
  {
   "cell_type": "code",
   "execution_count": 23,
   "id": "e76166cd",
   "metadata": {},
   "outputs": [
    {
     "data": {
      "image/png": "[encoded data removed]",
      "text/plain": [
       "<Figure size 432x288 with 1 Axes>"
      ]
     },
     "metadata": {
      "needs_background": "light"
     },
     "output_type": "display_data"
    }
   ],
   "source": [
    "changes = [mean_absolute_error(result_df_m.iloc[:,i], result_df_m.iloc[:,i+1]) for i in range(result_df_m.shape[1] - 1)]\n",
    "plt.plot(changes)\n",
    "plt.xlabel('Number of epochs')\n",
    "plt.ylabel('Average absolute change from last epoch')\n",
    "plt.show()"
   ]
  },
  {
   "cell_type": "markdown",
   "id": "c7c7613a",
   "metadata": {},
   "source": [
    "It looks like the rate of change flattens out at around epoch 5 (the 6th epoch). \n",
    "\n",
    "We can also run a single experiment to the 100th epoch, to see if it is truly converging"
   ]
  },
  {
   "cell_type": "code",
   "execution_count": 24,
   "id": "68f1d84c",
   "metadata": {},
   "outputs": [
    {
     "data": {
      "image/png": "[encoded data removed]",
      "text/plain": [
       "<Figure size 432x288 with 1 Axes>"
      ]
     },
     "metadata": {
      "needs_background": "light"
     },
     "output_type": "display_data"
    }
   ],
   "source": [
    "new_y = run_simulation(G, 100,0.1,1,0.17)\n",
    "vals = [val for k, val in new_y.items()]\n",
    "\n",
    "plt.plot(vals)\n",
    "plt.xlabel('Number of epochs')\n",
    "plt.ylabel('Average Resultant Behavior')\n",
    "plt.show()"
   ]
  },
  {
   "cell_type": "markdown",
   "id": "bae47162",
   "metadata": {},
   "source": [
    "From this, it is apparent that the equilibrium is fully reached at around the 20th epoch. To be safe, lets use the 20th epoch moving forward. It should be a good estimate for the limit as the number of epochs goes to infinity\n",
    "\n",
    "We should also check that the process converges to roughly the same number every time it is run with the same parameters. If the process converges to different numbers, then it is not really converging"
   ]
  },
  {
   "cell_type": "code",
   "execution_count": 25,
   "id": "e52c8726",
   "metadata": {},
   "outputs": [],
   "source": [
    "many_y = run_simulations(G, 20,0,1,0.17,500)"
   ]
  },
  {
   "cell_type": "code",
   "execution_count": 28,
   "id": "38ccbd60",
   "metadata": {},
   "outputs": [
    {
     "name": "stdout",
     "output_type": "stream",
     "text": [
      "skew: 0.02724371362487949 p value: 0.8008415396496249\n",
      "kurtosis: 0.2427943973791975 p value: 0.24073511858111551\n"
     ]
    },
    {
     "data": {
      "application/vnd.plotly.v1+json": {
       "config": {
        "plotlyServerURL": "https://plot.ly"
       },
       "data": [
        {
         "alignmentgroup": "True",
         "bingroup": "x",
         "hovertemplate": "variable=0<br>value=%{x}<br>count=%{y}<extra></extra>",
         "legendgroup": "0",
         "marker": {
          "color": "#636efa",
          "pattern": {
           "shape": ""
          }
         },
         "name": "0",
         "nbinsx": 20,
         "offsetgroup": "0",
         "orientation": "v",
         "showlegend": true,
         "type": "histogram",
         "x": [
          0.2613333333333333,
          0.11333333333333333,
          0.010666666666666666,
          -0.052,
          0.11333333333333333,
          0.35733333333333334,
          -0.10666666666666667,
          0.005333333333333333,
          -0.006666666666666667,
          0.07733333333333334,
          0.006666666666666667,
          0.012,
          0.044,
          0.12933333333333333,
          0.02,
          0.056,
          -0.14666666666666667,
          -0.012,
          -0.03866666666666667,
          0.092,
          0.08,
          -0.08266666666666667,
          -0.044,
          0.264,
          -0.02,
          -0.112,
          -0.044,
          0.03866666666666667,
          -0.11733333333333333,
          0.15866666666666668,
          0.08,
          -0.042666666666666665,
          0.14266666666666666,
          0.016,
          0.028,
          -0.10133333333333333,
          0.07333333333333333,
          -0.08133333333333333,
          0.02,
          0.0026666666666666666,
          0.02666666666666667,
          -0.14533333333333334,
          0.076,
          -0.034666666666666665,
          -0.076,
          0.07733333333333334,
          0.014666666666666666,
          -0.208,
          0.04,
          0.13333333333333333,
          0.076,
          0.10933333333333334,
          0.104,
          0.05333333333333334,
          -0.058666666666666666,
          -0.008,
          -0.252,
          -0.08266666666666667,
          0.05333333333333334,
          -0.025333333333333333,
          0.244,
          0.08533333333333333,
          0.016,
          0.13066666666666665,
          -0.072,
          -0.15866666666666668,
          -0.03866666666666667,
          -0.10266666666666667,
          -0.036,
          -0.018666666666666668,
          -0.04533333333333334,
          0.04666666666666667,
          -0.14133333333333334,
          -0.010666666666666666,
          0.12266666666666666,
          -0.096,
          -0.208,
          -0.064,
          -0.052,
          0.024,
          -0.11066666666666666,
          -0.19866666666666666,
          -0.08533333333333333,
          -0.05733333333333333,
          -0.208,
          0.10266666666666667,
          0.244,
          -0.048,
          0.14533333333333334,
          0.05333333333333334,
          0.012,
          -0.04,
          0.008,
          0.009333333333333334,
          0.04933333333333333,
          -0.024,
          -0.037333333333333336,
          -0.09866666666666667,
          0.0026666666666666666,
          -0.15866666666666668,
          -0.07466666666666667,
          0.06666666666666667,
          0.02666666666666667,
          -0.136,
          0.052,
          -0.004,
          0.014666666666666666,
          0.06,
          0.09066666666666667,
          -0.136,
          0.08,
          0.08933333333333333,
          -0.02266666666666667,
          0.09066666666666667,
          -0.18266666666666667,
          0.012,
          0.072,
          0.04533333333333334,
          0.15333333333333332,
          0.050666666666666665,
          0.12133333333333333,
          0.013333333333333334,
          0.14133333333333334,
          -0.04,
          0.08666666666666667,
          -0.072,
          -0.164,
          0.08,
          -0.006666666666666667,
          -0.20266666666666666,
          -0.02,
          -0.15333333333333332,
          -0.05733333333333333,
          -0.013333333333333334,
          0.034666666666666665,
          -0.0013333333333333333,
          -0.017333333333333333,
          0.09333333333333334,
          -0.10666666666666667,
          -0.013333333333333334,
          0.08533333333333333,
          -0.152,
          0.02,
          -0.2,
          0.037333333333333336,
          -0.024,
          0.144,
          0.07466666666666667,
          0.036,
          -0.10266666666666667,
          0.21866666666666668,
          0.030666666666666665,
          -0.096,
          0.009333333333333334,
          0.24,
          -0.12266666666666666,
          -0.042666666666666665,
          0.07733333333333334,
          0.156,
          0.12933333333333333,
          -0.036,
          -0.19866666666666666,
          0.10533333333333333,
          -0.168,
          0.013333333333333334,
          0.05466666666666667,
          -0.0013333333333333333,
          -0.096,
          -0.11866666666666667,
          0.006666666666666667,
          -0.02666666666666667,
          0.13066666666666665,
          -0.048,
          -0.05733333333333333,
          0.08133333333333333,
          0.112,
          0.148,
          -0.188,
          -0.10533333333333333,
          0.04,
          -0.008,
          -0.23733333333333334,
          -0.013333333333333334,
          0.15466666666666667,
          -0.04133333333333333,
          0.152,
          -0.17733333333333334,
          -0.11066666666666666,
          0.11066666666666666,
          0.042666666666666665,
          0.19066666666666668,
          -0.15066666666666667,
          -0.05733333333333333,
          -0.06533333333333333,
          -0.24533333333333332,
          -0.07466666666666667,
          -0.08,
          0.17333333333333334,
          0.13733333333333334,
          -0.07333333333333333,
          -0.016,
          0.04133333333333333,
          0.036,
          0.068,
          0.07333333333333333,
          -0.0013333333333333333,
          -0.13333333333333333,
          -0.06266666666666666,
          0.13066666666666665,
          -0.12,
          -0.08666666666666667,
          0.06533333333333333,
          -0.168,
          0.132,
          -0.013333333333333334,
          0.17866666666666667,
          -0.006666666666666667,
          -0.08266666666666667,
          -0.0026666666666666666,
          0.036,
          0.14666666666666667,
          -0.029333333333333333,
          -0.14533333333333334,
          0.02266666666666667,
          0.03333333333333333,
          0.05333333333333334,
          0.06133333333333333,
          0.068,
          0.1,
          0.12,
          0.19733333333333333,
          0.005333333333333333,
          0.056,
          0.10666666666666667,
          -0.10666666666666667,
          0.10933333333333334,
          -0.04933333333333333,
          0.05333333333333334,
          0.084,
          -0.112,
          0.08666666666666667,
          -0.06266666666666666,
          -0.09066666666666667,
          -0.044,
          0.096,
          0.052,
          0.024,
          0.064,
          0.06266666666666666,
          0.017333333333333333,
          0.2786666666666667,
          0.2653333333333333,
          0.012,
          0.10666666666666667,
          0.156,
          -0.13333333333333333,
          -0.04533333333333334,
          0.02266666666666667,
          0.14,
          -0.014666666666666666,
          0.016,
          -0.10133333333333333,
          -0.013333333333333334,
          -0.05466666666666667,
          -0.14533333333333334,
          -0.06933333333333333,
          0.23333333333333334,
          -0.076,
          0.128,
          0.10933333333333334,
          -0.037333333333333336,
          -0.08133333333333333,
          -0.2653333333333333,
          0.104,
          -0.14133333333333334,
          0.08933333333333333,
          0.06266666666666666,
          -0.124,
          -0.10533333333333333,
          0.037333333333333336,
          0.05466666666666667,
          0.02266666666666667,
          0.084,
          0.07866666666666666,
          0.0026666666666666666,
          0.021333333333333333,
          0.028,
          0.13333333333333333,
          0.010666666666666666,
          -0.16133333333333333,
          0.009333333333333334,
          0,
          -0.021333333333333333,
          0.037333333333333336,
          0.048,
          -0.037333333333333336,
          0.13466666666666666,
          -0.112,
          0.048,
          -0.13333333333333333,
          0.044,
          0.04933333333333333,
          0.006666666666666667,
          0.032,
          -0.1,
          0.07866666666666666,
          -0.013333333333333334,
          0.12266666666666666,
          0.02,
          -0.0013333333333333333,
          -0.09333333333333334,
          -0.15866666666666668,
          0.06266666666666666,
          0.048,
          -0.05333333333333334,
          -0.042666666666666665,
          -0.22,
          0.072,
          -0.06933333333333333,
          -0.02666666666666667,
          0.0026666666666666666,
          -0.17866666666666667,
          -0.088,
          0.128,
          -0.06133333333333333,
          0.029333333333333333,
          -0.11466666666666667,
          0.037333333333333336,
          -0.056,
          0.13066666666666665,
          0.08533333333333333,
          -0.1,
          -0.04533333333333334,
          -0.18,
          -0.08,
          0.076,
          -0.10533333333333333,
          -0.013333333333333334,
          0.132,
          -0.1,
          -0.176,
          0.037333333333333336,
          0.11733333333333333,
          -0.11733333333333333,
          0.12533333333333332,
          -0.08666666666666667,
          -0.132,
          0.008,
          0.004,
          -0.09733333333333333,
          -0.15866666666666668,
          -0.08666666666666667,
          0.034666666666666665,
          -0.04533333333333334,
          0.016,
          0.148,
          0.06666666666666667,
          0.2813333333333333,
          0.14933333333333335,
          -0.13066666666666665,
          -0.132,
          0.06666666666666667,
          0.018666666666666668,
          -0.018666666666666668,
          0.036,
          -0.14666666666666667,
          0.04133333333333333,
          0.08666666666666667,
          -0.3293333333333333,
          -0.05733333333333333,
          -0.05466666666666667,
          -0.013333333333333334,
          -0.132,
          -0.08933333333333333,
          0.108,
          -0.13066666666666665,
          -0.009333333333333334,
          0.04533333333333334,
          0.07733333333333334,
          0.07466666666666667,
          -0.044,
          0.15733333333333333,
          -0.024,
          -0.032,
          -0.10266666666666667,
          -0.06266666666666666,
          0.12133333333333333,
          0.042666666666666665,
          0.264,
          -0.13466666666666666,
          -0.06133333333333333,
          0.03333333333333333,
          0.017333333333333333,
          0.09066666666666667,
          -0.03333333333333333,
          0.0026666666666666666,
          0.034666666666666665,
          -0.02266666666666667,
          0.112,
          0.09466666666666666,
          0.06666666666666667,
          -0.044,
          0.044,
          0.06133333333333333,
          -0.006666666666666667,
          0.037333333333333336,
          0.058666666666666666,
          0.156,
          0.006666666666666667,
          -0.04533333333333334,
          -0.13066666666666665,
          -0.06266666666666666,
          0.012,
          -0.034666666666666665,
          -0.09866666666666667,
          0.088,
          -0.172,
          -0.012,
          0.02666666666666667,
          -0.12933333333333333,
          -0.04933333333333333,
          -0.08533333333333333,
          -0.25866666666666666,
          0.156,
          0.06133333333333333,
          0.10133333333333333,
          0.10933333333333334,
          -0.032,
          -0.128,
          0.03333333333333333,
          0.009333333333333334,
          -0.076,
          0.005333333333333333,
          -0.14533333333333334,
          0.06933333333333333,
          -0.13333333333333333,
          -0.02666666666666667,
          0.18933333333333333,
          -0.09333333333333334,
          -0.04133333333333333,
          0.016,
          -0.050666666666666665,
          0.144,
          0.05466666666666667,
          0.272,
          0.013333333333333334,
          -0.09466666666666666,
          0.10133333333333333,
          0.14666666666666667,
          0.009333333333333334,
          -0.030666666666666665,
          -0.042666666666666665,
          0.044,
          -0.124,
          -0.006666666666666667,
          0.16933333333333334,
          -0.072,
          0.017333333333333333,
          -0.1,
          -0.084,
          -0.08,
          0.07333333333333333,
          -0.12266666666666666,
          -0.11466666666666667,
          0.06666666666666667,
          0.02266666666666667,
          0.18933333333333333,
          -0.128,
          0.108,
          0.17466666666666666,
          -0.07866666666666666,
          -0.014666666666666666,
          0.010666666666666666,
          -0.03866666666666667,
          0.09466666666666666,
          0.084,
          -0.09466666666666666,
          -0.068,
          0.16666666666666666,
          -0.212,
          0.004,
          0.256,
          0.256,
          -0.12666666666666668,
          0.05466666666666667,
          -0.028,
          0.056,
          -0.2813333333333333,
          -0.02666666666666667,
          0.042666666666666665,
          0.156,
          -0.3,
          0.02666666666666667,
          -0.17066666666666666,
          -0.13333333333333333,
          0.12266666666666666,
          0.108,
          -0.028,
          0.050666666666666665,
          0.11733333333333333
         ],
         "xaxis": "x",
         "yaxis": "y"
        }
       ],
       "layout": {
        "barmode": "relative",
        "legend": {
         "title": {
          "text": "variable"
         },
         "tracegroupgap": 0
        },
        "margin": {
         "t": 60
        },
        "template": {
         "data": {
          "bar": [
           {
            "error_x": {
             "color": "#2a3f5f"
            },
            "error_y": {
             "color": "#2a3f5f"
            },
            "marker": {
             "line": {
              "color": "#E5ECF6",
              "width": 0.5
             },
             "pattern": {
              "fillmode": "overlay",
              "size": 10,
              "solidity": 0.2
             }
            },
            "type": "bar"
           }
          ],
          "barpolar": [
           {
            "marker": {
             "line": {
              "color": "#E5ECF6",
              "width": 0.5
             },
             "pattern": {
              "fillmode": "overlay",
              "size": 10,
              "solidity": 0.2
             }
            },
            "type": "barpolar"
           }
          ],
          "carpet": [
           {
            "aaxis": {
             "endlinecolor": "#2a3f5f",
             "gridcolor": "white",
             "linecolor": "white",
             "minorgridcolor": "white",
             "startlinecolor": "#2a3f5f"
            },
            "baxis": {
             "endlinecolor": "#2a3f5f",
             "gridcolor": "white",
             "linecolor": "white",
             "minorgridcolor": "white",
             "startlinecolor": "#2a3f5f"
            },
            "type": "carpet"
           }
          ],
          "choropleth": [
           {
            "colorbar": {
             "outlinewidth": 0,
             "ticks": ""
            },
            "type": "choropleth"
           }
          ],
          "contour": [
           {
            "colorbar": {
             "outlinewidth": 0,
             "ticks": ""
            },
            "colorscale": [
             [
              0,
              "#0d0887"
             ],
             [
              0.1111111111111111,
              "#46039f"
             ],
             [
              0.2222222222222222,
              "#7201a8"
             ],
             [
              0.3333333333333333,
              "#9c179e"
             ],
             [
              0.4444444444444444,
              "#bd3786"
             ],
             [
              0.5555555555555556,
              "#d8576b"
             ],
             [
              0.6666666666666666,
              "#ed7953"
             ],
             [
              0.7777777777777778,
              "#fb9f3a"
             ],
             [
              0.8888888888888888,
              "#fdca26"
             ],
             [
              1,
              "#f0f921"
             ]
            ],
            "type": "contour"
           }
          ],
          "contourcarpet": [
           {
            "colorbar": {
             "outlinewidth": 0,
             "ticks": ""
            },
            "type": "contourcarpet"
           }
          ],
          "heatmap": [
           {
            "colorbar": {
             "outlinewidth": 0,
             "ticks": ""
            },
            "colorscale": [
             [
              0,
              "#0d0887"
             ],
             [
              0.1111111111111111,
              "#46039f"
             ],
             [
              0.2222222222222222,
              "#7201a8"
             ],
             [
              0.3333333333333333,
              "#9c179e"
             ],
             [
              0.4444444444444444,
              "#bd3786"
             ],
             [
              0.5555555555555556,
              "#d8576b"
             ],
             [
              0.6666666666666666,
              "#ed7953"
             ],
             [
              0.7777777777777778,
              "#fb9f3a"
             ],
             [
              0.8888888888888888,
              "#fdca26"
             ],
             [
              1,
              "#f0f921"
             ]
            ],
            "type": "heatmap"
           }
          ],
          "heatmapgl": [
           {
            "colorbar": {
             "outlinewidth": 0,
             "ticks": ""
            },
            "colorscale": [
             [
              0,
              "#0d0887"
             ],
             [
              0.1111111111111111,
              "#46039f"
             ],
             [
              0.2222222222222222,
              "#7201a8"
             ],
             [
              0.3333333333333333,
              "#9c179e"
             ],
             [
              0.4444444444444444,
              "#bd3786"
             ],
             [
              0.5555555555555556,
              "#d8576b"
             ],
             [
              0.6666666666666666,
              "#ed7953"
             ],
             [
              0.7777777777777778,
              "#fb9f3a"
             ],
             [
              0.8888888888888888,
              "#fdca26"
             ],
             [
              1,
              "#f0f921"
             ]
            ],
            "type": "heatmapgl"
           }
          ],
          "histogram": [
           {
            "marker": {
             "pattern": {
              "fillmode": "overlay",
              "size": 10,
              "solidity": 0.2
             }
            },
            "type": "histogram"
           }
          ],
          "histogram2d": [
           {
            "colorbar": {
             "outlinewidth": 0,
             "ticks": ""
            },
            "colorscale": [
             [
              0,
              "#0d0887"
             ],
             [
              0.1111111111111111,
              "#46039f"
             ],
             [
              0.2222222222222222,
              "#7201a8"
             ],
             [
              0.3333333333333333,
              "#9c179e"
             ],
             [
              0.4444444444444444,
              "#bd3786"
             ],
             [
              0.5555555555555556,
              "#d8576b"
             ],
             [
              0.6666666666666666,
              "#ed7953"
             ],
             [
              0.7777777777777778,
              "#fb9f3a"
             ],
             [
              0.8888888888888888,
              "#fdca26"
             ],
             [
              1,
              "#f0f921"
             ]
            ],
            "type": "histogram2d"
           }
          ],
          "histogram2dcontour": [
           {
            "colorbar": {
             "outlinewidth": 0,
             "ticks": ""
            },
            "colorscale": [
             [
              0,
              "#0d0887"
             ],
             [
              0.1111111111111111,
              "#46039f"
             ],
             [
              0.2222222222222222,
              "#7201a8"
             ],
             [
              0.3333333333333333,
              "#9c179e"
             ],
             [
              0.4444444444444444,
              "#bd3786"
             ],
             [
              0.5555555555555556,
              "#d8576b"
             ],
             [
              0.6666666666666666,
              "#ed7953"
             ],
             [
              0.7777777777777778,
              "#fb9f3a"
             ],
             [
              0.8888888888888888,
              "#fdca26"
             ],
             [
              1,
              "#f0f921"
             ]
            ],
            "type": "histogram2dcontour"
           }
          ],
          "mesh3d": [
           {
            "colorbar": {
             "outlinewidth": 0,
             "ticks": ""
            },
            "type": "mesh3d"
           }
          ],
          "parcoords": [
           {
            "line": {
             "colorbar": {
              "outlinewidth": 0,
              "ticks": ""
             }
            },
            "type": "parcoords"
           }
          ],
          "pie": [
           {
            "automargin": true,
            "type": "pie"
           }
          ],
          "scatter": [
           {
            "marker": {
             "colorbar": {
              "outlinewidth": 0,
              "ticks": ""
             }
            },
            "type": "scatter"
           }
          ],
          "scatter3d": [
           {
            "line": {
             "colorbar": {
              "outlinewidth": 0,
              "ticks": ""
             }
            },
            "marker": {
             "colorbar": {
              "outlinewidth": 0,
              "ticks": ""
             }
            },
            "type": "scatter3d"
           }
          ],
          "scattercarpet": [
           {
            "marker": {
             "colorbar": {
              "outlinewidth": 0,
              "ticks": ""
             }
            },
            "type": "scattercarpet"
           }
          ],
          "scattergeo": [
           {
            "marker": {
             "colorbar": {
              "outlinewidth": 0,
              "ticks": ""
             }
            },
            "type": "scattergeo"
           }
          ],
          "scattergl": [
           {
            "marker": {
             "colorbar": {
              "outlinewidth": 0,
              "ticks": ""
             }
            },
            "type": "scattergl"
           }
          ],
          "scattermapbox": [
           {
            "marker": {
             "colorbar": {
              "outlinewidth": 0,
              "ticks": ""
             }
            },
            "type": "scattermapbox"
           }
          ],
          "scatterpolar": [
           {
            "marker": {
             "colorbar": {
              "outlinewidth": 0,
              "ticks": ""
             }
            },
            "type": "scatterpolar"
           }
          ],
          "scatterpolargl": [
           {
            "marker": {
             "colorbar": {
              "outlinewidth": 0,
              "ticks": ""
             }
            },
            "type": "scatterpolargl"
           }
          ],
          "scatterternary": [
           {
            "marker": {
             "colorbar": {
              "outlinewidth": 0,
              "ticks": ""
             }
            },
            "type": "scatterternary"
           }
          ],
          "surface": [
           {
            "colorbar": {
             "outlinewidth": 0,
             "ticks": ""
            },
            "colorscale": [
             [
              0,
              "#0d0887"
             ],
             [
              0.1111111111111111,
              "#46039f"
             ],
             [
              0.2222222222222222,
              "#7201a8"
             ],
             [
              0.3333333333333333,
              "#9c179e"
             ],
             [
              0.4444444444444444,
              "#bd3786"
             ],
             [
              0.5555555555555556,
              "#d8576b"
             ],
             [
              0.6666666666666666,
              "#ed7953"
             ],
             [
              0.7777777777777778,
              "#fb9f3a"
             ],
             [
              0.8888888888888888,
              "#fdca26"
             ],
             [
              1,
              "#f0f921"
             ]
            ],
            "type": "surface"
           }
          ],
          "table": [
           {
            "cells": {
             "fill": {
              "color": "#EBF0F8"
             },
             "line": {
              "color": "white"
             }
            },
            "header": {
             "fill": {
              "color": "#C8D4E3"
             },
             "line": {
              "color": "white"
             }
            },
            "type": "table"
           }
          ]
         },
         "layout": {
          "annotationdefaults": {
           "arrowcolor": "#2a3f5f",
           "arrowhead": 0,
           "arrowwidth": 1
          },
          "autotypenumbers": "strict",
          "coloraxis": {
           "colorbar": {
            "outlinewidth": 0,
            "ticks": ""
           }
          },
          "colorscale": {
           "diverging": [
            [
             0,
             "#8e0152"
            ],
            [
             0.1,
             "#c51b7d"
            ],
            [
             0.2,
             "#de77ae"
            ],
            [
             0.3,
             "#f1b6da"
            ],
            [
             0.4,
             "#fde0ef"
            ],
            [
             0.5,
             "#f7f7f7"
            ],
            [
             0.6,
             "#e6f5d0"
            ],
            [
             0.7,
             "#b8e186"
            ],
            [
             0.8,
             "#7fbc41"
            ],
            [
             0.9,
             "#4d9221"
            ],
            [
             1,
             "#276419"
            ]
           ],
           "sequential": [
            [
             0,
             "#0d0887"
            ],
            [
             0.1111111111111111,
             "#46039f"
            ],
            [
             0.2222222222222222,
             "#7201a8"
            ],
            [
             0.3333333333333333,
             "#9c179e"
            ],
            [
             0.4444444444444444,
             "#bd3786"
            ],
            [
             0.5555555555555556,
             "#d8576b"
            ],
            [
             0.6666666666666666,
             "#ed7953"
            ],
            [
             0.7777777777777778,
             "#fb9f3a"
            ],
            [
             0.8888888888888888,
             "#fdca26"
            ],
            [
             1,
             "#f0f921"
            ]
           ],
           "sequentialminus": [
            [
             0,
             "#0d0887"
            ],
            [
             0.1111111111111111,
             "#46039f"
            ],
            [
             0.2222222222222222,
             "#7201a8"
            ],
            [
             0.3333333333333333,
             "#9c179e"
            ],
            [
             0.4444444444444444,
             "#bd3786"
            ],
            [
             0.5555555555555556,
             "#d8576b"
            ],
            [
             0.6666666666666666,
             "#ed7953"
            ],
            [
             0.7777777777777778,
             "#fb9f3a"
            ],
            [
             0.8888888888888888,
             "#fdca26"
            ],
            [
             1,
             "#f0f921"
            ]
           ]
          },
          "colorway": [
           "#636efa",
           "#EF553B",
           "#00cc96",
           "#ab63fa",
           "#FFA15A",
           "#19d3f3",
           "#FF6692",
           "#B6E880",
           "#FF97FF",
           "#FECB52"
          ],
          "font": {
           "color": "#2a3f5f"
          },
          "geo": {
           "bgcolor": "white",
           "lakecolor": "white",
           "landcolor": "#E5ECF6",
           "showlakes": true,
           "showland": true,
           "subunitcolor": "white"
          },
          "hoverlabel": {
           "align": "left"
          },
          "hovermode": "closest",
          "mapbox": {
           "style": "light"
          },
          "paper_bgcolor": "white",
          "plot_bgcolor": "#E5ECF6",
          "polar": {
           "angularaxis": {
            "gridcolor": "white",
            "linecolor": "white",
            "ticks": ""
           },
           "bgcolor": "#E5ECF6",
           "radialaxis": {
            "gridcolor": "white",
            "linecolor": "white",
            "ticks": ""
           }
          },
          "scene": {
           "xaxis": {
            "backgroundcolor": "#E5ECF6",
            "gridcolor": "white",
            "gridwidth": 2,
            "linecolor": "white",
            "showbackground": true,
            "ticks": "",
            "zerolinecolor": "white"
           },
           "yaxis": {
            "backgroundcolor": "#E5ECF6",
            "gridcolor": "white",
            "gridwidth": 2,
            "linecolor": "white",
            "showbackground": true,
            "ticks": "",
            "zerolinecolor": "white"
           },
           "zaxis": {
            "backgroundcolor": "#E5ECF6",
            "gridcolor": "white",
            "gridwidth": 2,
            "linecolor": "white",
            "showbackground": true,
            "ticks": "",
            "zerolinecolor": "white"
           }
          },
          "shapedefaults": {
           "line": {
            "color": "#2a3f5f"
           }
          },
          "ternary": {
           "aaxis": {
            "gridcolor": "white",
            "linecolor": "white",
            "ticks": ""
           },
           "baxis": {
            "gridcolor": "white",
            "linecolor": "white",
            "ticks": ""
           },
           "bgcolor": "#E5ECF6",
           "caxis": {
            "gridcolor": "white",
            "linecolor": "white",
            "ticks": ""
           }
          },
          "title": {
           "x": 0.05
          },
          "xaxis": {
           "automargin": true,
           "gridcolor": "white",
           "linecolor": "white",
           "ticks": "",
           "title": {
            "standoff": 15
           },
           "zerolinecolor": "white",
           "zerolinewidth": 2
          },
          "yaxis": {
           "automargin": true,
           "gridcolor": "white",
           "linecolor": "white",
           "ticks": "",
           "title": {
            "standoff": 15
           },
           "zerolinecolor": "white",
           "zerolinewidth": 2
          }
         }
        },
        "xaxis": {
         "anchor": "y",
         "domain": [
          0,
          1
         ],
         "title": {
          "text": "value"
         }
        },
        "yaxis": {
         "anchor": "x",
         "domain": [
          0,
          1
         ],
         "title": {
          "text": "count"
         }
        }
       }
      },
      "text/html": [
       "<div>                            <div id=\"13c90910-a6d4-4991-bc05-153a14ce3aad\" class=\"plotly-graph-div\" style=\"height:525px; width:100%;\"></div>            <script type=\"text/javascript\">                require([\"plotly\"], function(Plotly) {                    window.PLOTLYENV=window.PLOTLYENV || {};                                    if (document.getElementById(\"13c90910-a6d4-4991-bc05-153a14ce3aad\")) {                    Plotly.newPlot(                        \"13c90910-a6d4-4991-bc05-153a14ce3aad\",                        [{\"alignmentgroup\":\"True\",\"bingroup\":\"x\",\"hovertemplate\":\"variable=0<br>value=%{x}<br>count=%{y}<extra></extra>\",\"legendgroup\":\"0\",\"marker\":{\"color\":\"#636efa\",\"pattern\":{\"shape\":\"\"}},\"name\":\"0\",\"nbinsx\":20,\"offsetgroup\":\"0\",\"orientation\":\"v\",\"showlegend\":true,\"type\":\"histogram\",\"x\":[0.2613333333333333,0.11333333333333333,0.010666666666666666,-0.052,0.11333333333333333,0.35733333333333334,-0.10666666666666667,0.005333333333333333,-0.006666666666666667,0.07733333333333334,0.006666666666666667,0.012,0.044,0.12933333333333333,0.02,0.056,-0.14666666666666667,-0.012,-0.03866666666666667,0.092,0.08,-0.08266666666666667,-0.044,0.264,-0.02,-0.112,-0.044,0.03866666666666667,-0.11733333333333333,0.15866666666666668,0.08,-0.042666666666666665,0.14266666666666666,0.016,0.028,-0.10133333333333333,0.07333333333333333,-0.08133333333333333,0.02,0.0026666666666666666,0.02666666666666667,-0.14533333333333334,0.076,-0.034666666666666665,-0.076,0.07733333333333334,0.014666666666666666,-0.208,0.04,0.13333333333333333,0.076,0.10933333333333334,0.104,0.05333333333333334,-0.058666666666666666,-0.008,-0.252,-0.08266666666666667,0.05333333333333334,-0.025333333333333333,0.244,0.08533333333333333,0.016,0.13066666666666665,-0.072,-0.15866666666666668,-0.03866666666666667,-0.10266666666666667,-0.036,-0.018666666666666668,-0.04533333333333334,0.04666666666666667,-0.14133333333333334,-0.010666666666666666,0.12266666666666666,-0.096,-0.208,-0.064,-0.052,0.024,-0.11066666666666666,-0.19866666666666666,-0.08533333333333333,-0.05733333333333333,-0.208,0.10266666666666667,0.244,-0.048,0.14533333333333334,0.05333333333333334,0.012,-0.04,0.008,0.009333333333333334,0.04933333333333333,-0.024,-0.037333333333333336,-0.09866666666666667,0.0026666666666666666,-0.15866666666666668,-0.07466666666666667,0.06666666666666667,0.02666666666666667,-0.136,0.052,-0.004,0.014666666666666666,0.06,0.09066666666666667,-0.136,0.08,0.08933333333333333,-0.02266666666666667,0.09066666666666667,-0.18266666666666667,0.012,0.072,0.04533333333333334,0.15333333333333332,0.050666666666666665,0.12133333333333333,0.013333333333333334,0.14133333333333334,-0.04,0.08666666666666667,-0.072,-0.164,0.08,-0.006666666666666667,-0.20266666666666666,-0.02,-0.15333333333333332,-0.05733333333333333,-0.013333333333333334,0.034666666666666665,-0.0013333333333333333,-0.017333333333333333,0.09333333333333334,-0.10666666666666667,-0.013333333333333334,0.08533333333333333,-0.152,0.02,-0.2,0.037333333333333336,-0.024,0.144,0.07466666666666667,0.036,-0.10266666666666667,0.21866666666666668,0.030666666666666665,-0.096,0.009333333333333334,0.24,-0.12266666666666666,-0.042666666666666665,0.07733333333333334,0.156,0.12933333333333333,-0.036,-0.19866666666666666,0.10533333333333333,-0.168,0.013333333333333334,0.05466666666666667,-0.0013333333333333333,-0.096,-0.11866666666666667,0.006666666666666667,-0.02666666666666667,0.13066666666666665,-0.048,-0.05733333333333333,0.08133333333333333,0.112,0.148,-0.188,-0.10533333333333333,0.04,-0.008,-0.23733333333333334,-0.013333333333333334,0.15466666666666667,-0.04133333333333333,0.152,-0.17733333333333334,-0.11066666666666666,0.11066666666666666,0.042666666666666665,0.19066666666666668,-0.15066666666666667,-0.05733333333333333,-0.06533333333333333,-0.24533333333333332,-0.07466666666666667,-0.08,0.17333333333333334,0.13733333333333334,-0.07333333333333333,-0.016,0.04133333333333333,0.036,0.068,0.07333333333333333,-0.0013333333333333333,-0.13333333333333333,-0.06266666666666666,0.13066666666666665,-0.12,-0.08666666666666667,0.06533333333333333,-0.168,0.132,-0.013333333333333334,0.17866666666666667,-0.006666666666666667,-0.08266666666666667,-0.0026666666666666666,0.036,0.14666666666666667,-0.029333333333333333,-0.14533333333333334,0.02266666666666667,0.03333333333333333,0.05333333333333334,0.06133333333333333,0.068,0.1,0.12,0.19733333333333333,0.005333333333333333,0.056,0.10666666666666667,-0.10666666666666667,0.10933333333333334,-0.04933333333333333,0.05333333333333334,0.084,-0.112,0.08666666666666667,-0.06266666666666666,-0.09066666666666667,-0.044,0.096,0.052,0.024,0.064,0.06266666666666666,0.017333333333333333,0.2786666666666667,0.2653333333333333,0.012,0.10666666666666667,0.156,-0.13333333333333333,-0.04533333333333334,0.02266666666666667,0.14,-0.014666666666666666,0.016,-0.10133333333333333,-0.013333333333333334,-0.05466666666666667,-0.14533333333333334,-0.06933333333333333,0.23333333333333334,-0.076,0.128,0.10933333333333334,-0.037333333333333336,-0.08133333333333333,-0.2653333333333333,0.104,-0.14133333333333334,0.08933333333333333,0.06266666666666666,-0.124,-0.10533333333333333,0.037333333333333336,0.05466666666666667,0.02266666666666667,0.084,0.07866666666666666,0.0026666666666666666,0.021333333333333333,0.028,0.13333333333333333,0.010666666666666666,-0.16133333333333333,0.009333333333333334,0.0,-0.021333333333333333,0.037333333333333336,0.048,-0.037333333333333336,0.13466666666666666,-0.112,0.048,-0.13333333333333333,0.044,0.04933333333333333,0.006666666666666667,0.032,-0.1,0.07866666666666666,-0.013333333333333334,0.12266666666666666,0.02,-0.0013333333333333333,-0.09333333333333334,-0.15866666666666668,0.06266666666666666,0.048,-0.05333333333333334,-0.042666666666666665,-0.22,0.072,-0.06933333333333333,-0.02666666666666667,0.0026666666666666666,-0.17866666666666667,-0.088,0.128,-0.06133333333333333,0.029333333333333333,-0.11466666666666667,0.037333333333333336,-0.056,0.13066666666666665,0.08533333333333333,-0.1,-0.04533333333333334,-0.18,-0.08,0.076,-0.10533333333333333,-0.013333333333333334,0.132,-0.1,-0.176,0.037333333333333336,0.11733333333333333,-0.11733333333333333,0.12533333333333332,-0.08666666666666667,-0.132,0.008,0.004,-0.09733333333333333,-0.15866666666666668,-0.08666666666666667,0.034666666666666665,-0.04533333333333334,0.016,0.148,0.06666666666666667,0.2813333333333333,0.14933333333333335,-0.13066666666666665,-0.132,0.06666666666666667,0.018666666666666668,-0.018666666666666668,0.036,-0.14666666666666667,0.04133333333333333,0.08666666666666667,-0.3293333333333333,-0.05733333333333333,-0.05466666666666667,-0.013333333333333334,-0.132,-0.08933333333333333,0.108,-0.13066666666666665,-0.009333333333333334,0.04533333333333334,0.07733333333333334,0.07466666666666667,-0.044,0.15733333333333333,-0.024,-0.032,-0.10266666666666667,-0.06266666666666666,0.12133333333333333,0.042666666666666665,0.264,-0.13466666666666666,-0.06133333333333333,0.03333333333333333,0.017333333333333333,0.09066666666666667,-0.03333333333333333,0.0026666666666666666,0.034666666666666665,-0.02266666666666667,0.112,0.09466666666666666,0.06666666666666667,-0.044,0.044,0.06133333333333333,-0.006666666666666667,0.037333333333333336,0.058666666666666666,0.156,0.006666666666666667,-0.04533333333333334,-0.13066666666666665,-0.06266666666666666,0.012,-0.034666666666666665,-0.09866666666666667,0.088,-0.172,-0.012,0.02666666666666667,-0.12933333333333333,-0.04933333333333333,-0.08533333333333333,-0.25866666666666666,0.156,0.06133333333333333,0.10133333333333333,0.10933333333333334,-0.032,-0.128,0.03333333333333333,0.009333333333333334,-0.076,0.005333333333333333,-0.14533333333333334,0.06933333333333333,-0.13333333333333333,-0.02666666666666667,0.18933333333333333,-0.09333333333333334,-0.04133333333333333,0.016,-0.050666666666666665,0.144,0.05466666666666667,0.272,0.013333333333333334,-0.09466666666666666,0.10133333333333333,0.14666666666666667,0.009333333333333334,-0.030666666666666665,-0.042666666666666665,0.044,-0.124,-0.006666666666666667,0.16933333333333334,-0.072,0.017333333333333333,-0.1,-0.084,-0.08,0.07333333333333333,-0.12266666666666666,-0.11466666666666667,0.06666666666666667,0.02266666666666667,0.18933333333333333,-0.128,0.108,0.17466666666666666,-0.07866666666666666,-0.014666666666666666,0.010666666666666666,-0.03866666666666667,0.09466666666666666,0.084,-0.09466666666666666,-0.068,0.16666666666666666,-0.212,0.004,0.256,0.256,-0.12666666666666668,0.05466666666666667,-0.028,0.056,-0.2813333333333333,-0.02666666666666667,0.042666666666666665,0.156,-0.3,0.02666666666666667,-0.17066666666666666,-0.13333333333333333,0.12266666666666666,0.108,-0.028,0.050666666666666665,0.11733333333333333],\"xaxis\":\"x\",\"yaxis\":\"y\"}],                        {\"barmode\":\"relative\",\"legend\":{\"title\":{\"text\":\"variable\"},\"tracegroupgap\":0},\"margin\":{\"t\":60},\"template\":{\"data\":{\"bar\":[{\"error_x\":{\"color\":\"#2a3f5f\"},\"error_y\":{\"color\":\"#2a3f5f\"},\"marker\":{\"line\":{\"color\":\"#E5ECF6\",\"width\":0.5},\"pattern\":{\"fillmode\":\"overlay\",\"size\":10,\"solidity\":0.2}},\"type\":\"bar\"}],\"barpolar\":[{\"marker\":{\"line\":{\"color\":\"#E5ECF6\",\"width\":0.5},\"pattern\":{\"fillmode\":\"overlay\",\"size\":10,\"solidity\":0.2}},\"type\":\"barpolar\"}],\"carpet\":[{\"aaxis\":{\"endlinecolor\":\"#2a3f5f\",\"gridcolor\":\"white\",\"linecolor\":\"white\",\"minorgridcolor\":\"white\",\"startlinecolor\":\"#2a3f5f\"},\"baxis\":{\"endlinecolor\":\"#2a3f5f\",\"gridcolor\":\"white\",\"linecolor\":\"white\",\"minorgridcolor\":\"white\",\"startlinecolor\":\"#2a3f5f\"},\"type\":\"carpet\"}],\"choropleth\":[{\"colorbar\":{\"outlinewidth\":0,\"ticks\":\"\"},\"type\":\"choropleth\"}],\"contour\":[{\"colorbar\":{\"outlinewidth\":0,\"ticks\":\"\"},\"colorscale\":[[0.0,\"#0d0887\"],[0.1111111111111111,\"#46039f\"],[0.2222222222222222,\"#7201a8\"],[0.3333333333333333,\"#9c179e\"],[0.4444444444444444,\"#bd3786\"],[0.5555555555555556,\"#d8576b\"],[0.6666666666666666,\"#ed7953\"],[0.7777777777777778,\"#fb9f3a\"],[0.8888888888888888,\"#fdca26\"],[1.0,\"#f0f921\"]],\"type\":\"contour\"}],\"contourcarpet\":[{\"colorbar\":{\"outlinewidth\":0,\"ticks\":\"\"},\"type\":\"contourcarpet\"}],\"heatmap\":[{\"colorbar\":{\"outlinewidth\":0,\"ticks\":\"\"},\"colorscale\":[[0.0,\"#0d0887\"],[0.1111111111111111,\"#46039f\"],[0.2222222222222222,\"#7201a8\"],[0.3333333333333333,\"#9c179e\"],[0.4444444444444444,\"#bd3786\"],[0.5555555555555556,\"#d8576b\"],[0.6666666666666666,\"#ed7953\"],[0.7777777777777778,\"#fb9f3a\"],[0.8888888888888888,\"#fdca26\"],[1.0,\"#f0f921\"]],\"type\":\"heatmap\"}],\"heatmapgl\":[{\"colorbar\":{\"outlinewidth\":0,\"ticks\":\"\"},\"colorscale\":[[0.0,\"#0d0887\"],[0.1111111111111111,\"#46039f\"],[0.2222222222222222,\"#7201a8\"],[0.3333333333333333,\"#9c179e\"],[0.4444444444444444,\"#bd3786\"],[0.5555555555555556,\"#d8576b\"],[0.6666666666666666,\"#ed7953\"],[0.7777777777777778,\"#fb9f3a\"],[0.8888888888888888,\"#fdca26\"],[1.0,\"#f0f921\"]],\"type\":\"heatmapgl\"}],\"histogram\":[{\"marker\":{\"pattern\":{\"fillmode\":\"overlay\",\"size\":10,\"solidity\":0.2}},\"type\":\"histogram\"}],\"histogram2d\":[{\"colorbar\":{\"outlinewidth\":0,\"ticks\":\"\"},\"colorscale\":[[0.0,\"#0d0887\"],[0.1111111111111111,\"#46039f\"],[0.2222222222222222,\"#7201a8\"],[0.3333333333333333,\"#9c179e\"],[0.4444444444444444,\"#bd3786\"],[0.5555555555555556,\"#d8576b\"],[0.6666666666666666,\"#ed7953\"],[0.7777777777777778,\"#fb9f3a\"],[0.8888888888888888,\"#fdca26\"],[1.0,\"#f0f921\"]],\"type\":\"histogram2d\"}],\"histogram2dcontour\":[{\"colorbar\":{\"outlinewidth\":0,\"ticks\":\"\"},\"colorscale\":[[0.0,\"#0d0887\"],[0.1111111111111111,\"#46039f\"],[0.2222222222222222,\"#7201a8\"],[0.3333333333333333,\"#9c179e\"],[0.4444444444444444,\"#bd3786\"],[0.5555555555555556,\"#d8576b\"],[0.6666666666666666,\"#ed7953\"],[0.7777777777777778,\"#fb9f3a\"],[0.8888888888888888,\"#fdca26\"],[1.0,\"#f0f921\"]],\"type\":\"histogram2dcontour\"}],\"mesh3d\":[{\"colorbar\":{\"outlinewidth\":0,\"ticks\":\"\"},\"type\":\"mesh3d\"}],\"parcoords\":[{\"line\":{\"colorbar\":{\"outlinewidth\":0,\"ticks\":\"\"}},\"type\":\"parcoords\"}],\"pie\":[{\"automargin\":true,\"type\":\"pie\"}],\"scatter\":[{\"marker\":{\"colorbar\":{\"outlinewidth\":0,\"ticks\":\"\"}},\"type\":\"scatter\"}],\"scatter3d\":[{\"line\":{\"colorbar\":{\"outlinewidth\":0,\"ticks\":\"\"}},\"marker\":{\"colorbar\":{\"outlinewidth\":0,\"ticks\":\"\"}},\"type\":\"scatter3d\"}],\"scattercarpet\":[{\"marker\":{\"colorbar\":{\"outlinewidth\":0,\"ticks\":\"\"}},\"type\":\"scattercarpet\"}],\"scattergeo\":[{\"marker\":{\"colorbar\":{\"outlinewidth\":0,\"ticks\":\"\"}},\"type\":\"scattergeo\"}],\"scattergl\":[{\"marker\":{\"colorbar\":{\"outlinewidth\":0,\"ticks\":\"\"}},\"type\":\"scattergl\"}],\"scattermapbox\":[{\"marker\":{\"colorbar\":{\"outlinewidth\":0,\"ticks\":\"\"}},\"type\":\"scattermapbox\"}],\"scatterpolar\":[{\"marker\":{\"colorbar\":{\"outlinewidth\":0,\"ticks\":\"\"}},\"type\":\"scatterpolar\"}],\"scatterpolargl\":[{\"marker\":{\"colorbar\":{\"outlinewidth\":0,\"ticks\":\"\"}},\"type\":\"scatterpolargl\"}],\"scatterternary\":[{\"marker\":{\"colorbar\":{\"outlinewidth\":0,\"ticks\":\"\"}},\"type\":\"scatterternary\"}],\"surface\":[{\"colorbar\":{\"outlinewidth\":0,\"ticks\":\"\"},\"colorscale\":[[0.0,\"#0d0887\"],[0.1111111111111111,\"#46039f\"],[0.2222222222222222,\"#7201a8\"],[0.3333333333333333,\"#9c179e\"],[0.4444444444444444,\"#bd3786\"],[0.5555555555555556,\"#d8576b\"],[0.6666666666666666,\"#ed7953\"],[0.7777777777777778,\"#fb9f3a\"],[0.8888888888888888,\"#fdca26\"],[1.0,\"#f0f921\"]],\"type\":\"surface\"}],\"table\":[{\"cells\":{\"fill\":{\"color\":\"#EBF0F8\"},\"line\":{\"color\":\"white\"}},\"header\":{\"fill\":{\"color\":\"#C8D4E3\"},\"line\":{\"color\":\"white\"}},\"type\":\"table\"}]},\"layout\":{\"annotationdefaults\":{\"arrowcolor\":\"#2a3f5f\",\"arrowhead\":0,\"arrowwidth\":1},\"autotypenumbers\":\"strict\",\"coloraxis\":{\"colorbar\":{\"outlinewidth\":0,\"ticks\":\"\"}},\"colorscale\":{\"diverging\":[[0,\"#8e0152\"],[0.1,\"#c51b7d\"],[0.2,\"#de77ae\"],[0.3,\"#f1b6da\"],[0.4,\"#fde0ef\"],[0.5,\"#f7f7f7\"],[0.6,\"#e6f5d0\"],[0.7,\"#b8e186\"],[0.8,\"#7fbc41\"],[0.9,\"#4d9221\"],[1,\"#276419\"]],\"sequential\":[[0.0,\"#0d0887\"],[0.1111111111111111,\"#46039f\"],[0.2222222222222222,\"#7201a8\"],[0.3333333333333333,\"#9c179e\"],[0.4444444444444444,\"#bd3786\"],[0.5555555555555556,\"#d8576b\"],[0.6666666666666666,\"#ed7953\"],[0.7777777777777778,\"#fb9f3a\"],[0.8888888888888888,\"#fdca26\"],[1.0,\"#f0f921\"]],\"sequentialminus\":[[0.0,\"#0d0887\"],[0.1111111111111111,\"#46039f\"],[0.2222222222222222,\"#7201a8\"],[0.3333333333333333,\"#9c179e\"],[0.4444444444444444,\"#bd3786\"],[0.5555555555555556,\"#d8576b\"],[0.6666666666666666,\"#ed7953\"],[0.7777777777777778,\"#fb9f3a\"],[0.8888888888888888,\"#fdca26\"],[1.0,\"#f0f921\"]]},\"colorway\":[\"#636efa\",\"#EF553B\",\"#00cc96\",\"#ab63fa\",\"#FFA15A\",\"#19d3f3\",\"#FF6692\",\"#B6E880\",\"#FF97FF\",\"#FECB52\"],\"font\":{\"color\":\"#2a3f5f\"},\"geo\":{\"bgcolor\":\"white\",\"lakecolor\":\"white\",\"landcolor\":\"#E5ECF6\",\"showlakes\":true,\"showland\":true,\"subunitcolor\":\"white\"},\"hoverlabel\":{\"align\":\"left\"},\"hovermode\":\"closest\",\"mapbox\":{\"style\":\"light\"},\"paper_bgcolor\":\"white\",\"plot_bgcolor\":\"#E5ECF6\",\"polar\":{\"angularaxis\":{\"gridcolor\":\"white\",\"linecolor\":\"white\",\"ticks\":\"\"},\"bgcolor\":\"#E5ECF6\",\"radialaxis\":{\"gridcolor\":\"white\",\"linecolor\":\"white\",\"ticks\":\"\"}},\"scene\":{\"xaxis\":{\"backgroundcolor\":\"#E5ECF6\",\"gridcolor\":\"white\",\"gridwidth\":2,\"linecolor\":\"white\",\"showbackground\":true,\"ticks\":\"\",\"zerolinecolor\":\"white\"},\"yaxis\":{\"backgroundcolor\":\"#E5ECF6\",\"gridcolor\":\"white\",\"gridwidth\":2,\"linecolor\":\"white\",\"showbackground\":true,\"ticks\":\"\",\"zerolinecolor\":\"white\"},\"zaxis\":{\"backgroundcolor\":\"#E5ECF6\",\"gridcolor\":\"white\",\"gridwidth\":2,\"linecolor\":\"white\",\"showbackground\":true,\"ticks\":\"\",\"zerolinecolor\":\"white\"}},\"shapedefaults\":{\"line\":{\"color\":\"#2a3f5f\"}},\"ternary\":{\"aaxis\":{\"gridcolor\":\"white\",\"linecolor\":\"white\",\"ticks\":\"\"},\"baxis\":{\"gridcolor\":\"white\",\"linecolor\":\"white\",\"ticks\":\"\"},\"bgcolor\":\"#E5ECF6\",\"caxis\":{\"gridcolor\":\"white\",\"linecolor\":\"white\",\"ticks\":\"\"}},\"title\":{\"x\":0.05},\"xaxis\":{\"automargin\":true,\"gridcolor\":\"white\",\"linecolor\":\"white\",\"ticks\":\"\",\"title\":{\"standoff\":15},\"zerolinecolor\":\"white\",\"zerolinewidth\":2},\"yaxis\":{\"automargin\":true,\"gridcolor\":\"white\",\"linecolor\":\"white\",\"ticks\":\"\",\"title\":{\"standoff\":15},\"zerolinecolor\":\"white\",\"zerolinewidth\":2}}},\"xaxis\":{\"anchor\":\"y\",\"domain\":[0.0,1.0],\"title\":{\"text\":\"value\"}},\"yaxis\":{\"anchor\":\"x\",\"domain\":[0.0,1.0],\"title\":{\"text\":\"count\"}}},                        {\"responsive\": true}                    ).then(function(){\n",
       "                            \n",
       "var gd = document.getElementById('13c90910-a6d4-4991-bc05-153a14ce3aad');\n",
       "var x = new MutationObserver(function (mutations, observer) {{\n",
       "        var display = window.getComputedStyle(gd).display;\n",
       "        if (!display || display === 'none') {{\n",
       "            console.log([gd, 'removed!']);\n",
       "            Plotly.purge(gd);\n",
       "            observer.disconnect();\n",
       "        }}\n",
       "}});\n",
       "\n",
       "// Listen for the removal of the full notebook cells\n",
       "var notebookContainer = gd.closest('#notebook-container');\n",
       "if (notebookContainer) {{\n",
       "    x.observe(notebookContainer, {childList: true});\n",
       "}}\n",
       "\n",
       "// Listen for the clearing of the current output cell\n",
       "var outputEl = gd.closest('.output');\n",
       "if (outputEl) {{\n",
       "    x.observe(outputEl, {childList: true});\n",
       "}}\n",
       "\n",
       "                        })                };                });            </script>        </div>"
      ]
     },
     "metadata": {},
     "output_type": "display_data"
    }
   ],
   "source": [
    "print('skew: ' + str(skew([logifunc_inv(z[19],2,logi_popt[1],-1) for z in many_y])) + ' p value: ' + \\\n",
    "      str(skewtest([logifunc_inv(z[19],2,logi_popt[1],-1)for z in many_y])[1]))\n",
    "print('kurtosis: ' + str(kurtosis([logifunc_inv(z[19],2,logi_popt[1],-1) for z in many_y])) + ' p value: ' + \\\n",
    "      str(kurtosistest([logifunc_inv(z[19],2,logi_popt[1],-1) for z in many_y])[1]))\n",
    "px.histogram([z[19] for z in many_y], nbins = 20)\n"
   ]
  },
  {
   "cell_type": "markdown",
   "id": "1c7e0837",
   "metadata": {},
   "source": [
    "Seems like the result is a normal distribution, or close to it.\n",
    "\n",
    "Now Let's try something slightly different..."
   ]
  },
  {
   "cell_type": "code",
   "execution_count": 29,
   "id": "7068b053",
   "metadata": {},
   "outputs": [
    {
     "data": {
      "application/vnd.plotly.v1+json": {
       "config": {
        "plotlyServerURL": "https://plot.ly"
       },
       "data": [
        {
         "alignmentgroup": "True",
         "bingroup": "x",
         "hovertemplate": "variable=0<br>value=%{x}<br>count=%{y}<extra></extra>",
         "legendgroup": "0",
         "marker": {
          "color": "#636efa",
          "pattern": {
           "shape": ""
          }
         },
         "name": "0",
         "nbinsx": 20,
         "offsetgroup": "0",
         "orientation": "v",
         "showlegend": true,
         "type": "histogram",
         "x": [
          1,
          1,
          1,
          1,
          1,
          -1,
          1,
          -1,
          -1,
          1,
          1,
          1,
          1,
          -1,
          1,
          -1,
          -1,
          -1,
          1,
          -1,
          1,
          -1,
          -1,
          1,
          -1,
          1,
          1,
          1,
          1,
          1,
          1,
          -1,
          -1,
          1,
          -1,
          1,
          -1,
          1,
          1,
          -1,
          1,
          1,
          1,
          -1,
          1,
          -1,
          1,
          -1,
          1,
          -1,
          -1,
          1,
          -1,
          -1,
          1,
          1,
          -1,
          -1,
          -1,
          1,
          1,
          -1,
          1,
          -1,
          -1,
          1,
          1,
          1,
          -1,
          -1,
          1,
          1,
          1,
          -1,
          -1,
          -1,
          -1,
          -1,
          1,
          1,
          1,
          -1,
          1,
          1,
          -1,
          -1,
          -1,
          -1,
          -1,
          -1,
          1,
          -1,
          -1,
          1,
          -1,
          -1,
          1,
          -1,
          1,
          -1,
          1,
          1,
          1,
          -1,
          -1,
          -1,
          1,
          1,
          1,
          1,
          1,
          1,
          1,
          -1,
          1,
          -1,
          1,
          -1,
          -1,
          -1,
          -1,
          1,
          1,
          -1,
          1,
          -1,
          -1,
          1,
          1,
          1,
          1,
          1,
          -1,
          1,
          1,
          -1,
          -1,
          -1,
          1,
          -1,
          -1,
          1,
          1,
          1,
          1,
          1,
          1,
          1,
          1,
          -1,
          1,
          -1,
          -1,
          -1,
          1,
          -1,
          1,
          -1,
          1,
          1,
          -1,
          -1,
          1,
          -1,
          1,
          -1,
          -1,
          -1,
          -1,
          1,
          1,
          -1,
          -1,
          -1,
          1,
          -1,
          1,
          1,
          1,
          1,
          1,
          1,
          -1,
          1,
          -1,
          -1,
          1,
          -1,
          1,
          -1,
          -1,
          -1,
          -1,
          1,
          -1,
          -1,
          -1,
          -1,
          -1,
          1,
          1,
          1,
          1,
          1,
          1,
          -1,
          1,
          1,
          1,
          1,
          1,
          1,
          -1,
          1,
          1,
          1,
          1,
          -1,
          -1,
          1,
          -1,
          -1,
          1,
          -1,
          1,
          1,
          1,
          -1,
          -1,
          1,
          1,
          -1,
          -1,
          1,
          1,
          1,
          -1,
          1,
          1,
          1,
          -1,
          1,
          -1,
          1,
          1,
          -1,
          -1,
          1,
          1,
          1,
          -1,
          1,
          -1,
          -1,
          1,
          -1,
          1,
          -1,
          1,
          1,
          1,
          -1,
          1,
          -1,
          -1,
          -1,
          1,
          -1,
          1,
          -1,
          -1,
          -1,
          -1,
          1,
          -1,
          -1,
          -1,
          1,
          -1,
          1,
          1,
          -1,
          1,
          1,
          1,
          -1,
          -1,
          -1,
          1,
          1,
          1,
          -1,
          1,
          1,
          -1,
          -1,
          1,
          -1,
          1,
          -1,
          1,
          1,
          1,
          -1,
          -1,
          -1,
          1,
          1,
          -1,
          -1,
          1,
          -1,
          -1,
          1,
          -1,
          1,
          -1,
          1,
          1,
          1,
          -1,
          1,
          1,
          1,
          -1,
          -1,
          1,
          -1,
          -1,
          -1,
          -1,
          1,
          1,
          1,
          1,
          1,
          1,
          1,
          -1,
          -1,
          1,
          -1,
          1,
          -1,
          1,
          -1,
          1,
          1,
          -1,
          -1,
          -1,
          1,
          1,
          1,
          -1,
          1,
          1,
          -1,
          -1,
          -1,
          1,
          1,
          1,
          1,
          -1,
          -1,
          -1,
          -1,
          -1,
          1,
          1,
          1,
          -1,
          1,
          -1,
          -1,
          1,
          1,
          1,
          -1,
          -1,
          -1,
          -1,
          -1,
          1,
          -1,
          -1,
          -1,
          1,
          1,
          1,
          -1,
          1,
          -1,
          1,
          -1,
          -1,
          -1,
          1,
          1,
          1,
          1,
          -1,
          -1,
          -1,
          1,
          -1,
          -1,
          1,
          -1,
          1,
          -1,
          1,
          1,
          -1,
          -1,
          1,
          1,
          1,
          1,
          1,
          -1,
          -1,
          1,
          1,
          -1,
          -1,
          -1,
          1,
          1,
          1,
          1,
          -1,
          1,
          -1,
          -1,
          1,
          1,
          1,
          -1,
          1,
          1,
          -1,
          1,
          1,
          -1,
          1,
          -1,
          1,
          1,
          -1,
          1,
          1,
          -1,
          1,
          1,
          1,
          -1,
          1,
          -1,
          1,
          -1,
          1,
          -1,
          -1,
          1,
          1,
          1,
          -1,
          1,
          -1,
          1,
          1,
          -1,
          1,
          -1,
          1,
          1,
          -1,
          -1,
          1,
          -1,
          -1,
          -1,
          1,
          -1,
          -1,
          1,
          -1,
          1,
          1,
          -1,
          -1,
          -1,
          1,
          -1,
          -1,
          1,
          -1,
          1
         ],
         "xaxis": "x",
         "yaxis": "y"
        }
       ],
       "layout": {
        "barmode": "relative",
        "legend": {
         "title": {
          "text": "variable"
         },
         "tracegroupgap": 0
        },
        "margin": {
         "t": 60
        },
        "template": {
         "data": {
          "bar": [
           {
            "error_x": {
             "color": "#2a3f5f"
            },
            "error_y": {
             "color": "#2a3f5f"
            },
            "marker": {
             "line": {
              "color": "#E5ECF6",
              "width": 0.5
             },
             "pattern": {
              "fillmode": "overlay",
              "size": 10,
              "solidity": 0.2
             }
            },
            "type": "bar"
           }
          ],
          "barpolar": [
           {
            "marker": {
             "line": {
              "color": "#E5ECF6",
              "width": 0.5
             },
             "pattern": {
              "fillmode": "overlay",
              "size": 10,
              "solidity": 0.2
             }
            },
            "type": "barpolar"
           }
          ],
          "carpet": [
           {
            "aaxis": {
             "endlinecolor": "#2a3f5f",
             "gridcolor": "white",
             "linecolor": "white",
             "minorgridcolor": "white",
             "startlinecolor": "#2a3f5f"
            },
            "baxis": {
             "endlinecolor": "#2a3f5f",
             "gridcolor": "white",
             "linecolor": "white",
             "minorgridcolor": "white",
             "startlinecolor": "#2a3f5f"
            },
            "type": "carpet"
           }
          ],
          "choropleth": [
           {
            "colorbar": {
             "outlinewidth": 0,
             "ticks": ""
            },
            "type": "choropleth"
           }
          ],
          "contour": [
           {
            "colorbar": {
             "outlinewidth": 0,
             "ticks": ""
            },
            "colorscale": [
             [
              0,
              "#0d0887"
             ],
             [
              0.1111111111111111,
              "#46039f"
             ],
             [
              0.2222222222222222,
              "#7201a8"
             ],
             [
              0.3333333333333333,
              "#9c179e"
             ],
             [
              0.4444444444444444,
              "#bd3786"
             ],
             [
              0.5555555555555556,
              "#d8576b"
             ],
             [
              0.6666666666666666,
              "#ed7953"
             ],
             [
              0.7777777777777778,
              "#fb9f3a"
             ],
             [
              0.8888888888888888,
              "#fdca26"
             ],
             [
              1,
              "#f0f921"
             ]
            ],
            "type": "contour"
           }
          ],
          "contourcarpet": [
           {
            "colorbar": {
             "outlinewidth": 0,
             "ticks": ""
            },
            "type": "contourcarpet"
           }
          ],
          "heatmap": [
           {
            "colorbar": {
             "outlinewidth": 0,
             "ticks": ""
            },
            "colorscale": [
             [
              0,
              "#0d0887"
             ],
             [
              0.1111111111111111,
              "#46039f"
             ],
             [
              0.2222222222222222,
              "#7201a8"
             ],
             [
              0.3333333333333333,
              "#9c179e"
             ],
             [
              0.4444444444444444,
              "#bd3786"
             ],
             [
              0.5555555555555556,
              "#d8576b"
             ],
             [
              0.6666666666666666,
              "#ed7953"
             ],
             [
              0.7777777777777778,
              "#fb9f3a"
             ],
             [
              0.8888888888888888,
              "#fdca26"
             ],
             [
              1,
              "#f0f921"
             ]
            ],
            "type": "heatmap"
           }
          ],
          "heatmapgl": [
           {
            "colorbar": {
             "outlinewidth": 0,
             "ticks": ""
            },
            "colorscale": [
             [
              0,
              "#0d0887"
             ],
             [
              0.1111111111111111,
              "#46039f"
             ],
             [
              0.2222222222222222,
              "#7201a8"
             ],
             [
              0.3333333333333333,
              "#9c179e"
             ],
             [
              0.4444444444444444,
              "#bd3786"
             ],
             [
              0.5555555555555556,
              "#d8576b"
             ],
             [
              0.6666666666666666,
              "#ed7953"
             ],
             [
              0.7777777777777778,
              "#fb9f3a"
             ],
             [
              0.8888888888888888,
              "#fdca26"
             ],
             [
              1,
              "#f0f921"
             ]
            ],
            "type": "heatmapgl"
           }
          ],
          "histogram": [
           {
            "marker": {
             "pattern": {
              "fillmode": "overlay",
              "size": 10,
              "solidity": 0.2
             }
            },
            "type": "histogram"
           }
          ],
          "histogram2d": [
           {
            "colorbar": {
             "outlinewidth": 0,
             "ticks": ""
            },
            "colorscale": [
             [
              0,
              "#0d0887"
             ],
             [
              0.1111111111111111,
              "#46039f"
             ],
             [
              0.2222222222222222,
              "#7201a8"
             ],
             [
              0.3333333333333333,
              "#9c179e"
             ],
             [
              0.4444444444444444,
              "#bd3786"
             ],
             [
              0.5555555555555556,
              "#d8576b"
             ],
             [
              0.6666666666666666,
              "#ed7953"
             ],
             [
              0.7777777777777778,
              "#fb9f3a"
             ],
             [
              0.8888888888888888,
              "#fdca26"
             ],
             [
              1,
              "#f0f921"
             ]
            ],
            "type": "histogram2d"
           }
          ],
          "histogram2dcontour": [
           {
            "colorbar": {
             "outlinewidth": 0,
             "ticks": ""
            },
            "colorscale": [
             [
              0,
              "#0d0887"
             ],
             [
              0.1111111111111111,
              "#46039f"
             ],
             [
              0.2222222222222222,
              "#7201a8"
             ],
             [
              0.3333333333333333,
              "#9c179e"
             ],
             [
              0.4444444444444444,
              "#bd3786"
             ],
             [
              0.5555555555555556,
              "#d8576b"
             ],
             [
              0.6666666666666666,
              "#ed7953"
             ],
             [
              0.7777777777777778,
              "#fb9f3a"
             ],
             [
              0.8888888888888888,
              "#fdca26"
             ],
             [
              1,
              "#f0f921"
             ]
            ],
            "type": "histogram2dcontour"
           }
          ],
          "mesh3d": [
           {
            "colorbar": {
             "outlinewidth": 0,
             "ticks": ""
            },
            "type": "mesh3d"
           }
          ],
          "parcoords": [
           {
            "line": {
             "colorbar": {
              "outlinewidth": 0,
              "ticks": ""
             }
            },
            "type": "parcoords"
           }
          ],
          "pie": [
           {
            "automargin": true,
            "type": "pie"
           }
          ],
          "scatter": [
           {
            "marker": {
             "colorbar": {
              "outlinewidth": 0,
              "ticks": ""
             }
            },
            "type": "scatter"
           }
          ],
          "scatter3d": [
           {
            "line": {
             "colorbar": {
              "outlinewidth": 0,
              "ticks": ""
             }
            },
            "marker": {
             "colorbar": {
              "outlinewidth": 0,
              "ticks": ""
             }
            },
            "type": "scatter3d"
           }
          ],
          "scattercarpet": [
           {
            "marker": {
             "colorbar": {
              "outlinewidth": 0,
              "ticks": ""
             }
            },
            "type": "scattercarpet"
           }
          ],
          "scattergeo": [
           {
            "marker": {
             "colorbar": {
              "outlinewidth": 0,
              "ticks": ""
             }
            },
            "type": "scattergeo"
           }
          ],
          "scattergl": [
           {
            "marker": {
             "colorbar": {
              "outlinewidth": 0,
              "ticks": ""
             }
            },
            "type": "scattergl"
           }
          ],
          "scattermapbox": [
           {
            "marker": {
             "colorbar": {
              "outlinewidth": 0,
              "ticks": ""
             }
            },
            "type": "scattermapbox"
           }
          ],
          "scatterpolar": [
           {
            "marker": {
             "colorbar": {
              "outlinewidth": 0,
              "ticks": ""
             }
            },
            "type": "scatterpolar"
           }
          ],
          "scatterpolargl": [
           {
            "marker": {
             "colorbar": {
              "outlinewidth": 0,
              "ticks": ""
             }
            },
            "type": "scatterpolargl"
           }
          ],
          "scatterternary": [
           {
            "marker": {
             "colorbar": {
              "outlinewidth": 0,
              "ticks": ""
             }
            },
            "type": "scatterternary"
           }
          ],
          "surface": [
           {
            "colorbar": {
             "outlinewidth": 0,
             "ticks": ""
            },
            "colorscale": [
             [
              0,
              "#0d0887"
             ],
             [
              0.1111111111111111,
              "#46039f"
             ],
             [
              0.2222222222222222,
              "#7201a8"
             ],
             [
              0.3333333333333333,
              "#9c179e"
             ],
             [
              0.4444444444444444,
              "#bd3786"
             ],
             [
              0.5555555555555556,
              "#d8576b"
             ],
             [
              0.6666666666666666,
              "#ed7953"
             ],
             [
              0.7777777777777778,
              "#fb9f3a"
             ],
             [
              0.8888888888888888,
              "#fdca26"
             ],
             [
              1,
              "#f0f921"
             ]
            ],
            "type": "surface"
           }
          ],
          "table": [
           {
            "cells": {
             "fill": {
              "color": "#EBF0F8"
             },
             "line": {
              "color": "white"
             }
            },
            "header": {
             "fill": {
              "color": "#C8D4E3"
             },
             "line": {
              "color": "white"
             }
            },
            "type": "table"
           }
          ]
         },
         "layout": {
          "annotationdefaults": {
           "arrowcolor": "#2a3f5f",
           "arrowhead": 0,
           "arrowwidth": 1
          },
          "autotypenumbers": "strict",
          "coloraxis": {
           "colorbar": {
            "outlinewidth": 0,
            "ticks": ""
           }
          },
          "colorscale": {
           "diverging": [
            [
             0,
             "#8e0152"
            ],
            [
             0.1,
             "#c51b7d"
            ],
            [
             0.2,
             "#de77ae"
            ],
            [
             0.3,
             "#f1b6da"
            ],
            [
             0.4,
             "#fde0ef"
            ],
            [
             0.5,
             "#f7f7f7"
            ],
            [
             0.6,
             "#e6f5d0"
            ],
            [
             0.7,
             "#b8e186"
            ],
            [
             0.8,
             "#7fbc41"
            ],
            [
             0.9,
             "#4d9221"
            ],
            [
             1,
             "#276419"
            ]
           ],
           "sequential": [
            [
             0,
             "#0d0887"
            ],
            [
             0.1111111111111111,
             "#46039f"
            ],
            [
             0.2222222222222222,
             "#7201a8"
            ],
            [
             0.3333333333333333,
             "#9c179e"
            ],
            [
             0.4444444444444444,
             "#bd3786"
            ],
            [
             0.5555555555555556,
             "#d8576b"
            ],
            [
             0.6666666666666666,
             "#ed7953"
            ],
            [
             0.7777777777777778,
             "#fb9f3a"
            ],
            [
             0.8888888888888888,
             "#fdca26"
            ],
            [
             1,
             "#f0f921"
            ]
           ],
           "sequentialminus": [
            [
             0,
             "#0d0887"
            ],
            [
             0.1111111111111111,
             "#46039f"
            ],
            [
             0.2222222222222222,
             "#7201a8"
            ],
            [
             0.3333333333333333,
             "#9c179e"
            ],
            [
             0.4444444444444444,
             "#bd3786"
            ],
            [
             0.5555555555555556,
             "#d8576b"
            ],
            [
             0.6666666666666666,
             "#ed7953"
            ],
            [
             0.7777777777777778,
             "#fb9f3a"
            ],
            [
             0.8888888888888888,
             "#fdca26"
            ],
            [
             1,
             "#f0f921"
            ]
           ]
          },
          "colorway": [
           "#636efa",
           "#EF553B",
           "#00cc96",
           "#ab63fa",
           "#FFA15A",
           "#19d3f3",
           "#FF6692",
           "#B6E880",
           "#FF97FF",
           "#FECB52"
          ],
          "font": {
           "color": "#2a3f5f"
          },
          "geo": {
           "bgcolor": "white",
           "lakecolor": "white",
           "landcolor": "#E5ECF6",
           "showlakes": true,
           "showland": true,
           "subunitcolor": "white"
          },
          "hoverlabel": {
           "align": "left"
          },
          "hovermode": "closest",
          "mapbox": {
           "style": "light"
          },
          "paper_bgcolor": "white",
          "plot_bgcolor": "#E5ECF6",
          "polar": {
           "angularaxis": {
            "gridcolor": "white",
            "linecolor": "white",
            "ticks": ""
           },
           "bgcolor": "#E5ECF6",
           "radialaxis": {
            "gridcolor": "white",
            "linecolor": "white",
            "ticks": ""
           }
          },
          "scene": {
           "xaxis": {
            "backgroundcolor": "#E5ECF6",
            "gridcolor": "white",
            "gridwidth": 2,
            "linecolor": "white",
            "showbackground": true,
            "ticks": "",
            "zerolinecolor": "white"
           },
           "yaxis": {
            "backgroundcolor": "#E5ECF6",
            "gridcolor": "white",
            "gridwidth": 2,
            "linecolor": "white",
            "showbackground": true,
            "ticks": "",
            "zerolinecolor": "white"
           },
           "zaxis": {
            "backgroundcolor": "#E5ECF6",
            "gridcolor": "white",
            "gridwidth": 2,
            "linecolor": "white",
            "showbackground": true,
            "ticks": "",
            "zerolinecolor": "white"
           }
          },
          "shapedefaults": {
           "line": {
            "color": "#2a3f5f"
           }
          },
          "ternary": {
           "aaxis": {
            "gridcolor": "white",
            "linecolor": "white",
            "ticks": ""
           },
           "baxis": {
            "gridcolor": "white",
            "linecolor": "white",
            "ticks": ""
           },
           "bgcolor": "#E5ECF6",
           "caxis": {
            "gridcolor": "white",
            "linecolor": "white",
            "ticks": ""
           }
          },
          "title": {
           "x": 0.05
          },
          "xaxis": {
           "automargin": true,
           "gridcolor": "white",
           "linecolor": "white",
           "ticks": "",
           "title": {
            "standoff": 15
           },
           "zerolinecolor": "white",
           "zerolinewidth": 2
          },
          "yaxis": {
           "automargin": true,
           "gridcolor": "white",
           "linecolor": "white",
           "ticks": "",
           "title": {
            "standoff": 15
           },
           "zerolinecolor": "white",
           "zerolinewidth": 2
          }
         }
        },
        "xaxis": {
         "anchor": "y",
         "domain": [
          0,
          1
         ],
         "title": {
          "text": "value"
         }
        },
        "yaxis": {
         "anchor": "x",
         "domain": [
          0,
          1
         ],
         "title": {
          "text": "count"
         }
        }
       }
      },
      "text/html": [
       "<div>                            <div id=\"df8c8e4c-0cff-4eb5-8b78-0d6e2b2c4a58\" class=\"plotly-graph-div\" style=\"height:525px; width:100%;\"></div>            <script type=\"text/javascript\">                require([\"plotly\"], function(Plotly) {                    window.PLOTLYENV=window.PLOTLYENV || {};                                    if (document.getElementById(\"df8c8e4c-0cff-4eb5-8b78-0d6e2b2c4a58\")) {                    Plotly.newPlot(                        \"df8c8e4c-0cff-4eb5-8b78-0d6e2b2c4a58\",                        [{\"alignmentgroup\":\"True\",\"bingroup\":\"x\",\"hovertemplate\":\"variable=0<br>value=%{x}<br>count=%{y}<extra></extra>\",\"legendgroup\":\"0\",\"marker\":{\"color\":\"#636efa\",\"pattern\":{\"shape\":\"\"}},\"name\":\"0\",\"nbinsx\":20,\"offsetgroup\":\"0\",\"orientation\":\"v\",\"showlegend\":true,\"type\":\"histogram\",\"x\":[1.0,1.0,1.0,1.0,1.0,-1.0,1.0,-1.0,-1.0,1.0,1.0,1.0,1.0,-1.0,1.0,-1.0,-1.0,-1.0,1.0,-1.0,1.0,-1.0,-1.0,1.0,-1.0,1.0,1.0,1.0,1.0,1.0,1.0,-1.0,-1.0,1.0,-1.0,1.0,-1.0,1.0,1.0,-1.0,1.0,1.0,1.0,-1.0,1.0,-1.0,1.0,-1.0,1.0,-1.0,-1.0,1.0,-1.0,-1.0,1.0,1.0,-1.0,-1.0,-1.0,1.0,1.0,-1.0,1.0,-1.0,-1.0,1.0,1.0,1.0,-1.0,-1.0,1.0,1.0,1.0,-1.0,-1.0,-1.0,-1.0,-1.0,1.0,1.0,1.0,-1.0,1.0,1.0,-1.0,-1.0,-1.0,-1.0,-1.0,-1.0,1.0,-1.0,-1.0,1.0,-1.0,-1.0,1.0,-1.0,1.0,-1.0,1.0,1.0,1.0,-1.0,-1.0,-1.0,1.0,1.0,1.0,1.0,1.0,1.0,1.0,-1.0,1.0,-1.0,1.0,-1.0,-1.0,-1.0,-1.0,1.0,1.0,-1.0,1.0,-1.0,-1.0,1.0,1.0,1.0,1.0,1.0,-1.0,1.0,1.0,-1.0,-1.0,-1.0,1.0,-1.0,-1.0,1.0,1.0,1.0,1.0,1.0,1.0,1.0,1.0,-1.0,1.0,-1.0,-1.0,-1.0,1.0,-1.0,1.0,-1.0,1.0,1.0,-1.0,-1.0,1.0,-1.0,1.0,-1.0,-1.0,-1.0,-1.0,1.0,1.0,-1.0,-1.0,-1.0,1.0,-1.0,1.0,1.0,1.0,1.0,1.0,1.0,-1.0,1.0,-1.0,-1.0,1.0,-1.0,1.0,-1.0,-1.0,-1.0,-1.0,1.0,-1.0,-1.0,-1.0,-1.0,-1.0,1.0,1.0,1.0,1.0,1.0,1.0,-1.0,1.0,1.0,1.0,1.0,1.0,1.0,-1.0,1.0,1.0,1.0,1.0,-1.0,-1.0,1.0,-1.0,-1.0,1.0,-1.0,1.0,1.0,1.0,-1.0,-1.0,1.0,1.0,-1.0,-1.0,1.0,1.0,1.0,-1.0,1.0,1.0,1.0,-1.0,1.0,-1.0,1.0,1.0,-1.0,-1.0,1.0,1.0,1.0,-1.0,1.0,-1.0,-1.0,1.0,-1.0,1.0,-1.0,1.0,1.0,1.0,-1.0,1.0,-1.0,-1.0,-1.0,1.0,-1.0,1.0,-1.0,-1.0,-1.0,-1.0,1.0,-1.0,-1.0,-1.0,1.0,-1.0,1.0,1.0,-1.0,1.0,1.0,1.0,-1.0,-1.0,-1.0,1.0,1.0,1.0,-1.0,1.0,1.0,-1.0,-1.0,1.0,-1.0,1.0,-1.0,1.0,1.0,1.0,-1.0,-1.0,-1.0,1.0,1.0,-1.0,-1.0,1.0,-1.0,-1.0,1.0,-1.0,1.0,-1.0,1.0,1.0,1.0,-1.0,1.0,1.0,1.0,-1.0,-1.0,1.0,-1.0,-1.0,-1.0,-1.0,1.0,1.0,1.0,1.0,1.0,1.0,1.0,-1.0,-1.0,1.0,-1.0,1.0,-1.0,1.0,-1.0,1.0,1.0,-1.0,-1.0,-1.0,1.0,1.0,1.0,-1.0,1.0,1.0,-1.0,-1.0,-1.0,1.0,1.0,1.0,1.0,-1.0,-1.0,-1.0,-1.0,-1.0,1.0,1.0,1.0,-1.0,1.0,-1.0,-1.0,1.0,1.0,1.0,-1.0,-1.0,-1.0,-1.0,-1.0,1.0,-1.0,-1.0,-1.0,1.0,1.0,1.0,-1.0,1.0,-1.0,1.0,-1.0,-1.0,-1.0,1.0,1.0,1.0,1.0,-1.0,-1.0,-1.0,1.0,-1.0,-1.0,1.0,-1.0,1.0,-1.0,1.0,1.0,-1.0,-1.0,1.0,1.0,1.0,1.0,1.0,-1.0,-1.0,1.0,1.0,-1.0,-1.0,-1.0,1.0,1.0,1.0,1.0,-1.0,1.0,-1.0,-1.0,1.0,1.0,1.0,-1.0,1.0,1.0,-1.0,1.0,1.0,-1.0,1.0,-1.0,1.0,1.0,-1.0,1.0,1.0,-1.0,1.0,1.0,1.0,-1.0,1.0,-1.0,1.0,-1.0,1.0,-1.0,-1.0,1.0,1.0,1.0,-1.0,1.0,-1.0,1.0,1.0,-1.0,1.0,-1.0,1.0,1.0,-1.0,-1.0,1.0,-1.0,-1.0,-1.0,1.0,-1.0,-1.0,1.0,-1.0,1.0,1.0,-1.0,-1.0,-1.0,1.0,-1.0,-1.0,1.0,-1.0,1.0],\"xaxis\":\"x\",\"yaxis\":\"y\"}],                        {\"barmode\":\"relative\",\"legend\":{\"title\":{\"text\":\"variable\"},\"tracegroupgap\":0},\"margin\":{\"t\":60},\"template\":{\"data\":{\"bar\":[{\"error_x\":{\"color\":\"#2a3f5f\"},\"error_y\":{\"color\":\"#2a3f5f\"},\"marker\":{\"line\":{\"color\":\"#E5ECF6\",\"width\":0.5},\"pattern\":{\"fillmode\":\"overlay\",\"size\":10,\"solidity\":0.2}},\"type\":\"bar\"}],\"barpolar\":[{\"marker\":{\"line\":{\"color\":\"#E5ECF6\",\"width\":0.5},\"pattern\":{\"fillmode\":\"overlay\",\"size\":10,\"solidity\":0.2}},\"type\":\"barpolar\"}],\"carpet\":[{\"aaxis\":{\"endlinecolor\":\"#2a3f5f\",\"gridcolor\":\"white\",\"linecolor\":\"white\",\"minorgridcolor\":\"white\",\"startlinecolor\":\"#2a3f5f\"},\"baxis\":{\"endlinecolor\":\"#2a3f5f\",\"gridcolor\":\"white\",\"linecolor\":\"white\",\"minorgridcolor\":\"white\",\"startlinecolor\":\"#2a3f5f\"},\"type\":\"carpet\"}],\"choropleth\":[{\"colorbar\":{\"outlinewidth\":0,\"ticks\":\"\"},\"type\":\"choropleth\"}],\"contour\":[{\"colorbar\":{\"outlinewidth\":0,\"ticks\":\"\"},\"colorscale\":[[0.0,\"#0d0887\"],[0.1111111111111111,\"#46039f\"],[0.2222222222222222,\"#7201a8\"],[0.3333333333333333,\"#9c179e\"],[0.4444444444444444,\"#bd3786\"],[0.5555555555555556,\"#d8576b\"],[0.6666666666666666,\"#ed7953\"],[0.7777777777777778,\"#fb9f3a\"],[0.8888888888888888,\"#fdca26\"],[1.0,\"#f0f921\"]],\"type\":\"contour\"}],\"contourcarpet\":[{\"colorbar\":{\"outlinewidth\":0,\"ticks\":\"\"},\"type\":\"contourcarpet\"}],\"heatmap\":[{\"colorbar\":{\"outlinewidth\":0,\"ticks\":\"\"},\"colorscale\":[[0.0,\"#0d0887\"],[0.1111111111111111,\"#46039f\"],[0.2222222222222222,\"#7201a8\"],[0.3333333333333333,\"#9c179e\"],[0.4444444444444444,\"#bd3786\"],[0.5555555555555556,\"#d8576b\"],[0.6666666666666666,\"#ed7953\"],[0.7777777777777778,\"#fb9f3a\"],[0.8888888888888888,\"#fdca26\"],[1.0,\"#f0f921\"]],\"type\":\"heatmap\"}],\"heatmapgl\":[{\"colorbar\":{\"outlinewidth\":0,\"ticks\":\"\"},\"colorscale\":[[0.0,\"#0d0887\"],[0.1111111111111111,\"#46039f\"],[0.2222222222222222,\"#7201a8\"],[0.3333333333333333,\"#9c179e\"],[0.4444444444444444,\"#bd3786\"],[0.5555555555555556,\"#d8576b\"],[0.6666666666666666,\"#ed7953\"],[0.7777777777777778,\"#fb9f3a\"],[0.8888888888888888,\"#fdca26\"],[1.0,\"#f0f921\"]],\"type\":\"heatmapgl\"}],\"histogram\":[{\"marker\":{\"pattern\":{\"fillmode\":\"overlay\",\"size\":10,\"solidity\":0.2}},\"type\":\"histogram\"}],\"histogram2d\":[{\"colorbar\":{\"outlinewidth\":0,\"ticks\":\"\"},\"colorscale\":[[0.0,\"#0d0887\"],[0.1111111111111111,\"#46039f\"],[0.2222222222222222,\"#7201a8\"],[0.3333333333333333,\"#9c179e\"],[0.4444444444444444,\"#bd3786\"],[0.5555555555555556,\"#d8576b\"],[0.6666666666666666,\"#ed7953\"],[0.7777777777777778,\"#fb9f3a\"],[0.8888888888888888,\"#fdca26\"],[1.0,\"#f0f921\"]],\"type\":\"histogram2d\"}],\"histogram2dcontour\":[{\"colorbar\":{\"outlinewidth\":0,\"ticks\":\"\"},\"colorscale\":[[0.0,\"#0d0887\"],[0.1111111111111111,\"#46039f\"],[0.2222222222222222,\"#7201a8\"],[0.3333333333333333,\"#9c179e\"],[0.4444444444444444,\"#bd3786\"],[0.5555555555555556,\"#d8576b\"],[0.6666666666666666,\"#ed7953\"],[0.7777777777777778,\"#fb9f3a\"],[0.8888888888888888,\"#fdca26\"],[1.0,\"#f0f921\"]],\"type\":\"histogram2dcontour\"}],\"mesh3d\":[{\"colorbar\":{\"outlinewidth\":0,\"ticks\":\"\"},\"type\":\"mesh3d\"}],\"parcoords\":[{\"line\":{\"colorbar\":{\"outlinewidth\":0,\"ticks\":\"\"}},\"type\":\"parcoords\"}],\"pie\":[{\"automargin\":true,\"type\":\"pie\"}],\"scatter\":[{\"marker\":{\"colorbar\":{\"outlinewidth\":0,\"ticks\":\"\"}},\"type\":\"scatter\"}],\"scatter3d\":[{\"line\":{\"colorbar\":{\"outlinewidth\":0,\"ticks\":\"\"}},\"marker\":{\"colorbar\":{\"outlinewidth\":0,\"ticks\":\"\"}},\"type\":\"scatter3d\"}],\"scattercarpet\":[{\"marker\":{\"colorbar\":{\"outlinewidth\":0,\"ticks\":\"\"}},\"type\":\"scattercarpet\"}],\"scattergeo\":[{\"marker\":{\"colorbar\":{\"outlinewidth\":0,\"ticks\":\"\"}},\"type\":\"scattergeo\"}],\"scattergl\":[{\"marker\":{\"colorbar\":{\"outlinewidth\":0,\"ticks\":\"\"}},\"type\":\"scattergl\"}],\"scattermapbox\":[{\"marker\":{\"colorbar\":{\"outlinewidth\":0,\"ticks\":\"\"}},\"type\":\"scattermapbox\"}],\"scatterpolar\":[{\"marker\":{\"colorbar\":{\"outlinewidth\":0,\"ticks\":\"\"}},\"type\":\"scatterpolar\"}],\"scatterpolargl\":[{\"marker\":{\"colorbar\":{\"outlinewidth\":0,\"ticks\":\"\"}},\"type\":\"scatterpolargl\"}],\"scatterternary\":[{\"marker\":{\"colorbar\":{\"outlinewidth\":0,\"ticks\":\"\"}},\"type\":\"scatterternary\"}],\"surface\":[{\"colorbar\":{\"outlinewidth\":0,\"ticks\":\"\"},\"colorscale\":[[0.0,\"#0d0887\"],[0.1111111111111111,\"#46039f\"],[0.2222222222222222,\"#7201a8\"],[0.3333333333333333,\"#9c179e\"],[0.4444444444444444,\"#bd3786\"],[0.5555555555555556,\"#d8576b\"],[0.6666666666666666,\"#ed7953\"],[0.7777777777777778,\"#fb9f3a\"],[0.8888888888888888,\"#fdca26\"],[1.0,\"#f0f921\"]],\"type\":\"surface\"}],\"table\":[{\"cells\":{\"fill\":{\"color\":\"#EBF0F8\"},\"line\":{\"color\":\"white\"}},\"header\":{\"fill\":{\"color\":\"#C8D4E3\"},\"line\":{\"color\":\"white\"}},\"type\":\"table\"}]},\"layout\":{\"annotationdefaults\":{\"arrowcolor\":\"#2a3f5f\",\"arrowhead\":0,\"arrowwidth\":1},\"autotypenumbers\":\"strict\",\"coloraxis\":{\"colorbar\":{\"outlinewidth\":0,\"ticks\":\"\"}},\"colorscale\":{\"diverging\":[[0,\"#8e0152\"],[0.1,\"#c51b7d\"],[0.2,\"#de77ae\"],[0.3,\"#f1b6da\"],[0.4,\"#fde0ef\"],[0.5,\"#f7f7f7\"],[0.6,\"#e6f5d0\"],[0.7,\"#b8e186\"],[0.8,\"#7fbc41\"],[0.9,\"#4d9221\"],[1,\"#276419\"]],\"sequential\":[[0.0,\"#0d0887\"],[0.1111111111111111,\"#46039f\"],[0.2222222222222222,\"#7201a8\"],[0.3333333333333333,\"#9c179e\"],[0.4444444444444444,\"#bd3786\"],[0.5555555555555556,\"#d8576b\"],[0.6666666666666666,\"#ed7953\"],[0.7777777777777778,\"#fb9f3a\"],[0.8888888888888888,\"#fdca26\"],[1.0,\"#f0f921\"]],\"sequentialminus\":[[0.0,\"#0d0887\"],[0.1111111111111111,\"#46039f\"],[0.2222222222222222,\"#7201a8\"],[0.3333333333333333,\"#9c179e\"],[0.4444444444444444,\"#bd3786\"],[0.5555555555555556,\"#d8576b\"],[0.6666666666666666,\"#ed7953\"],[0.7777777777777778,\"#fb9f3a\"],[0.8888888888888888,\"#fdca26\"],[1.0,\"#f0f921\"]]},\"colorway\":[\"#636efa\",\"#EF553B\",\"#00cc96\",\"#ab63fa\",\"#FFA15A\",\"#19d3f3\",\"#FF6692\",\"#B6E880\",\"#FF97FF\",\"#FECB52\"],\"font\":{\"color\":\"#2a3f5f\"},\"geo\":{\"bgcolor\":\"white\",\"lakecolor\":\"white\",\"landcolor\":\"#E5ECF6\",\"showlakes\":true,\"showland\":true,\"subunitcolor\":\"white\"},\"hoverlabel\":{\"align\":\"left\"},\"hovermode\":\"closest\",\"mapbox\":{\"style\":\"light\"},\"paper_bgcolor\":\"white\",\"plot_bgcolor\":\"#E5ECF6\",\"polar\":{\"angularaxis\":{\"gridcolor\":\"white\",\"linecolor\":\"white\",\"ticks\":\"\"},\"bgcolor\":\"#E5ECF6\",\"radialaxis\":{\"gridcolor\":\"white\",\"linecolor\":\"white\",\"ticks\":\"\"}},\"scene\":{\"xaxis\":{\"backgroundcolor\":\"#E5ECF6\",\"gridcolor\":\"white\",\"gridwidth\":2,\"linecolor\":\"white\",\"showbackground\":true,\"ticks\":\"\",\"zerolinecolor\":\"white\"},\"yaxis\":{\"backgroundcolor\":\"#E5ECF6\",\"gridcolor\":\"white\",\"gridwidth\":2,\"linecolor\":\"white\",\"showbackground\":true,\"ticks\":\"\",\"zerolinecolor\":\"white\"},\"zaxis\":{\"backgroundcolor\":\"#E5ECF6\",\"gridcolor\":\"white\",\"gridwidth\":2,\"linecolor\":\"white\",\"showbackground\":true,\"ticks\":\"\",\"zerolinecolor\":\"white\"}},\"shapedefaults\":{\"line\":{\"color\":\"#2a3f5f\"}},\"ternary\":{\"aaxis\":{\"gridcolor\":\"white\",\"linecolor\":\"white\",\"ticks\":\"\"},\"baxis\":{\"gridcolor\":\"white\",\"linecolor\":\"white\",\"ticks\":\"\"},\"bgcolor\":\"#E5ECF6\",\"caxis\":{\"gridcolor\":\"white\",\"linecolor\":\"white\",\"ticks\":\"\"}},\"title\":{\"x\":0.05},\"xaxis\":{\"automargin\":true,\"gridcolor\":\"white\",\"linecolor\":\"white\",\"ticks\":\"\",\"title\":{\"standoff\":15},\"zerolinecolor\":\"white\",\"zerolinewidth\":2},\"yaxis\":{\"automargin\":true,\"gridcolor\":\"white\",\"linecolor\":\"white\",\"ticks\":\"\",\"title\":{\"standoff\":15},\"zerolinecolor\":\"white\",\"zerolinewidth\":2}}},\"xaxis\":{\"anchor\":\"y\",\"domain\":[0.0,1.0],\"title\":{\"text\":\"value\"}},\"yaxis\":{\"anchor\":\"x\",\"domain\":[0.0,1.0],\"title\":{\"text\":\"count\"}}},                        {\"responsive\": true}                    ).then(function(){\n",
       "                            \n",
       "var gd = document.getElementById('df8c8e4c-0cff-4eb5-8b78-0d6e2b2c4a58');\n",
       "var x = new MutationObserver(function (mutations, observer) {{\n",
       "        var display = window.getComputedStyle(gd).display;\n",
       "        if (!display || display === 'none') {{\n",
       "            console.log([gd, 'removed!']);\n",
       "            Plotly.purge(gd);\n",
       "            observer.disconnect();\n",
       "        }}\n",
       "}});\n",
       "\n",
       "// Listen for the removal of the full notebook cells\n",
       "var notebookContainer = gd.closest('#notebook-container');\n",
       "if (notebookContainer) {{\n",
       "    x.observe(notebookContainer, {childList: true});\n",
       "}}\n",
       "\n",
       "// Listen for the clearing of the current output cell\n",
       "var outputEl = gd.closest('.output');\n",
       "if (outputEl) {{\n",
       "    x.observe(outputEl, {childList: true});\n",
       "}}\n",
       "\n",
       "                        })                };                });            </script>        </div>"
      ]
     },
     "metadata": {},
     "output_type": "display_data"
    }
   ],
   "source": [
    "more_y_2 = run_simulations(G, 20,0,0.1,0.17,500)\n",
    "px.histogram([z[19] for z in more_y_2], nbins = 20)"
   ]
  },
  {
   "cell_type": "markdown",
   "id": "642b3baf",
   "metadata": {},
   "source": [
    "Woah, the distribution is suddenly bimodal! All we did was decrease the scale factor of the attitude distribution\n",
    "\n",
    "Would we have seen this from our original experiment, if we had only run it for more epochs?"
   ]
  },
  {
   "cell_type": "code",
   "execution_count": 31,
   "id": "c58a8d4e",
   "metadata": {},
   "outputs": [
    {
     "data": {
      "application/vnd.plotly.v1+json": {
       "config": {
        "plotlyServerURL": "https://plot.ly"
       },
       "data": [
        {
         "alignmentgroup": "True",
         "bingroup": "x",
         "hovertemplate": "variable=0<br>value=%{x}<br>count=%{y}<extra></extra>",
         "legendgroup": "0",
         "marker": {
          "color": "#636efa",
          "pattern": {
           "shape": ""
          }
         },
         "name": "0",
         "nbinsx": 20,
         "offsetgroup": "0",
         "orientation": "v",
         "showlegend": true,
         "type": "histogram",
         "x": [
          0.05466666666666667,
          -0.04933333333333333,
          -0.06666666666666667,
          -0.12666666666666668,
          0.04533333333333334,
          -0.04666666666666667,
          0.088,
          -0.018666666666666668,
          -0.0026666666666666666,
          0.24666666666666667,
          -0.06,
          -0.07333333333333333,
          0.188,
          -0.06933333333333333,
          0.10133333333333333,
          0.076,
          0.236,
          -0.010666666666666666,
          0.017333333333333333,
          0.06933333333333333,
          -0.008,
          0.068,
          0.032,
          -0.13333333333333333,
          -0.084,
          -0.20533333333333334,
          0.14133333333333334,
          0.058666666666666666,
          -0.028,
          0.024
         ],
         "xaxis": "x",
         "yaxis": "y"
        }
       ],
       "layout": {
        "barmode": "relative",
        "legend": {
         "title": {
          "text": "variable"
         },
         "tracegroupgap": 0
        },
        "margin": {
         "t": 60
        },
        "template": {
         "data": {
          "bar": [
           {
            "error_x": {
             "color": "#2a3f5f"
            },
            "error_y": {
             "color": "#2a3f5f"
            },
            "marker": {
             "line": {
              "color": "#E5ECF6",
              "width": 0.5
             },
             "pattern": {
              "fillmode": "overlay",
              "size": 10,
              "solidity": 0.2
             }
            },
            "type": "bar"
           }
          ],
          "barpolar": [
           {
            "marker": {
             "line": {
              "color": "#E5ECF6",
              "width": 0.5
             },
             "pattern": {
              "fillmode": "overlay",
              "size": 10,
              "solidity": 0.2
             }
            },
            "type": "barpolar"
           }
          ],
          "carpet": [
           {
            "aaxis": {
             "endlinecolor": "#2a3f5f",
             "gridcolor": "white",
             "linecolor": "white",
             "minorgridcolor": "white",
             "startlinecolor": "#2a3f5f"
            },
            "baxis": {
             "endlinecolor": "#2a3f5f",
             "gridcolor": "white",
             "linecolor": "white",
             "minorgridcolor": "white",
             "startlinecolor": "#2a3f5f"
            },
            "type": "carpet"
           }
          ],
          "choropleth": [
           {
            "colorbar": {
             "outlinewidth": 0,
             "ticks": ""
            },
            "type": "choropleth"
           }
          ],
          "contour": [
           {
            "colorbar": {
             "outlinewidth": 0,
             "ticks": ""
            },
            "colorscale": [
             [
              0,
              "#0d0887"
             ],
             [
              0.1111111111111111,
              "#46039f"
             ],
             [
              0.2222222222222222,
              "#7201a8"
             ],
             [
              0.3333333333333333,
              "#9c179e"
             ],
             [
              0.4444444444444444,
              "#bd3786"
             ],
             [
              0.5555555555555556,
              "#d8576b"
             ],
             [
              0.6666666666666666,
              "#ed7953"
             ],
             [
              0.7777777777777778,
              "#fb9f3a"
             ],
             [
              0.8888888888888888,
              "#fdca26"
             ],
             [
              1,
              "#f0f921"
             ]
            ],
            "type": "contour"
           }
          ],
          "contourcarpet": [
           {
            "colorbar": {
             "outlinewidth": 0,
             "ticks": ""
            },
            "type": "contourcarpet"
           }
          ],
          "heatmap": [
           {
            "colorbar": {
             "outlinewidth": 0,
             "ticks": ""
            },
            "colorscale": [
             [
              0,
              "#0d0887"
             ],
             [
              0.1111111111111111,
              "#46039f"
             ],
             [
              0.2222222222222222,
              "#7201a8"
             ],
             [
              0.3333333333333333,
              "#9c179e"
             ],
             [
              0.4444444444444444,
              "#bd3786"
             ],
             [
              0.5555555555555556,
              "#d8576b"
             ],
             [
              0.6666666666666666,
              "#ed7953"
             ],
             [
              0.7777777777777778,
              "#fb9f3a"
             ],
             [
              0.8888888888888888,
              "#fdca26"
             ],
             [
              1,
              "#f0f921"
             ]
            ],
            "type": "heatmap"
           }
          ],
          "heatmapgl": [
           {
            "colorbar": {
             "outlinewidth": 0,
             "ticks": ""
            },
            "colorscale": [
             [
              0,
              "#0d0887"
             ],
             [
              0.1111111111111111,
              "#46039f"
             ],
             [
              0.2222222222222222,
              "#7201a8"
             ],
             [
              0.3333333333333333,
              "#9c179e"
             ],
             [
              0.4444444444444444,
              "#bd3786"
             ],
             [
              0.5555555555555556,
              "#d8576b"
             ],
             [
              0.6666666666666666,
              "#ed7953"
             ],
             [
              0.7777777777777778,
              "#fb9f3a"
             ],
             [
              0.8888888888888888,
              "#fdca26"
             ],
             [
              1,
              "#f0f921"
             ]
            ],
            "type": "heatmapgl"
           }
          ],
          "histogram": [
           {
            "marker": {
             "pattern": {
              "fillmode": "overlay",
              "size": 10,
              "solidity": 0.2
             }
            },
            "type": "histogram"
           }
          ],
          "histogram2d": [
           {
            "colorbar": {
             "outlinewidth": 0,
             "ticks": ""
            },
            "colorscale": [
             [
              0,
              "#0d0887"
             ],
             [
              0.1111111111111111,
              "#46039f"
             ],
             [
              0.2222222222222222,
              "#7201a8"
             ],
             [
              0.3333333333333333,
              "#9c179e"
             ],
             [
              0.4444444444444444,
              "#bd3786"
             ],
             [
              0.5555555555555556,
              "#d8576b"
             ],
             [
              0.6666666666666666,
              "#ed7953"
             ],
             [
              0.7777777777777778,
              "#fb9f3a"
             ],
             [
              0.8888888888888888,
              "#fdca26"
             ],
             [
              1,
              "#f0f921"
             ]
            ],
            "type": "histogram2d"
           }
          ],
          "histogram2dcontour": [
           {
            "colorbar": {
             "outlinewidth": 0,
             "ticks": ""
            },
            "colorscale": [
             [
              0,
              "#0d0887"
             ],
             [
              0.1111111111111111,
              "#46039f"
             ],
             [
              0.2222222222222222,
              "#7201a8"
             ],
             [
              0.3333333333333333,
              "#9c179e"
             ],
             [
              0.4444444444444444,
              "#bd3786"
             ],
             [
              0.5555555555555556,
              "#d8576b"
             ],
             [
              0.6666666666666666,
              "#ed7953"
             ],
             [
              0.7777777777777778,
              "#fb9f3a"
             ],
             [
              0.8888888888888888,
              "#fdca26"
             ],
             [
              1,
              "#f0f921"
             ]
            ],
            "type": "histogram2dcontour"
           }
          ],
          "mesh3d": [
           {
            "colorbar": {
             "outlinewidth": 0,
             "ticks": ""
            },
            "type": "mesh3d"
           }
          ],
          "parcoords": [
           {
            "line": {
             "colorbar": {
              "outlinewidth": 0,
              "ticks": ""
             }
            },
            "type": "parcoords"
           }
          ],
          "pie": [
           {
            "automargin": true,
            "type": "pie"
           }
          ],
          "scatter": [
           {
            "marker": {
             "colorbar": {
              "outlinewidth": 0,
              "ticks": ""
             }
            },
            "type": "scatter"
           }
          ],
          "scatter3d": [
           {
            "line": {
             "colorbar": {
              "outlinewidth": 0,
              "ticks": ""
             }
            },
            "marker": {
             "colorbar": {
              "outlinewidth": 0,
              "ticks": ""
             }
            },
            "type": "scatter3d"
           }
          ],
          "scattercarpet": [
           {
            "marker": {
             "colorbar": {
              "outlinewidth": 0,
              "ticks": ""
             }
            },
            "type": "scattercarpet"
           }
          ],
          "scattergeo": [
           {
            "marker": {
             "colorbar": {
              "outlinewidth": 0,
              "ticks": ""
             }
            },
            "type": "scattergeo"
           }
          ],
          "scattergl": [
           {
            "marker": {
             "colorbar": {
              "outlinewidth": 0,
              "ticks": ""
             }
            },
            "type": "scattergl"
           }
          ],
          "scattermapbox": [
           {
            "marker": {
             "colorbar": {
              "outlinewidth": 0,
              "ticks": ""
             }
            },
            "type": "scattermapbox"
           }
          ],
          "scatterpolar": [
           {
            "marker": {
             "colorbar": {
              "outlinewidth": 0,
              "ticks": ""
             }
            },
            "type": "scatterpolar"
           }
          ],
          "scatterpolargl": [
           {
            "marker": {
             "colorbar": {
              "outlinewidth": 0,
              "ticks": ""
             }
            },
            "type": "scatterpolargl"
           }
          ],
          "scatterternary": [
           {
            "marker": {
             "colorbar": {
              "outlinewidth": 0,
              "ticks": ""
             }
            },
            "type": "scatterternary"
           }
          ],
          "surface": [
           {
            "colorbar": {
             "outlinewidth": 0,
             "ticks": ""
            },
            "colorscale": [
             [
              0,
              "#0d0887"
             ],
             [
              0.1111111111111111,
              "#46039f"
             ],
             [
              0.2222222222222222,
              "#7201a8"
             ],
             [
              0.3333333333333333,
              "#9c179e"
             ],
             [
              0.4444444444444444,
              "#bd3786"
             ],
             [
              0.5555555555555556,
              "#d8576b"
             ],
             [
              0.6666666666666666,
              "#ed7953"
             ],
             [
              0.7777777777777778,
              "#fb9f3a"
             ],
             [
              0.8888888888888888,
              "#fdca26"
             ],
             [
              1,
              "#f0f921"
             ]
            ],
            "type": "surface"
           }
          ],
          "table": [
           {
            "cells": {
             "fill": {
              "color": "#EBF0F8"
             },
             "line": {
              "color": "white"
             }
            },
            "header": {
             "fill": {
              "color": "#C8D4E3"
             },
             "line": {
              "color": "white"
             }
            },
            "type": "table"
           }
          ]
         },
         "layout": {
          "annotationdefaults": {
           "arrowcolor": "#2a3f5f",
           "arrowhead": 0,
           "arrowwidth": 1
          },
          "autotypenumbers": "strict",
          "coloraxis": {
           "colorbar": {
            "outlinewidth": 0,
            "ticks": ""
           }
          },
          "colorscale": {
           "diverging": [
            [
             0,
             "#8e0152"
            ],
            [
             0.1,
             "#c51b7d"
            ],
            [
             0.2,
             "#de77ae"
            ],
            [
             0.3,
             "#f1b6da"
            ],
            [
             0.4,
             "#fde0ef"
            ],
            [
             0.5,
             "#f7f7f7"
            ],
            [
             0.6,
             "#e6f5d0"
            ],
            [
             0.7,
             "#b8e186"
            ],
            [
             0.8,
             "#7fbc41"
            ],
            [
             0.9,
             "#4d9221"
            ],
            [
             1,
             "#276419"
            ]
           ],
           "sequential": [
            [
             0,
             "#0d0887"
            ],
            [
             0.1111111111111111,
             "#46039f"
            ],
            [
             0.2222222222222222,
             "#7201a8"
            ],
            [
             0.3333333333333333,
             "#9c179e"
            ],
            [
             0.4444444444444444,
             "#bd3786"
            ],
            [
             0.5555555555555556,
             "#d8576b"
            ],
            [
             0.6666666666666666,
             "#ed7953"
            ],
            [
             0.7777777777777778,
             "#fb9f3a"
            ],
            [
             0.8888888888888888,
             "#fdca26"
            ],
            [
             1,
             "#f0f921"
            ]
           ],
           "sequentialminus": [
            [
             0,
             "#0d0887"
            ],
            [
             0.1111111111111111,
             "#46039f"
            ],
            [
             0.2222222222222222,
             "#7201a8"
            ],
            [
             0.3333333333333333,
             "#9c179e"
            ],
            [
             0.4444444444444444,
             "#bd3786"
            ],
            [
             0.5555555555555556,
             "#d8576b"
            ],
            [
             0.6666666666666666,
             "#ed7953"
            ],
            [
             0.7777777777777778,
             "#fb9f3a"
            ],
            [
             0.8888888888888888,
             "#fdca26"
            ],
            [
             1,
             "#f0f921"
            ]
           ]
          },
          "colorway": [
           "#636efa",
           "#EF553B",
           "#00cc96",
           "#ab63fa",
           "#FFA15A",
           "#19d3f3",
           "#FF6692",
           "#B6E880",
           "#FF97FF",
           "#FECB52"
          ],
          "font": {
           "color": "#2a3f5f"
          },
          "geo": {
           "bgcolor": "white",
           "lakecolor": "white",
           "landcolor": "#E5ECF6",
           "showlakes": true,
           "showland": true,
           "subunitcolor": "white"
          },
          "hoverlabel": {
           "align": "left"
          },
          "hovermode": "closest",
          "mapbox": {
           "style": "light"
          },
          "paper_bgcolor": "white",
          "plot_bgcolor": "#E5ECF6",
          "polar": {
           "angularaxis": {
            "gridcolor": "white",
            "linecolor": "white",
            "ticks": ""
           },
           "bgcolor": "#E5ECF6",
           "radialaxis": {
            "gridcolor": "white",
            "linecolor": "white",
            "ticks": ""
           }
          },
          "scene": {
           "xaxis": {
            "backgroundcolor": "#E5ECF6",
            "gridcolor": "white",
            "gridwidth": 2,
            "linecolor": "white",
            "showbackground": true,
            "ticks": "",
            "zerolinecolor": "white"
           },
           "yaxis": {
            "backgroundcolor": "#E5ECF6",
            "gridcolor": "white",
            "gridwidth": 2,
            "linecolor": "white",
            "showbackground": true,
            "ticks": "",
            "zerolinecolor": "white"
           },
           "zaxis": {
            "backgroundcolor": "#E5ECF6",
            "gridcolor": "white",
            "gridwidth": 2,
            "linecolor": "white",
            "showbackground": true,
            "ticks": "",
            "zerolinecolor": "white"
           }
          },
          "shapedefaults": {
           "line": {
            "color": "#2a3f5f"
           }
          },
          "ternary": {
           "aaxis": {
            "gridcolor": "white",
            "linecolor": "white",
            "ticks": ""
           },
           "baxis": {
            "gridcolor": "white",
            "linecolor": "white",
            "ticks": ""
           },
           "bgcolor": "#E5ECF6",
           "caxis": {
            "gridcolor": "white",
            "linecolor": "white",
            "ticks": ""
           }
          },
          "title": {
           "x": 0.05
          },
          "xaxis": {
           "automargin": true,
           "gridcolor": "white",
           "linecolor": "white",
           "ticks": "",
           "title": {
            "standoff": 15
           },
           "zerolinecolor": "white",
           "zerolinewidth": 2
          },
          "yaxis": {
           "automargin": true,
           "gridcolor": "white",
           "linecolor": "white",
           "ticks": "",
           "title": {
            "standoff": 15
           },
           "zerolinecolor": "white",
           "zerolinewidth": 2
          }
         }
        },
        "xaxis": {
         "anchor": "y",
         "domain": [
          0,
          1
         ],
         "title": {
          "text": "value"
         }
        },
        "yaxis": {
         "anchor": "x",
         "domain": [
          0,
          1
         ],
         "title": {
          "text": "count"
         }
        }
       }
      },
      "text/html": [
       "<div>                            <div id=\"2474f403-4f98-40ab-bd36-f8af34c56be7\" class=\"plotly-graph-div\" style=\"height:525px; width:100%;\"></div>            <script type=\"text/javascript\">                require([\"plotly\"], function(Plotly) {                    window.PLOTLYENV=window.PLOTLYENV || {};                                    if (document.getElementById(\"2474f403-4f98-40ab-bd36-f8af34c56be7\")) {                    Plotly.newPlot(                        \"2474f403-4f98-40ab-bd36-f8af34c56be7\",                        [{\"alignmentgroup\":\"True\",\"bingroup\":\"x\",\"hovertemplate\":\"variable=0<br>value=%{x}<br>count=%{y}<extra></extra>\",\"legendgroup\":\"0\",\"marker\":{\"color\":\"#636efa\",\"pattern\":{\"shape\":\"\"}},\"name\":\"0\",\"nbinsx\":20,\"offsetgroup\":\"0\",\"orientation\":\"v\",\"showlegend\":true,\"type\":\"histogram\",\"x\":[0.05466666666666667,-0.04933333333333333,-0.06666666666666667,-0.12666666666666668,0.04533333333333334,-0.04666666666666667,0.088,-0.018666666666666668,-0.0026666666666666666,0.24666666666666667,-0.06,-0.07333333333333333,0.188,-0.06933333333333333,0.10133333333333333,0.076,0.236,-0.010666666666666666,0.017333333333333333,0.06933333333333333,-0.008,0.068,0.032,-0.13333333333333333,-0.084,-0.20533333333333334,0.14133333333333334,0.058666666666666666,-0.028,0.024],\"xaxis\":\"x\",\"yaxis\":\"y\"}],                        {\"barmode\":\"relative\",\"legend\":{\"title\":{\"text\":\"variable\"},\"tracegroupgap\":0},\"margin\":{\"t\":60},\"template\":{\"data\":{\"bar\":[{\"error_x\":{\"color\":\"#2a3f5f\"},\"error_y\":{\"color\":\"#2a3f5f\"},\"marker\":{\"line\":{\"color\":\"#E5ECF6\",\"width\":0.5},\"pattern\":{\"fillmode\":\"overlay\",\"size\":10,\"solidity\":0.2}},\"type\":\"bar\"}],\"barpolar\":[{\"marker\":{\"line\":{\"color\":\"#E5ECF6\",\"width\":0.5},\"pattern\":{\"fillmode\":\"overlay\",\"size\":10,\"solidity\":0.2}},\"type\":\"barpolar\"}],\"carpet\":[{\"aaxis\":{\"endlinecolor\":\"#2a3f5f\",\"gridcolor\":\"white\",\"linecolor\":\"white\",\"minorgridcolor\":\"white\",\"startlinecolor\":\"#2a3f5f\"},\"baxis\":{\"endlinecolor\":\"#2a3f5f\",\"gridcolor\":\"white\",\"linecolor\":\"white\",\"minorgridcolor\":\"white\",\"startlinecolor\":\"#2a3f5f\"},\"type\":\"carpet\"}],\"choropleth\":[{\"colorbar\":{\"outlinewidth\":0,\"ticks\":\"\"},\"type\":\"choropleth\"}],\"contour\":[{\"colorbar\":{\"outlinewidth\":0,\"ticks\":\"\"},\"colorscale\":[[0.0,\"#0d0887\"],[0.1111111111111111,\"#46039f\"],[0.2222222222222222,\"#7201a8\"],[0.3333333333333333,\"#9c179e\"],[0.4444444444444444,\"#bd3786\"],[0.5555555555555556,\"#d8576b\"],[0.6666666666666666,\"#ed7953\"],[0.7777777777777778,\"#fb9f3a\"],[0.8888888888888888,\"#fdca26\"],[1.0,\"#f0f921\"]],\"type\":\"contour\"}],\"contourcarpet\":[{\"colorbar\":{\"outlinewidth\":0,\"ticks\":\"\"},\"type\":\"contourcarpet\"}],\"heatmap\":[{\"colorbar\":{\"outlinewidth\":0,\"ticks\":\"\"},\"colorscale\":[[0.0,\"#0d0887\"],[0.1111111111111111,\"#46039f\"],[0.2222222222222222,\"#7201a8\"],[0.3333333333333333,\"#9c179e\"],[0.4444444444444444,\"#bd3786\"],[0.5555555555555556,\"#d8576b\"],[0.6666666666666666,\"#ed7953\"],[0.7777777777777778,\"#fb9f3a\"],[0.8888888888888888,\"#fdca26\"],[1.0,\"#f0f921\"]],\"type\":\"heatmap\"}],\"heatmapgl\":[{\"colorbar\":{\"outlinewidth\":0,\"ticks\":\"\"},\"colorscale\":[[0.0,\"#0d0887\"],[0.1111111111111111,\"#46039f\"],[0.2222222222222222,\"#7201a8\"],[0.3333333333333333,\"#9c179e\"],[0.4444444444444444,\"#bd3786\"],[0.5555555555555556,\"#d8576b\"],[0.6666666666666666,\"#ed7953\"],[0.7777777777777778,\"#fb9f3a\"],[0.8888888888888888,\"#fdca26\"],[1.0,\"#f0f921\"]],\"type\":\"heatmapgl\"}],\"histogram\":[{\"marker\":{\"pattern\":{\"fillmode\":\"overlay\",\"size\":10,\"solidity\":0.2}},\"type\":\"histogram\"}],\"histogram2d\":[{\"colorbar\":{\"outlinewidth\":0,\"ticks\":\"\"},\"colorscale\":[[0.0,\"#0d0887\"],[0.1111111111111111,\"#46039f\"],[0.2222222222222222,\"#7201a8\"],[0.3333333333333333,\"#9c179e\"],[0.4444444444444444,\"#bd3786\"],[0.5555555555555556,\"#d8576b\"],[0.6666666666666666,\"#ed7953\"],[0.7777777777777778,\"#fb9f3a\"],[0.8888888888888888,\"#fdca26\"],[1.0,\"#f0f921\"]],\"type\":\"histogram2d\"}],\"histogram2dcontour\":[{\"colorbar\":{\"outlinewidth\":0,\"ticks\":\"\"},\"colorscale\":[[0.0,\"#0d0887\"],[0.1111111111111111,\"#46039f\"],[0.2222222222222222,\"#7201a8\"],[0.3333333333333333,\"#9c179e\"],[0.4444444444444444,\"#bd3786\"],[0.5555555555555556,\"#d8576b\"],[0.6666666666666666,\"#ed7953\"],[0.7777777777777778,\"#fb9f3a\"],[0.8888888888888888,\"#fdca26\"],[1.0,\"#f0f921\"]],\"type\":\"histogram2dcontour\"}],\"mesh3d\":[{\"colorbar\":{\"outlinewidth\":0,\"ticks\":\"\"},\"type\":\"mesh3d\"}],\"parcoords\":[{\"line\":{\"colorbar\":{\"outlinewidth\":0,\"ticks\":\"\"}},\"type\":\"parcoords\"}],\"pie\":[{\"automargin\":true,\"type\":\"pie\"}],\"scatter\":[{\"marker\":{\"colorbar\":{\"outlinewidth\":0,\"ticks\":\"\"}},\"type\":\"scatter\"}],\"scatter3d\":[{\"line\":{\"colorbar\":{\"outlinewidth\":0,\"ticks\":\"\"}},\"marker\":{\"colorbar\":{\"outlinewidth\":0,\"ticks\":\"\"}},\"type\":\"scatter3d\"}],\"scattercarpet\":[{\"marker\":{\"colorbar\":{\"outlinewidth\":0,\"ticks\":\"\"}},\"type\":\"scattercarpet\"}],\"scattergeo\":[{\"marker\":{\"colorbar\":{\"outlinewidth\":0,\"ticks\":\"\"}},\"type\":\"scattergeo\"}],\"scattergl\":[{\"marker\":{\"colorbar\":{\"outlinewidth\":0,\"ticks\":\"\"}},\"type\":\"scattergl\"}],\"scattermapbox\":[{\"marker\":{\"colorbar\":{\"outlinewidth\":0,\"ticks\":\"\"}},\"type\":\"scattermapbox\"}],\"scatterpolar\":[{\"marker\":{\"colorbar\":{\"outlinewidth\":0,\"ticks\":\"\"}},\"type\":\"scatterpolar\"}],\"scatterpolargl\":[{\"marker\":{\"colorbar\":{\"outlinewidth\":0,\"ticks\":\"\"}},\"type\":\"scatterpolargl\"}],\"scatterternary\":[{\"marker\":{\"colorbar\":{\"outlinewidth\":0,\"ticks\":\"\"}},\"type\":\"scatterternary\"}],\"surface\":[{\"colorbar\":{\"outlinewidth\":0,\"ticks\":\"\"},\"colorscale\":[[0.0,\"#0d0887\"],[0.1111111111111111,\"#46039f\"],[0.2222222222222222,\"#7201a8\"],[0.3333333333333333,\"#9c179e\"],[0.4444444444444444,\"#bd3786\"],[0.5555555555555556,\"#d8576b\"],[0.6666666666666666,\"#ed7953\"],[0.7777777777777778,\"#fb9f3a\"],[0.8888888888888888,\"#fdca26\"],[1.0,\"#f0f921\"]],\"type\":\"surface\"}],\"table\":[{\"cells\":{\"fill\":{\"color\":\"#EBF0F8\"},\"line\":{\"color\":\"white\"}},\"header\":{\"fill\":{\"color\":\"#C8D4E3\"},\"line\":{\"color\":\"white\"}},\"type\":\"table\"}]},\"layout\":{\"annotationdefaults\":{\"arrowcolor\":\"#2a3f5f\",\"arrowhead\":0,\"arrowwidth\":1},\"autotypenumbers\":\"strict\",\"coloraxis\":{\"colorbar\":{\"outlinewidth\":0,\"ticks\":\"\"}},\"colorscale\":{\"diverging\":[[0,\"#8e0152\"],[0.1,\"#c51b7d\"],[0.2,\"#de77ae\"],[0.3,\"#f1b6da\"],[0.4,\"#fde0ef\"],[0.5,\"#f7f7f7\"],[0.6,\"#e6f5d0\"],[0.7,\"#b8e186\"],[0.8,\"#7fbc41\"],[0.9,\"#4d9221\"],[1,\"#276419\"]],\"sequential\":[[0.0,\"#0d0887\"],[0.1111111111111111,\"#46039f\"],[0.2222222222222222,\"#7201a8\"],[0.3333333333333333,\"#9c179e\"],[0.4444444444444444,\"#bd3786\"],[0.5555555555555556,\"#d8576b\"],[0.6666666666666666,\"#ed7953\"],[0.7777777777777778,\"#fb9f3a\"],[0.8888888888888888,\"#fdca26\"],[1.0,\"#f0f921\"]],\"sequentialminus\":[[0.0,\"#0d0887\"],[0.1111111111111111,\"#46039f\"],[0.2222222222222222,\"#7201a8\"],[0.3333333333333333,\"#9c179e\"],[0.4444444444444444,\"#bd3786\"],[0.5555555555555556,\"#d8576b\"],[0.6666666666666666,\"#ed7953\"],[0.7777777777777778,\"#fb9f3a\"],[0.8888888888888888,\"#fdca26\"],[1.0,\"#f0f921\"]]},\"colorway\":[\"#636efa\",\"#EF553B\",\"#00cc96\",\"#ab63fa\",\"#FFA15A\",\"#19d3f3\",\"#FF6692\",\"#B6E880\",\"#FF97FF\",\"#FECB52\"],\"font\":{\"color\":\"#2a3f5f\"},\"geo\":{\"bgcolor\":\"white\",\"lakecolor\":\"white\",\"landcolor\":\"#E5ECF6\",\"showlakes\":true,\"showland\":true,\"subunitcolor\":\"white\"},\"hoverlabel\":{\"align\":\"left\"},\"hovermode\":\"closest\",\"mapbox\":{\"style\":\"light\"},\"paper_bgcolor\":\"white\",\"plot_bgcolor\":\"#E5ECF6\",\"polar\":{\"angularaxis\":{\"gridcolor\":\"white\",\"linecolor\":\"white\",\"ticks\":\"\"},\"bgcolor\":\"#E5ECF6\",\"radialaxis\":{\"gridcolor\":\"white\",\"linecolor\":\"white\",\"ticks\":\"\"}},\"scene\":{\"xaxis\":{\"backgroundcolor\":\"#E5ECF6\",\"gridcolor\":\"white\",\"gridwidth\":2,\"linecolor\":\"white\",\"showbackground\":true,\"ticks\":\"\",\"zerolinecolor\":\"white\"},\"yaxis\":{\"backgroundcolor\":\"#E5ECF6\",\"gridcolor\":\"white\",\"gridwidth\":2,\"linecolor\":\"white\",\"showbackground\":true,\"ticks\":\"\",\"zerolinecolor\":\"white\"},\"zaxis\":{\"backgroundcolor\":\"#E5ECF6\",\"gridcolor\":\"white\",\"gridwidth\":2,\"linecolor\":\"white\",\"showbackground\":true,\"ticks\":\"\",\"zerolinecolor\":\"white\"}},\"shapedefaults\":{\"line\":{\"color\":\"#2a3f5f\"}},\"ternary\":{\"aaxis\":{\"gridcolor\":\"white\",\"linecolor\":\"white\",\"ticks\":\"\"},\"baxis\":{\"gridcolor\":\"white\",\"linecolor\":\"white\",\"ticks\":\"\"},\"bgcolor\":\"#E5ECF6\",\"caxis\":{\"gridcolor\":\"white\",\"linecolor\":\"white\",\"ticks\":\"\"}},\"title\":{\"x\":0.05},\"xaxis\":{\"automargin\":true,\"gridcolor\":\"white\",\"linecolor\":\"white\",\"ticks\":\"\",\"title\":{\"standoff\":15},\"zerolinecolor\":\"white\",\"zerolinewidth\":2},\"yaxis\":{\"automargin\":true,\"gridcolor\":\"white\",\"linecolor\":\"white\",\"ticks\":\"\",\"title\":{\"standoff\":15},\"zerolinecolor\":\"white\",\"zerolinewidth\":2}}},\"xaxis\":{\"anchor\":\"y\",\"domain\":[0.0,1.0],\"title\":{\"text\":\"value\"}},\"yaxis\":{\"anchor\":\"x\",\"domain\":[0.0,1.0],\"title\":{\"text\":\"count\"}}},                        {\"responsive\": true}                    ).then(function(){\n",
       "                            \n",
       "var gd = document.getElementById('2474f403-4f98-40ab-bd36-f8af34c56be7');\n",
       "var x = new MutationObserver(function (mutations, observer) {{\n",
       "        var display = window.getComputedStyle(gd).display;\n",
       "        if (!display || display === 'none') {{\n",
       "            console.log([gd, 'removed!']);\n",
       "            Plotly.purge(gd);\n",
       "            observer.disconnect();\n",
       "        }}\n",
       "}});\n",
       "\n",
       "// Listen for the removal of the full notebook cells\n",
       "var notebookContainer = gd.closest('#notebook-container');\n",
       "if (notebookContainer) {{\n",
       "    x.observe(notebookContainer, {childList: true});\n",
       "}}\n",
       "\n",
       "// Listen for the clearing of the current output cell\n",
       "var outputEl = gd.closest('.output');\n",
       "if (outputEl) {{\n",
       "    x.observe(outputEl, {childList: true});\n",
       "}}\n",
       "\n",
       "                        })                };                });            </script>        </div>"
      ]
     },
     "metadata": {},
     "output_type": "display_data"
    }
   ],
   "source": [
    "more_y_3 = run_simulations(G, 300,0,1,0.17,30)\n",
    "px.histogram([z[299] for z in more_y_3], nbins = 20)"
   ]
  },
  {
   "cell_type": "markdown",
   "id": "15639d2f",
   "metadata": {},
   "source": [
    "The answer seems to be no. So somewhere between 0.1 and 1, there must be some kind of threshold, below which the distribution becomes bimodal\n",
    "\n",
    "A lot of experimentation could be done here. The last that I will do is using scale =0.7"
   ]
  },
  {
   "cell_type": "code",
   "execution_count": 35,
   "id": "6022e39d",
   "metadata": {},
   "outputs": [
    {
     "data": {
      "application/vnd.plotly.v1+json": {
       "config": {
        "plotlyServerURL": "https://plot.ly"
       },
       "data": [
        {
         "alignmentgroup": "True",
         "bingroup": "x",
         "hovertemplate": "variable=0<br>value=%{x}<br>count=%{y}<extra></extra>",
         "legendgroup": "0",
         "marker": {
          "color": "#636efa",
          "pattern": {
           "shape": ""
          }
         },
         "name": "0",
         "nbinsx": 20,
         "offsetgroup": "0",
         "orientation": "v",
         "showlegend": true,
         "type": "histogram",
         "x": [
          -0.184,
          0.596,
          -0.3426666666666667,
          -0.036,
          0.116,
          -0.034666666666666665,
          0.388,
          0.18666666666666668,
          0.23466666666666666,
          0.07066666666666667,
          0.492,
          0.06933333333333333,
          0.3373333333333333,
          -0.49466666666666664,
          -0.6106666666666667,
          0.392,
          0.37066666666666664,
          -0.42,
          -0.23066666666666666,
          -0.26,
          0.104,
          -0.5093333333333333,
          -0.172,
          -0.49733333333333335,
          0.013333333333333334,
          0.252,
          -0.5546666666666666,
          -0.4266666666666667,
          0.38,
          -0.048,
          0.5146666666666667,
          -0.3253333333333333,
          0.23466666666666666,
          -0.21333333333333335,
          -0.404,
          -0.36666666666666664,
          -0.32666666666666666,
          -0.029333333333333333,
          -0.368,
          -0.32266666666666666,
          -0.18933333333333333,
          0.068,
          0.14666666666666667,
          0.38266666666666665,
          0.41333333333333333,
          0.2733333333333333,
          0.12933333333333333,
          -0.4746666666666667,
          0.12666666666666668,
          0.07333333333333333,
          -0.524,
          -0.03333333333333333,
          0.12,
          0.037333333333333336,
          -0.31466666666666665,
          0.436,
          0.384,
          -0.43733333333333335,
          -0.38133333333333336,
          -0.37733333333333335,
          0.06266666666666666,
          -0.0026666666666666666,
          -0.19333333333333333,
          0.19333333333333333,
          0.4746666666666667,
          -0.32,
          -0.49333333333333335,
          0.10933333333333334,
          0.41733333333333333,
          0.5053333333333333,
          -0.25733333333333336,
          0.184,
          -0.15333333333333332,
          -0.4146666666666667,
          0.06266666666666666,
          -0.35333333333333333,
          -0.04933333333333333,
          -0.376,
          0.544,
          -0.412,
          0.27466666666666667,
          -0.284,
          -0.14133333333333334,
          0.336,
          -0.4013333333333333,
          -0.41733333333333333,
          -0.32666666666666666,
          0.3466666666666667,
          -0.4746666666666667,
          -0.092,
          -0.021333333333333333,
          -0.28,
          0.22533333333333333,
          0.04666666666666667,
          0.12,
          -0.42,
          0.14133333333333334,
          -0.164,
          -0.068,
          0.068,
          -0.2733333333333333,
          -0.5786666666666667,
          0.07333333333333333,
          -0.3333333333333333,
          0.017333333333333333,
          0.5666666666666667,
          0.17866666666666667,
          -0.152,
          0.5226666666666666,
          0.07733333333333334,
          -0.04933333333333333,
          -0.030666666666666665,
          -0.20933333333333334,
          0.14933333333333335,
          0.14133333333333334,
          -0.16933333333333334,
          -0.44666666666666666,
          0.244,
          -0.24933333333333332,
          0.5373333333333333,
          0.31733333333333336,
          0.014666666666666666,
          -0.33866666666666667,
          -0.20933333333333334,
          0.29333333333333333,
          0.14266666666666666,
          -0.4013333333333333,
          0.5466666666666666,
          -0.16933333333333334,
          -0.216,
          0.11733333333333333,
          0.404,
          -0.196,
          0.4053333333333333,
          0.05733333333333333,
          -0.19333333333333333,
          0.184,
          -0.428,
          -0.18533333333333332,
          0.24,
          -0.092,
          -0.03866666666666667,
          -0.03333333333333333,
          -0.07466666666666667,
          -0.15733333333333333,
          0.02666666666666667,
          -0.5213333333333333,
          0.3373333333333333,
          0.029333333333333333,
          -0.132,
          0.476,
          0.32133333333333336,
          -0.010666666666666666,
          -0.376,
          -0.2826666666666667,
          0.21333333333333335,
          -0.28,
          0.25333333333333335,
          -0.4066666666666667,
          0.22533333333333333,
          -0.016,
          0.22933333333333333,
          -0.10666666666666667,
          0.018666666666666668,
          -0.37333333333333335,
          0.4146666666666667,
          0.3933333333333333,
          -0.38,
          -0.212,
          -0.112,
          -0.256,
          0.23466666666666666,
          0.05733333333333333,
          0.19866666666666666,
          0.32666666666666666,
          -0.31466666666666665,
          -0.028,
          -0.2986666666666667,
          0.176,
          -0.352,
          -0.04,
          -0.03333333333333333,
          0.037333333333333336,
          -0.30266666666666664,
          0.16533333333333333,
          -0.4013333333333333,
          0.464,
          0.034666666666666665,
          0.232,
          0.07866666666666666,
          -0.14133333333333334,
          0.2853333333333333,
          -0.016,
          0.19333333333333333,
          0.568,
          -0.42133333333333334,
          -0.30533333333333335,
          0.5066666666666667,
          0.24666666666666667,
          -0.228,
          -0.352,
          -0.3293333333333333,
          -0.5093333333333333,
          0.16133333333333333,
          -0.128,
          0.196,
          -0.556,
          -0.13333333333333333,
          0.264,
          0.16,
          -0.4093333333333333,
          0.224,
          0.244,
          -0.36933333333333335,
          0.396,
          -0.07066666666666667,
          -0.10666666666666667,
          0.02,
          0.048,
          -0.368,
          -0.20533333333333334,
          0.2986666666666667,
          -0.49333333333333335,
          -0.132,
          -0.372,
          0.15066666666666667,
          0.04533333333333334,
          0.16133333333333333,
          0.18133333333333335,
          -0.36133333333333334,
          0.4053333333333333,
          -0.2,
          0.37733333333333335,
          0.3,
          0.3933333333333333,
          -0.33466666666666667,
          -0.02666666666666667,
          -0.4786666666666667,
          -0.33066666666666666,
          0.05466666666666667,
          -0.30133333333333334,
          0.1,
          0.1,
          -0.268,
          -0.296,
          0.03333333333333333,
          -0.28933333333333333,
          -0.412,
          0.088,
          0.19733333333333333,
          0.010666666666666666,
          0.172,
          0.324,
          -0.2693333333333333,
          0.188,
          -0.068,
          -0.05333333333333334,
          0.36133333333333334,
          -0.248,
          -0.08533333333333333,
          -0.2826666666666667,
          0.664,
          0.216,
          -0.42533333333333334,
          0.052,
          0.36933333333333335,
          0.14133333333333334,
          0.5146666666666667,
          0.236,
          -0.22933333333333333,
          0.172,
          0.492,
          0.10933333333333334,
          0.26266666666666666,
          -0.33466666666666667,
          -0.050666666666666665,
          -0.10133333333333333,
          -0.08933333333333333,
          0.376,
          -0.232,
          -0.256,
          -0.176,
          0.5226666666666666,
          0.2693333333333333,
          -0.344,
          -0.08933333333333333,
          0.43866666666666665,
          -0.27066666666666667,
          0.18666666666666668,
          -0.29733333333333334,
          0.05333333333333334,
          -0.544,
          -0.33466666666666667,
          -0.172,
          -0.11466666666666667,
          -0.444,
          -0.488,
          -0.4573333333333333,
          0.15866666666666668,
          -0.34933333333333333,
          -0.23466666666666666,
          0.212,
          -0.005333333333333333,
          0.12266666666666666,
          -0.16933333333333334,
          0.42,
          -0.248,
          0.37333333333333335,
          0.06666666666666667,
          0.5586666666666666,
          0.5293333333333333,
          0.06933333333333333,
          -0.3626666666666667,
          0.37333333333333335,
          -0.24666666666666667,
          -0.536,
          -0.312,
          -0.2,
          -0.072,
          0.1,
          -0.5213333333333333,
          0.24266666666666667,
          0.050666666666666665,
          0.16266666666666665,
          0.492,
          0.037333333333333336,
          0.10533333333333333,
          0.1,
          0.2986666666666667,
          0.32266666666666666,
          0.11733333333333333,
          -0.132,
          -0.013333333333333334,
          -0.464,
          0.6106666666666667,
          -0.3546666666666667,
          -0.0026666666666666666,
          -0.010666666666666666,
          0.45066666666666666,
          -0.3,
          -0.5373333333333333,
          -0.516,
          -0.08666666666666667,
          -0.5333333333333333,
          0.10666666666666667,
          0.09466666666666666,
          -0.5093333333333333,
          -0.45466666666666666,
          -0.07733333333333334,
          -0.588,
          -0.03866666666666667,
          -0.32666666666666666,
          0.2826666666666667,
          -0.34933333333333333,
          -0.5613333333333334,
          -0.38533333333333336,
          -0.4013333333333333,
          -0.432,
          0.2906666666666667,
          0.16133333333333333,
          0.08133333333333333,
          0.396,
          0.484,
          -0.25733333333333336,
          0.176,
          -0.025333333333333333,
          0.30133333333333334,
          0.004,
          -0.39466666666666667,
          0.068,
          -0.056,
          0.45066666666666666,
          -0.3973333333333333,
          -0.18133333333333335,
          -0.029333333333333333,
          0.6,
          -0.072,
          0.23866666666666667,
          -0.4706666666666667,
          0.4093333333333333,
          0.22266666666666668,
          0.12533333333333332,
          -0.010666666666666666,
          -0.144,
          -0.29733333333333334,
          0.6786666666666666,
          0.3586666666666667,
          0.268,
          -0.09466666666666666,
          0.2853333333333333,
          0.39066666666666666,
          0.144,
          -0.24533333333333332,
          0.03333333333333333,
          -0.39866666666666667,
          -0.11866666666666667,
          -0.19466666666666665,
          0.19066666666666668,
          0.03333333333333333,
          0.30266666666666664,
          -0.09066666666666667,
          -0.18933333333333333,
          -0.21333333333333335,
          -0.18133333333333335,
          0.16,
          -0.18533333333333332,
          -0.45466666666666666,
          0.12133333333333333,
          -0.33466666666666667,
          -0.37866666666666665,
          0.09733333333333333,
          -0.21466666666666667,
          0.4093333333333333,
          -0.21066666666666667,
          0.5853333333333334,
          -0.5133333333333333,
          0.5973333333333334,
          0.124,
          0.268,
          0.22,
          0.3893333333333333,
          0.43733333333333335,
          0.276,
          -0.4826666666666667,
          0.33066666666666666,
          -0.05333333333333334,
          -0.5333333333333333,
          0.15066666666666667,
          -0.2,
          -0.14133333333333334,
          -0.15733333333333333,
          0.14533333333333334,
          0.108,
          0.312,
          -0.604,
          0.172,
          0.18933333333333333,
          -0.092,
          0.328,
          -0.32,
          0.12133333333333333,
          0.24133333333333334,
          -0.07733333333333334,
          0.23333333333333334,
          -0.021333333333333333,
          -0.09866666666666667,
          0.38533333333333336,
          0.5333333333333333,
          -0.14533333333333334,
          -0.025333333333333333,
          -0.09733333333333333,
          -0.5786666666666667,
          0.18666666666666668,
          -0.38133333333333336,
          0.5533333333333333,
          0.6933333333333334,
          0.392,
          0.572,
          0.24533333333333332,
          -0.192,
          0.29733333333333334,
          0.19333333333333333,
          -0.3413333333333333,
          0.43466666666666665,
          -0.09466666666666666,
          -0.48,
          -0.08933333333333333,
          -0.5906666666666667,
          -0.216,
          -0.5133333333333333,
          -0.22533333333333333,
          0.006666666666666667,
          0.37866666666666665,
          -0.21333333333333335,
          -0.12933333333333333,
          0.368,
          -0.13866666666666666,
          -0.32133333333333336,
          0.24133333333333334,
          0.13066666666666665,
          -0.35333333333333333,
          0.20266666666666666,
          0.368,
          -0.2613333333333333,
          0.528,
          -0.384,
          0.304,
          -0.5053333333333333,
          0.025333333333333333,
          0.632,
          0.5333333333333333,
          0.2826666666666667,
          0.20133333333333334,
          -0.548,
          -0.256,
          0.14666666666666667,
          -0.108,
          -0.116,
          -0.5893333333333334,
          -0.4866666666666667
         ],
         "xaxis": "x",
         "yaxis": "y"
        }
       ],
       "layout": {
        "barmode": "relative",
        "legend": {
         "title": {
          "text": "variable"
         },
         "tracegroupgap": 0
        },
        "margin": {
         "t": 60
        },
        "template": {
         "data": {
          "bar": [
           {
            "error_x": {
             "color": "#2a3f5f"
            },
            "error_y": {
             "color": "#2a3f5f"
            },
            "marker": {
             "line": {
              "color": "#E5ECF6",
              "width": 0.5
             },
             "pattern": {
              "fillmode": "overlay",
              "size": 10,
              "solidity": 0.2
             }
            },
            "type": "bar"
           }
          ],
          "barpolar": [
           {
            "marker": {
             "line": {
              "color": "#E5ECF6",
              "width": 0.5
             },
             "pattern": {
              "fillmode": "overlay",
              "size": 10,
              "solidity": 0.2
             }
            },
            "type": "barpolar"
           }
          ],
          "carpet": [
           {
            "aaxis": {
             "endlinecolor": "#2a3f5f",
             "gridcolor": "white",
             "linecolor": "white",
             "minorgridcolor": "white",
             "startlinecolor": "#2a3f5f"
            },
            "baxis": {
             "endlinecolor": "#2a3f5f",
             "gridcolor": "white",
             "linecolor": "white",
             "minorgridcolor": "white",
             "startlinecolor": "#2a3f5f"
            },
            "type": "carpet"
           }
          ],
          "choropleth": [
           {
            "colorbar": {
             "outlinewidth": 0,
             "ticks": ""
            },
            "type": "choropleth"
           }
          ],
          "contour": [
           {
            "colorbar": {
             "outlinewidth": 0,
             "ticks": ""
            },
            "colorscale": [
             [
              0,
              "#0d0887"
             ],
             [
              0.1111111111111111,
              "#46039f"
             ],
             [
              0.2222222222222222,
              "#7201a8"
             ],
             [
              0.3333333333333333,
              "#9c179e"
             ],
             [
              0.4444444444444444,
              "#bd3786"
             ],
             [
              0.5555555555555556,
              "#d8576b"
             ],
             [
              0.6666666666666666,
              "#ed7953"
             ],
             [
              0.7777777777777778,
              "#fb9f3a"
             ],
             [
              0.8888888888888888,
              "#fdca26"
             ],
             [
              1,
              "#f0f921"
             ]
            ],
            "type": "contour"
           }
          ],
          "contourcarpet": [
           {
            "colorbar": {
             "outlinewidth": 0,
             "ticks": ""
            },
            "type": "contourcarpet"
           }
          ],
          "heatmap": [
           {
            "colorbar": {
             "outlinewidth": 0,
             "ticks": ""
            },
            "colorscale": [
             [
              0,
              "#0d0887"
             ],
             [
              0.1111111111111111,
              "#46039f"
             ],
             [
              0.2222222222222222,
              "#7201a8"
             ],
             [
              0.3333333333333333,
              "#9c179e"
             ],
             [
              0.4444444444444444,
              "#bd3786"
             ],
             [
              0.5555555555555556,
              "#d8576b"
             ],
             [
              0.6666666666666666,
              "#ed7953"
             ],
             [
              0.7777777777777778,
              "#fb9f3a"
             ],
             [
              0.8888888888888888,
              "#fdca26"
             ],
             [
              1,
              "#f0f921"
             ]
            ],
            "type": "heatmap"
           }
          ],
          "heatmapgl": [
           {
            "colorbar": {
             "outlinewidth": 0,
             "ticks": ""
            },
            "colorscale": [
             [
              0,
              "#0d0887"
             ],
             [
              0.1111111111111111,
              "#46039f"
             ],
             [
              0.2222222222222222,
              "#7201a8"
             ],
             [
              0.3333333333333333,
              "#9c179e"
             ],
             [
              0.4444444444444444,
              "#bd3786"
             ],
             [
              0.5555555555555556,
              "#d8576b"
             ],
             [
              0.6666666666666666,
              "#ed7953"
             ],
             [
              0.7777777777777778,
              "#fb9f3a"
             ],
             [
              0.8888888888888888,
              "#fdca26"
             ],
             [
              1,
              "#f0f921"
             ]
            ],
            "type": "heatmapgl"
           }
          ],
          "histogram": [
           {
            "marker": {
             "pattern": {
              "fillmode": "overlay",
              "size": 10,
              "solidity": 0.2
             }
            },
            "type": "histogram"
           }
          ],
          "histogram2d": [
           {
            "colorbar": {
             "outlinewidth": 0,
             "ticks": ""
            },
            "colorscale": [
             [
              0,
              "#0d0887"
             ],
             [
              0.1111111111111111,
              "#46039f"
             ],
             [
              0.2222222222222222,
              "#7201a8"
             ],
             [
              0.3333333333333333,
              "#9c179e"
             ],
             [
              0.4444444444444444,
              "#bd3786"
             ],
             [
              0.5555555555555556,
              "#d8576b"
             ],
             [
              0.6666666666666666,
              "#ed7953"
             ],
             [
              0.7777777777777778,
              "#fb9f3a"
             ],
             [
              0.8888888888888888,
              "#fdca26"
             ],
             [
              1,
              "#f0f921"
             ]
            ],
            "type": "histogram2d"
           }
          ],
          "histogram2dcontour": [
           {
            "colorbar": {
             "outlinewidth": 0,
             "ticks": ""
            },
            "colorscale": [
             [
              0,
              "#0d0887"
             ],
             [
              0.1111111111111111,
              "#46039f"
             ],
             [
              0.2222222222222222,
              "#7201a8"
             ],
             [
              0.3333333333333333,
              "#9c179e"
             ],
             [
              0.4444444444444444,
              "#bd3786"
             ],
             [
              0.5555555555555556,
              "#d8576b"
             ],
             [
              0.6666666666666666,
              "#ed7953"
             ],
             [
              0.7777777777777778,
              "#fb9f3a"
             ],
             [
              0.8888888888888888,
              "#fdca26"
             ],
             [
              1,
              "#f0f921"
             ]
            ],
            "type": "histogram2dcontour"
           }
          ],
          "mesh3d": [
           {
            "colorbar": {
             "outlinewidth": 0,
             "ticks": ""
            },
            "type": "mesh3d"
           }
          ],
          "parcoords": [
           {
            "line": {
             "colorbar": {
              "outlinewidth": 0,
              "ticks": ""
             }
            },
            "type": "parcoords"
           }
          ],
          "pie": [
           {
            "automargin": true,
            "type": "pie"
           }
          ],
          "scatter": [
           {
            "marker": {
             "colorbar": {
              "outlinewidth": 0,
              "ticks": ""
             }
            },
            "type": "scatter"
           }
          ],
          "scatter3d": [
           {
            "line": {
             "colorbar": {
              "outlinewidth": 0,
              "ticks": ""
             }
            },
            "marker": {
             "colorbar": {
              "outlinewidth": 0,
              "ticks": ""
             }
            },
            "type": "scatter3d"
           }
          ],
          "scattercarpet": [
           {
            "marker": {
             "colorbar": {
              "outlinewidth": 0,
              "ticks": ""
             }
            },
            "type": "scattercarpet"
           }
          ],
          "scattergeo": [
           {
            "marker": {
             "colorbar": {
              "outlinewidth": 0,
              "ticks": ""
             }
            },
            "type": "scattergeo"
           }
          ],
          "scattergl": [
           {
            "marker": {
             "colorbar": {
              "outlinewidth": 0,
              "ticks": ""
             }
            },
            "type": "scattergl"
           }
          ],
          "scattermapbox": [
           {
            "marker": {
             "colorbar": {
              "outlinewidth": 0,
              "ticks": ""
             }
            },
            "type": "scattermapbox"
           }
          ],
          "scatterpolar": [
           {
            "marker": {
             "colorbar": {
              "outlinewidth": 0,
              "ticks": ""
             }
            },
            "type": "scatterpolar"
           }
          ],
          "scatterpolargl": [
           {
            "marker": {
             "colorbar": {
              "outlinewidth": 0,
              "ticks": ""
             }
            },
            "type": "scatterpolargl"
           }
          ],
          "scatterternary": [
           {
            "marker": {
             "colorbar": {
              "outlinewidth": 0,
              "ticks": ""
             }
            },
            "type": "scatterternary"
           }
          ],
          "surface": [
           {
            "colorbar": {
             "outlinewidth": 0,
             "ticks": ""
            },
            "colorscale": [
             [
              0,
              "#0d0887"
             ],
             [
              0.1111111111111111,
              "#46039f"
             ],
             [
              0.2222222222222222,
              "#7201a8"
             ],
             [
              0.3333333333333333,
              "#9c179e"
             ],
             [
              0.4444444444444444,
              "#bd3786"
             ],
             [
              0.5555555555555556,
              "#d8576b"
             ],
             [
              0.6666666666666666,
              "#ed7953"
             ],
             [
              0.7777777777777778,
              "#fb9f3a"
             ],
             [
              0.8888888888888888,
              "#fdca26"
             ],
             [
              1,
              "#f0f921"
             ]
            ],
            "type": "surface"
           }
          ],
          "table": [
           {
            "cells": {
             "fill": {
              "color": "#EBF0F8"
             },
             "line": {
              "color": "white"
             }
            },
            "header": {
             "fill": {
              "color": "#C8D4E3"
             },
             "line": {
              "color": "white"
             }
            },
            "type": "table"
           }
          ]
         },
         "layout": {
          "annotationdefaults": {
           "arrowcolor": "#2a3f5f",
           "arrowhead": 0,
           "arrowwidth": 1
          },
          "autotypenumbers": "strict",
          "coloraxis": {
           "colorbar": {
            "outlinewidth": 0,
            "ticks": ""
           }
          },
          "colorscale": {
           "diverging": [
            [
             0,
             "#8e0152"
            ],
            [
             0.1,
             "#c51b7d"
            ],
            [
             0.2,
             "#de77ae"
            ],
            [
             0.3,
             "#f1b6da"
            ],
            [
             0.4,
             "#fde0ef"
            ],
            [
             0.5,
             "#f7f7f7"
            ],
            [
             0.6,
             "#e6f5d0"
            ],
            [
             0.7,
             "#b8e186"
            ],
            [
             0.8,
             "#7fbc41"
            ],
            [
             0.9,
             "#4d9221"
            ],
            [
             1,
             "#276419"
            ]
           ],
           "sequential": [
            [
             0,
             "#0d0887"
            ],
            [
             0.1111111111111111,
             "#46039f"
            ],
            [
             0.2222222222222222,
             "#7201a8"
            ],
            [
             0.3333333333333333,
             "#9c179e"
            ],
            [
             0.4444444444444444,
             "#bd3786"
            ],
            [
             0.5555555555555556,
             "#d8576b"
            ],
            [
             0.6666666666666666,
             "#ed7953"
            ],
            [
             0.7777777777777778,
             "#fb9f3a"
            ],
            [
             0.8888888888888888,
             "#fdca26"
            ],
            [
             1,
             "#f0f921"
            ]
           ],
           "sequentialminus": [
            [
             0,
             "#0d0887"
            ],
            [
             0.1111111111111111,
             "#46039f"
            ],
            [
             0.2222222222222222,
             "#7201a8"
            ],
            [
             0.3333333333333333,
             "#9c179e"
            ],
            [
             0.4444444444444444,
             "#bd3786"
            ],
            [
             0.5555555555555556,
             "#d8576b"
            ],
            [
             0.6666666666666666,
             "#ed7953"
            ],
            [
             0.7777777777777778,
             "#fb9f3a"
            ],
            [
             0.8888888888888888,
             "#fdca26"
            ],
            [
             1,
             "#f0f921"
            ]
           ]
          },
          "colorway": [
           "#636efa",
           "#EF553B",
           "#00cc96",
           "#ab63fa",
           "#FFA15A",
           "#19d3f3",
           "#FF6692",
           "#B6E880",
           "#FF97FF",
           "#FECB52"
          ],
          "font": {
           "color": "#2a3f5f"
          },
          "geo": {
           "bgcolor": "white",
           "lakecolor": "white",
           "landcolor": "#E5ECF6",
           "showlakes": true,
           "showland": true,
           "subunitcolor": "white"
          },
          "hoverlabel": {
           "align": "left"
          },
          "hovermode": "closest",
          "mapbox": {
           "style": "light"
          },
          "paper_bgcolor": "white",
          "plot_bgcolor": "#E5ECF6",
          "polar": {
           "angularaxis": {
            "gridcolor": "white",
            "linecolor": "white",
            "ticks": ""
           },
           "bgcolor": "#E5ECF6",
           "radialaxis": {
            "gridcolor": "white",
            "linecolor": "white",
            "ticks": ""
           }
          },
          "scene": {
           "xaxis": {
            "backgroundcolor": "#E5ECF6",
            "gridcolor": "white",
            "gridwidth": 2,
            "linecolor": "white",
            "showbackground": true,
            "ticks": "",
            "zerolinecolor": "white"
           },
           "yaxis": {
            "backgroundcolor": "#E5ECF6",
            "gridcolor": "white",
            "gridwidth": 2,
            "linecolor": "white",
            "showbackground": true,
            "ticks": "",
            "zerolinecolor": "white"
           },
           "zaxis": {
            "backgroundcolor": "#E5ECF6",
            "gridcolor": "white",
            "gridwidth": 2,
            "linecolor": "white",
            "showbackground": true,
            "ticks": "",
            "zerolinecolor": "white"
           }
          },
          "shapedefaults": {
           "line": {
            "color": "#2a3f5f"
           }
          },
          "ternary": {
           "aaxis": {
            "gridcolor": "white",
            "linecolor": "white",
            "ticks": ""
           },
           "baxis": {
            "gridcolor": "white",
            "linecolor": "white",
            "ticks": ""
           },
           "bgcolor": "#E5ECF6",
           "caxis": {
            "gridcolor": "white",
            "linecolor": "white",
            "ticks": ""
           }
          },
          "title": {
           "x": 0.05
          },
          "xaxis": {
           "automargin": true,
           "gridcolor": "white",
           "linecolor": "white",
           "ticks": "",
           "title": {
            "standoff": 15
           },
           "zerolinecolor": "white",
           "zerolinewidth": 2
          },
          "yaxis": {
           "automargin": true,
           "gridcolor": "white",
           "linecolor": "white",
           "ticks": "",
           "title": {
            "standoff": 15
           },
           "zerolinecolor": "white",
           "zerolinewidth": 2
          }
         }
        },
        "xaxis": {
         "anchor": "y",
         "domain": [
          0,
          1
         ],
         "title": {
          "text": "value"
         }
        },
        "yaxis": {
         "anchor": "x",
         "domain": [
          0,
          1
         ],
         "title": {
          "text": "count"
         }
        }
       }
      },
      "text/html": [
       "<div>                            <div id=\"44fea494-dbfe-4375-b754-c6a61cfdb977\" class=\"plotly-graph-div\" style=\"height:525px; width:100%;\"></div>            <script type=\"text/javascript\">                require([\"plotly\"], function(Plotly) {                    window.PLOTLYENV=window.PLOTLYENV || {};                                    if (document.getElementById(\"44fea494-dbfe-4375-b754-c6a61cfdb977\")) {                    Plotly.newPlot(                        \"44fea494-dbfe-4375-b754-c6a61cfdb977\",                        [{\"alignmentgroup\":\"True\",\"bingroup\":\"x\",\"hovertemplate\":\"variable=0<br>value=%{x}<br>count=%{y}<extra></extra>\",\"legendgroup\":\"0\",\"marker\":{\"color\":\"#636efa\",\"pattern\":{\"shape\":\"\"}},\"name\":\"0\",\"nbinsx\":20,\"offsetgroup\":\"0\",\"orientation\":\"v\",\"showlegend\":true,\"type\":\"histogram\",\"x\":[-0.184,0.596,-0.3426666666666667,-0.036,0.116,-0.034666666666666665,0.388,0.18666666666666668,0.23466666666666666,0.07066666666666667,0.492,0.06933333333333333,0.3373333333333333,-0.49466666666666664,-0.6106666666666667,0.392,0.37066666666666664,-0.42,-0.23066666666666666,-0.26,0.104,-0.5093333333333333,-0.172,-0.49733333333333335,0.013333333333333334,0.252,-0.5546666666666666,-0.4266666666666667,0.38,-0.048,0.5146666666666667,-0.3253333333333333,0.23466666666666666,-0.21333333333333335,-0.404,-0.36666666666666664,-0.32666666666666666,-0.029333333333333333,-0.368,-0.32266666666666666,-0.18933333333333333,0.068,0.14666666666666667,0.38266666666666665,0.41333333333333333,0.2733333333333333,0.12933333333333333,-0.4746666666666667,0.12666666666666668,0.07333333333333333,-0.524,-0.03333333333333333,0.12,0.037333333333333336,-0.31466666666666665,0.436,0.384,-0.43733333333333335,-0.38133333333333336,-0.37733333333333335,0.06266666666666666,-0.0026666666666666666,-0.19333333333333333,0.19333333333333333,0.4746666666666667,-0.32,-0.49333333333333335,0.10933333333333334,0.41733333333333333,0.5053333333333333,-0.25733333333333336,0.184,-0.15333333333333332,-0.4146666666666667,0.06266666666666666,-0.35333333333333333,-0.04933333333333333,-0.376,0.544,-0.412,0.27466666666666667,-0.284,-0.14133333333333334,0.336,-0.4013333333333333,-0.41733333333333333,-0.32666666666666666,0.3466666666666667,-0.4746666666666667,-0.092,-0.021333333333333333,-0.28,0.22533333333333333,0.04666666666666667,0.12,-0.42,0.14133333333333334,-0.164,-0.068,0.068,-0.2733333333333333,-0.5786666666666667,0.07333333333333333,-0.3333333333333333,0.017333333333333333,0.5666666666666667,0.17866666666666667,-0.152,0.5226666666666666,0.07733333333333334,-0.04933333333333333,-0.030666666666666665,-0.20933333333333334,0.14933333333333335,0.14133333333333334,-0.16933333333333334,-0.44666666666666666,0.244,-0.24933333333333332,0.5373333333333333,0.31733333333333336,0.014666666666666666,-0.33866666666666667,-0.20933333333333334,0.29333333333333333,0.14266666666666666,-0.4013333333333333,0.5466666666666666,-0.16933333333333334,-0.216,0.11733333333333333,0.404,-0.196,0.4053333333333333,0.05733333333333333,-0.19333333333333333,0.184,-0.428,-0.18533333333333332,0.24,-0.092,-0.03866666666666667,-0.03333333333333333,-0.07466666666666667,-0.15733333333333333,0.02666666666666667,-0.5213333333333333,0.3373333333333333,0.029333333333333333,-0.132,0.476,0.32133333333333336,-0.010666666666666666,-0.376,-0.2826666666666667,0.21333333333333335,-0.28,0.25333333333333335,-0.4066666666666667,0.22533333333333333,-0.016,0.22933333333333333,-0.10666666666666667,0.018666666666666668,-0.37333333333333335,0.4146666666666667,0.3933333333333333,-0.38,-0.212,-0.112,-0.256,0.23466666666666666,0.05733333333333333,0.19866666666666666,0.32666666666666666,-0.31466666666666665,-0.028,-0.2986666666666667,0.176,-0.352,-0.04,-0.03333333333333333,0.037333333333333336,-0.30266666666666664,0.16533333333333333,-0.4013333333333333,0.464,0.034666666666666665,0.232,0.07866666666666666,-0.14133333333333334,0.2853333333333333,-0.016,0.19333333333333333,0.568,-0.42133333333333334,-0.30533333333333335,0.5066666666666667,0.24666666666666667,-0.228,-0.352,-0.3293333333333333,-0.5093333333333333,0.16133333333333333,-0.128,0.196,-0.556,-0.13333333333333333,0.264,0.16,-0.4093333333333333,0.224,0.244,-0.36933333333333335,0.396,-0.07066666666666667,-0.10666666666666667,0.02,0.048,-0.368,-0.20533333333333334,0.2986666666666667,-0.49333333333333335,-0.132,-0.372,0.15066666666666667,0.04533333333333334,0.16133333333333333,0.18133333333333335,-0.36133333333333334,0.4053333333333333,-0.2,0.37733333333333335,0.3,0.3933333333333333,-0.33466666666666667,-0.02666666666666667,-0.4786666666666667,-0.33066666666666666,0.05466666666666667,-0.30133333333333334,0.1,0.1,-0.268,-0.296,0.03333333333333333,-0.28933333333333333,-0.412,0.088,0.19733333333333333,0.010666666666666666,0.172,0.324,-0.2693333333333333,0.188,-0.068,-0.05333333333333334,0.36133333333333334,-0.248,-0.08533333333333333,-0.2826666666666667,0.664,0.216,-0.42533333333333334,0.052,0.36933333333333335,0.14133333333333334,0.5146666666666667,0.236,-0.22933333333333333,0.172,0.492,0.10933333333333334,0.26266666666666666,-0.33466666666666667,-0.050666666666666665,-0.10133333333333333,-0.08933333333333333,0.376,-0.232,-0.256,-0.176,0.5226666666666666,0.2693333333333333,-0.344,-0.08933333333333333,0.43866666666666665,-0.27066666666666667,0.18666666666666668,-0.29733333333333334,0.05333333333333334,-0.544,-0.33466666666666667,-0.172,-0.11466666666666667,-0.444,-0.488,-0.4573333333333333,0.15866666666666668,-0.34933333333333333,-0.23466666666666666,0.212,-0.005333333333333333,0.12266666666666666,-0.16933333333333334,0.42,-0.248,0.37333333333333335,0.06666666666666667,0.5586666666666666,0.5293333333333333,0.06933333333333333,-0.3626666666666667,0.37333333333333335,-0.24666666666666667,-0.536,-0.312,-0.2,-0.072,0.1,-0.5213333333333333,0.24266666666666667,0.050666666666666665,0.16266666666666665,0.492,0.037333333333333336,0.10533333333333333,0.1,0.2986666666666667,0.32266666666666666,0.11733333333333333,-0.132,-0.013333333333333334,-0.464,0.6106666666666667,-0.3546666666666667,-0.0026666666666666666,-0.010666666666666666,0.45066666666666666,-0.3,-0.5373333333333333,-0.516,-0.08666666666666667,-0.5333333333333333,0.10666666666666667,0.09466666666666666,-0.5093333333333333,-0.45466666666666666,-0.07733333333333334,-0.588,-0.03866666666666667,-0.32666666666666666,0.2826666666666667,-0.34933333333333333,-0.5613333333333334,-0.38533333333333336,-0.4013333333333333,-0.432,0.2906666666666667,0.16133333333333333,0.08133333333333333,0.396,0.484,-0.25733333333333336,0.176,-0.025333333333333333,0.30133333333333334,0.004,-0.39466666666666667,0.068,-0.056,0.45066666666666666,-0.3973333333333333,-0.18133333333333335,-0.029333333333333333,0.6,-0.072,0.23866666666666667,-0.4706666666666667,0.4093333333333333,0.22266666666666668,0.12533333333333332,-0.010666666666666666,-0.144,-0.29733333333333334,0.6786666666666666,0.3586666666666667,0.268,-0.09466666666666666,0.2853333333333333,0.39066666666666666,0.144,-0.24533333333333332,0.03333333333333333,-0.39866666666666667,-0.11866666666666667,-0.19466666666666665,0.19066666666666668,0.03333333333333333,0.30266666666666664,-0.09066666666666667,-0.18933333333333333,-0.21333333333333335,-0.18133333333333335,0.16,-0.18533333333333332,-0.45466666666666666,0.12133333333333333,-0.33466666666666667,-0.37866666666666665,0.09733333333333333,-0.21466666666666667,0.4093333333333333,-0.21066666666666667,0.5853333333333334,-0.5133333333333333,0.5973333333333334,0.124,0.268,0.22,0.3893333333333333,0.43733333333333335,0.276,-0.4826666666666667,0.33066666666666666,-0.05333333333333334,-0.5333333333333333,0.15066666666666667,-0.2,-0.14133333333333334,-0.15733333333333333,0.14533333333333334,0.108,0.312,-0.604,0.172,0.18933333333333333,-0.092,0.328,-0.32,0.12133333333333333,0.24133333333333334,-0.07733333333333334,0.23333333333333334,-0.021333333333333333,-0.09866666666666667,0.38533333333333336,0.5333333333333333,-0.14533333333333334,-0.025333333333333333,-0.09733333333333333,-0.5786666666666667,0.18666666666666668,-0.38133333333333336,0.5533333333333333,0.6933333333333334,0.392,0.572,0.24533333333333332,-0.192,0.29733333333333334,0.19333333333333333,-0.3413333333333333,0.43466666666666665,-0.09466666666666666,-0.48,-0.08933333333333333,-0.5906666666666667,-0.216,-0.5133333333333333,-0.22533333333333333,0.006666666666666667,0.37866666666666665,-0.21333333333333335,-0.12933333333333333,0.368,-0.13866666666666666,-0.32133333333333336,0.24133333333333334,0.13066666666666665,-0.35333333333333333,0.20266666666666666,0.368,-0.2613333333333333,0.528,-0.384,0.304,-0.5053333333333333,0.025333333333333333,0.632,0.5333333333333333,0.2826666666666667,0.20133333333333334,-0.548,-0.256,0.14666666666666667,-0.108,-0.116,-0.5893333333333334,-0.4866666666666667],\"xaxis\":\"x\",\"yaxis\":\"y\"}],                        {\"barmode\":\"relative\",\"legend\":{\"title\":{\"text\":\"variable\"},\"tracegroupgap\":0},\"margin\":{\"t\":60},\"template\":{\"data\":{\"bar\":[{\"error_x\":{\"color\":\"#2a3f5f\"},\"error_y\":{\"color\":\"#2a3f5f\"},\"marker\":{\"line\":{\"color\":\"#E5ECF6\",\"width\":0.5},\"pattern\":{\"fillmode\":\"overlay\",\"size\":10,\"solidity\":0.2}},\"type\":\"bar\"}],\"barpolar\":[{\"marker\":{\"line\":{\"color\":\"#E5ECF6\",\"width\":0.5},\"pattern\":{\"fillmode\":\"overlay\",\"size\":10,\"solidity\":0.2}},\"type\":\"barpolar\"}],\"carpet\":[{\"aaxis\":{\"endlinecolor\":\"#2a3f5f\",\"gridcolor\":\"white\",\"linecolor\":\"white\",\"minorgridcolor\":\"white\",\"startlinecolor\":\"#2a3f5f\"},\"baxis\":{\"endlinecolor\":\"#2a3f5f\",\"gridcolor\":\"white\",\"linecolor\":\"white\",\"minorgridcolor\":\"white\",\"startlinecolor\":\"#2a3f5f\"},\"type\":\"carpet\"}],\"choropleth\":[{\"colorbar\":{\"outlinewidth\":0,\"ticks\":\"\"},\"type\":\"choropleth\"}],\"contour\":[{\"colorbar\":{\"outlinewidth\":0,\"ticks\":\"\"},\"colorscale\":[[0.0,\"#0d0887\"],[0.1111111111111111,\"#46039f\"],[0.2222222222222222,\"#7201a8\"],[0.3333333333333333,\"#9c179e\"],[0.4444444444444444,\"#bd3786\"],[0.5555555555555556,\"#d8576b\"],[0.6666666666666666,\"#ed7953\"],[0.7777777777777778,\"#fb9f3a\"],[0.8888888888888888,\"#fdca26\"],[1.0,\"#f0f921\"]],\"type\":\"contour\"}],\"contourcarpet\":[{\"colorbar\":{\"outlinewidth\":0,\"ticks\":\"\"},\"type\":\"contourcarpet\"}],\"heatmap\":[{\"colorbar\":{\"outlinewidth\":0,\"ticks\":\"\"},\"colorscale\":[[0.0,\"#0d0887\"],[0.1111111111111111,\"#46039f\"],[0.2222222222222222,\"#7201a8\"],[0.3333333333333333,\"#9c179e\"],[0.4444444444444444,\"#bd3786\"],[0.5555555555555556,\"#d8576b\"],[0.6666666666666666,\"#ed7953\"],[0.7777777777777778,\"#fb9f3a\"],[0.8888888888888888,\"#fdca26\"],[1.0,\"#f0f921\"]],\"type\":\"heatmap\"}],\"heatmapgl\":[{\"colorbar\":{\"outlinewidth\":0,\"ticks\":\"\"},\"colorscale\":[[0.0,\"#0d0887\"],[0.1111111111111111,\"#46039f\"],[0.2222222222222222,\"#7201a8\"],[0.3333333333333333,\"#9c179e\"],[0.4444444444444444,\"#bd3786\"],[0.5555555555555556,\"#d8576b\"],[0.6666666666666666,\"#ed7953\"],[0.7777777777777778,\"#fb9f3a\"],[0.8888888888888888,\"#fdca26\"],[1.0,\"#f0f921\"]],\"type\":\"heatmapgl\"}],\"histogram\":[{\"marker\":{\"pattern\":{\"fillmode\":\"overlay\",\"size\":10,\"solidity\":0.2}},\"type\":\"histogram\"}],\"histogram2d\":[{\"colorbar\":{\"outlinewidth\":0,\"ticks\":\"\"},\"colorscale\":[[0.0,\"#0d0887\"],[0.1111111111111111,\"#46039f\"],[0.2222222222222222,\"#7201a8\"],[0.3333333333333333,\"#9c179e\"],[0.4444444444444444,\"#bd3786\"],[0.5555555555555556,\"#d8576b\"],[0.6666666666666666,\"#ed7953\"],[0.7777777777777778,\"#fb9f3a\"],[0.8888888888888888,\"#fdca26\"],[1.0,\"#f0f921\"]],\"type\":\"histogram2d\"}],\"histogram2dcontour\":[{\"colorbar\":{\"outlinewidth\":0,\"ticks\":\"\"},\"colorscale\":[[0.0,\"#0d0887\"],[0.1111111111111111,\"#46039f\"],[0.2222222222222222,\"#7201a8\"],[0.3333333333333333,\"#9c179e\"],[0.4444444444444444,\"#bd3786\"],[0.5555555555555556,\"#d8576b\"],[0.6666666666666666,\"#ed7953\"],[0.7777777777777778,\"#fb9f3a\"],[0.8888888888888888,\"#fdca26\"],[1.0,\"#f0f921\"]],\"type\":\"histogram2dcontour\"}],\"mesh3d\":[{\"colorbar\":{\"outlinewidth\":0,\"ticks\":\"\"},\"type\":\"mesh3d\"}],\"parcoords\":[{\"line\":{\"colorbar\":{\"outlinewidth\":0,\"ticks\":\"\"}},\"type\":\"parcoords\"}],\"pie\":[{\"automargin\":true,\"type\":\"pie\"}],\"scatter\":[{\"marker\":{\"colorbar\":{\"outlinewidth\":0,\"ticks\":\"\"}},\"type\":\"scatter\"}],\"scatter3d\":[{\"line\":{\"colorbar\":{\"outlinewidth\":0,\"ticks\":\"\"}},\"marker\":{\"colorbar\":{\"outlinewidth\":0,\"ticks\":\"\"}},\"type\":\"scatter3d\"}],\"scattercarpet\":[{\"marker\":{\"colorbar\":{\"outlinewidth\":0,\"ticks\":\"\"}},\"type\":\"scattercarpet\"}],\"scattergeo\":[{\"marker\":{\"colorbar\":{\"outlinewidth\":0,\"ticks\":\"\"}},\"type\":\"scattergeo\"}],\"scattergl\":[{\"marker\":{\"colorbar\":{\"outlinewidth\":0,\"ticks\":\"\"}},\"type\":\"scattergl\"}],\"scattermapbox\":[{\"marker\":{\"colorbar\":{\"outlinewidth\":0,\"ticks\":\"\"}},\"type\":\"scattermapbox\"}],\"scatterpolar\":[{\"marker\":{\"colorbar\":{\"outlinewidth\":0,\"ticks\":\"\"}},\"type\":\"scatterpolar\"}],\"scatterpolargl\":[{\"marker\":{\"colorbar\":{\"outlinewidth\":0,\"ticks\":\"\"}},\"type\":\"scatterpolargl\"}],\"scatterternary\":[{\"marker\":{\"colorbar\":{\"outlinewidth\":0,\"ticks\":\"\"}},\"type\":\"scatterternary\"}],\"surface\":[{\"colorbar\":{\"outlinewidth\":0,\"ticks\":\"\"},\"colorscale\":[[0.0,\"#0d0887\"],[0.1111111111111111,\"#46039f\"],[0.2222222222222222,\"#7201a8\"],[0.3333333333333333,\"#9c179e\"],[0.4444444444444444,\"#bd3786\"],[0.5555555555555556,\"#d8576b\"],[0.6666666666666666,\"#ed7953\"],[0.7777777777777778,\"#fb9f3a\"],[0.8888888888888888,\"#fdca26\"],[1.0,\"#f0f921\"]],\"type\":\"surface\"}],\"table\":[{\"cells\":{\"fill\":{\"color\":\"#EBF0F8\"},\"line\":{\"color\":\"white\"}},\"header\":{\"fill\":{\"color\":\"#C8D4E3\"},\"line\":{\"color\":\"white\"}},\"type\":\"table\"}]},\"layout\":{\"annotationdefaults\":{\"arrowcolor\":\"#2a3f5f\",\"arrowhead\":0,\"arrowwidth\":1},\"autotypenumbers\":\"strict\",\"coloraxis\":{\"colorbar\":{\"outlinewidth\":0,\"ticks\":\"\"}},\"colorscale\":{\"diverging\":[[0,\"#8e0152\"],[0.1,\"#c51b7d\"],[0.2,\"#de77ae\"],[0.3,\"#f1b6da\"],[0.4,\"#fde0ef\"],[0.5,\"#f7f7f7\"],[0.6,\"#e6f5d0\"],[0.7,\"#b8e186\"],[0.8,\"#7fbc41\"],[0.9,\"#4d9221\"],[1,\"#276419\"]],\"sequential\":[[0.0,\"#0d0887\"],[0.1111111111111111,\"#46039f\"],[0.2222222222222222,\"#7201a8\"],[0.3333333333333333,\"#9c179e\"],[0.4444444444444444,\"#bd3786\"],[0.5555555555555556,\"#d8576b\"],[0.6666666666666666,\"#ed7953\"],[0.7777777777777778,\"#fb9f3a\"],[0.8888888888888888,\"#fdca26\"],[1.0,\"#f0f921\"]],\"sequentialminus\":[[0.0,\"#0d0887\"],[0.1111111111111111,\"#46039f\"],[0.2222222222222222,\"#7201a8\"],[0.3333333333333333,\"#9c179e\"],[0.4444444444444444,\"#bd3786\"],[0.5555555555555556,\"#d8576b\"],[0.6666666666666666,\"#ed7953\"],[0.7777777777777778,\"#fb9f3a\"],[0.8888888888888888,\"#fdca26\"],[1.0,\"#f0f921\"]]},\"colorway\":[\"#636efa\",\"#EF553B\",\"#00cc96\",\"#ab63fa\",\"#FFA15A\",\"#19d3f3\",\"#FF6692\",\"#B6E880\",\"#FF97FF\",\"#FECB52\"],\"font\":{\"color\":\"#2a3f5f\"},\"geo\":{\"bgcolor\":\"white\",\"lakecolor\":\"white\",\"landcolor\":\"#E5ECF6\",\"showlakes\":true,\"showland\":true,\"subunitcolor\":\"white\"},\"hoverlabel\":{\"align\":\"left\"},\"hovermode\":\"closest\",\"mapbox\":{\"style\":\"light\"},\"paper_bgcolor\":\"white\",\"plot_bgcolor\":\"#E5ECF6\",\"polar\":{\"angularaxis\":{\"gridcolor\":\"white\",\"linecolor\":\"white\",\"ticks\":\"\"},\"bgcolor\":\"#E5ECF6\",\"radialaxis\":{\"gridcolor\":\"white\",\"linecolor\":\"white\",\"ticks\":\"\"}},\"scene\":{\"xaxis\":{\"backgroundcolor\":\"#E5ECF6\",\"gridcolor\":\"white\",\"gridwidth\":2,\"linecolor\":\"white\",\"showbackground\":true,\"ticks\":\"\",\"zerolinecolor\":\"white\"},\"yaxis\":{\"backgroundcolor\":\"#E5ECF6\",\"gridcolor\":\"white\",\"gridwidth\":2,\"linecolor\":\"white\",\"showbackground\":true,\"ticks\":\"\",\"zerolinecolor\":\"white\"},\"zaxis\":{\"backgroundcolor\":\"#E5ECF6\",\"gridcolor\":\"white\",\"gridwidth\":2,\"linecolor\":\"white\",\"showbackground\":true,\"ticks\":\"\",\"zerolinecolor\":\"white\"}},\"shapedefaults\":{\"line\":{\"color\":\"#2a3f5f\"}},\"ternary\":{\"aaxis\":{\"gridcolor\":\"white\",\"linecolor\":\"white\",\"ticks\":\"\"},\"baxis\":{\"gridcolor\":\"white\",\"linecolor\":\"white\",\"ticks\":\"\"},\"bgcolor\":\"#E5ECF6\",\"caxis\":{\"gridcolor\":\"white\",\"linecolor\":\"white\",\"ticks\":\"\"}},\"title\":{\"x\":0.05},\"xaxis\":{\"automargin\":true,\"gridcolor\":\"white\",\"linecolor\":\"white\",\"ticks\":\"\",\"title\":{\"standoff\":15},\"zerolinecolor\":\"white\",\"zerolinewidth\":2},\"yaxis\":{\"automargin\":true,\"gridcolor\":\"white\",\"linecolor\":\"white\",\"ticks\":\"\",\"title\":{\"standoff\":15},\"zerolinecolor\":\"white\",\"zerolinewidth\":2}}},\"xaxis\":{\"anchor\":\"y\",\"domain\":[0.0,1.0],\"title\":{\"text\":\"value\"}},\"yaxis\":{\"anchor\":\"x\",\"domain\":[0.0,1.0],\"title\":{\"text\":\"count\"}}},                        {\"responsive\": true}                    ).then(function(){\n",
       "                            \n",
       "var gd = document.getElementById('44fea494-dbfe-4375-b754-c6a61cfdb977');\n",
       "var x = new MutationObserver(function (mutations, observer) {{\n",
       "        var display = window.getComputedStyle(gd).display;\n",
       "        if (!display || display === 'none') {{\n",
       "            console.log([gd, 'removed!']);\n",
       "            Plotly.purge(gd);\n",
       "            observer.disconnect();\n",
       "        }}\n",
       "}});\n",
       "\n",
       "// Listen for the removal of the full notebook cells\n",
       "var notebookContainer = gd.closest('#notebook-container');\n",
       "if (notebookContainer) {{\n",
       "    x.observe(notebookContainer, {childList: true});\n",
       "}}\n",
       "\n",
       "// Listen for the clearing of the current output cell\n",
       "var outputEl = gd.closest('.output');\n",
       "if (outputEl) {{\n",
       "    x.observe(outputEl, {childList: true});\n",
       "}}\n",
       "\n",
       "                        })                };                });            </script>        </div>"
      ]
     },
     "metadata": {},
     "output_type": "display_data"
    }
   ],
   "source": [
    "more_y_4 = run_simulations(G, 20,0,0.7,0.17,500)\n",
    "px.histogram([z[19] for z in more_y_4], nbins = 20)"
   ]
  },
  {
   "cell_type": "markdown",
   "id": "cb382963",
   "metadata": {},
   "source": [
    "The distribution has become extremely broad. On the way between broad normal and bimodal, perhaps there is a configuration that results in the uniform distribution? This is an interesting question but it would require a large number of simulations to find the right scale value"
   ]
  },
  {
   "cell_type": "markdown",
   "id": "c8b51a01",
   "metadata": {},
   "source": [
    "\n",
    "## 4. How does the random factor scale affect the result when m!=0?\n",
    "\n",
    "Another aspect of this process that we will analyze is the role of the random factor's scale on ameliorating/bolstering consensus. Setting the mode attitude to 0.3 arbitrarily, we will see how the random factor affects resultant behavior. "
   ]
  },
  {
   "cell_type": "code",
   "execution_count": 37,
   "id": "8e8c1fba",
   "metadata": {},
   "outputs": [
    {
     "name": "stdout",
     "output_type": "stream",
     "text": [
      "0:06:46.018410\n"
     ]
    }
   ],
   "source": [
    "sds = np.linspace(0,2,200)\n",
    "\n",
    "start = datetime.datetime.now()\n",
    "all_res_sd = [run_simulations(G, 20,0.3,1,sd,10) for sd in sds]\n",
    "end = datetime.datetime.now()\n",
    "print(end - start)\n",
    "\n",
    "y_sd = [{r : np.mean([x[r] for x in res]) for r in res[0].keys()} for res in all_res_sd]\n",
    "\n",
    "result_df_sd = pd.DataFrame.from_records(y_sd)\n",
    "result_df_sd.index = sds\n",
    "result_df_sd.columns = ['Epoch: ' + str(col) for col in result_df_sd.columns]"
   ]
  },
  {
   "cell_type": "code",
   "execution_count": 38,
   "id": "43530f97",
   "metadata": {},
   "outputs": [
    {
     "data": {
      "image/png": "[encoded data removed]",
      "text/plain": [
       "<Figure size 432x288 with 1 Axes>"
      ]
     },
     "metadata": {
      "needs_background": "light"
     },
     "output_type": "display_data"
    }
   ],
   "source": [
    "for col in result_df_sd.columns:\n",
    "    plt.plot(result_df_sd.index,result_df_sd[col], label = col) \n",
    "plt.xlabel('Scale of random factor')\n",
    "plt.ylabel('Average Resultant Behavior')\n",
    "plt.legend(fontsize = 'xx-small', loc = 'upper right')\n",
    "plt.show()"
   ]
  },
  {
   "cell_type": "markdown",
   "id": "ac052c97",
   "metadata": {},
   "source": [
    "According to this graph, the resultant behavior goes from down as the scale increases. This makes sense. As the random factor gets scaled up, initial attitudes matter less and randomness begins to dominate, pushing resultant behavior towards a neutral zero.\n",
    "\n",
    "A more curious result is that while the first derivative is consistently negative, the second derivate flips from negative to positive at approximately 0.8. That is, increases in randomness hardly budge the result when randomness is small. As randomness increases, opposition gets a foothold and makes a dent on the majority behavior. Then as randomness increases even more, it stops making a difference as the attitude approaches its asymptote.\n",
    "\n",
    "To get an estimate of where the second derivative flips, we will again try a logistic and polynomial expressions. This is clearly not a usual logistic curve, so we will use the general logistic equation, which allows for more flexibility with more degrees of freedom. To make the comparison fair we will allow the polynomial an equivalent 6 degrees of freedom"
   ]
  },
  {
   "cell_type": "code",
   "execution_count": 39,
   "id": "5c737cac",
   "metadata": {},
   "outputs": [
    {
     "data": {
      "text/plain": [
       "[<matplotlib.lines.Line2D at 0x25648a89250>]"
      ]
     },
     "execution_count": 39,
     "metadata": {},
     "output_type": "execute_result"
    },
    {
     "data": {
      "image/png": "[encoded data removed]",
      "text/plain": [
       "<Figure size 432x288 with 1 Axes>"
      ]
     },
     "metadata": {
      "needs_background": "light"
     },
     "output_type": "display_data"
    }
   ],
   "source": [
    "def gen_logifunc(x,A,K,C,Q,B,v):\n",
    "    return A + ((K-A)/ (C + Q*np.exp(-B*(x)))**(1/v))\n",
    "\n",
    "def big_polyfunc(x,a,b,c,d,e,f):\n",
    "    return a*x**5 + b*x**4 + c*x**3 + d*x**2 + e*x + f\n",
    "\n",
    "logi_popt, logi_pcov = curve_fit(gen_logifunc, result_df_sd.index, result_df_sd['Epoch: 19'], p0=[0, 1, 1,1,1,1])\n",
    "\n",
    "poly_popt, poly_pcov = curve_fit(big_polyfunc, result_df_sd.index, result_df_sd['Epoch: 19'], p0=[0,0,0,0,0,0])\n",
    "\n",
    "plt.plot(result_df_sd.index, gen_logifunc(result_df_sd.index,*logi_popt), color = 'red')\n",
    "plt.plot(result_df_sd.index, big_polyfunc(result_df_sd.index,*poly_popt), color = 'blue')\n",
    "plt.plot(result_df_sd.index, result_df_sd['Epoch: 19'], color = 'black')"
   ]
  },
  {
   "cell_type": "code",
   "execution_count": 40,
   "id": "e7b07eaa",
   "metadata": {},
   "outputs": [
    {
     "data": {
      "text/plain": [
       "0.08729294373793994"
      ]
     },
     "execution_count": 40,
     "metadata": {},
     "output_type": "execute_result"
    }
   ],
   "source": [
    "gen_logifunc(50,*logi_popt)"
   ]
  },
  {
   "cell_type": "markdown",
   "id": "6e0f849b",
   "metadata": {},
   "source": [
    "The fitted logistic function appears to represent the empirical result well. However, there is a discrepancy between the fitted function and the expected behavior of the actual process. The function predicts that the curve will reach a y-asymptote around 0.09, never getting closer to 0 no matter how high the x-variable goes. This contradicts with our understanding of the actual process, which we expect to go to 0 with arbitrarily high random factors (at a certain point, the random factor will be so large that the probability of other factors effecting the result will be infinitessimally small)\n",
    "\n",
    "However, we can still get an estimate of where the second derivative flips with sympy"
   ]
  },
  {
   "cell_type": "code",
   "execution_count": 42,
   "id": "e4d66cf8",
   "metadata": {},
   "outputs": [
    {
     "data": {
      "text/latex": [
       "$\\displaystyle 0.596086637744425$"
      ],
      "text/plain": [
       "0.596086637744425"
      ]
     },
     "execution_count": 42,
     "metadata": {},
     "output_type": "execute_result"
    }
   ],
   "source": [
    "\n",
    "x = Symbol('x')\n",
    "\n",
    "A = logi_popt[0]\n",
    "K = logi_popt[1]\n",
    "C = logi_popt[2]\n",
    "Q = logi_popt[3]\n",
    "B = logi_popt[4]\n",
    "v = logi_popt[5]\n",
    "\n",
    "y = A + ((K-A)/ (C + Q*exp(-B*(x)))**(1/v))\n",
    "\n",
    "d_2 = diff(y, x, x)\n",
    "\n",
    "nsolve(d_2, (0,1), solver = 'bisect') #the normal solver doesn't work here: sympy doesn't know how to solve it explicitly"
   ]
  },
  {
   "cell_type": "markdown",
   "id": "e4142bc0",
   "metadata": {},
   "source": [
    "Interesting! That is approximately 0.6, but off slightly. I wonder what the exact inflection point would be if we ran over multiple Barabasi-Albert graphs and took the expected value at each point. Calculating it would take either a lot of computation or a lot of math, which I will leave for another day"
   ]
  },
  {
   "cell_type": "markdown",
   "id": "31a583b0",
   "metadata": {},
   "source": [
    "## 5. The role of apathy\n",
    "\n",
    ">\"We must always take sides. Neutrality helps the oppressor, never the victim. Silence encourages the tormentor, never the tormented.\"\n",
    "> - Elie Wiesel, Nobel Prize acceptance speech (1986)\n",
    "\n",
    "Elie Wiesel and many others have condemned the silence of bystanders during the Holocaust. According to them, apathy was a key factor in allowing the Holocaust to happen. Can we include that in our model?\n",
    "\n",
    "A simple way to model this is to use an apathy switch, which can be either 0 or 1. When the apathy switch is 1 the node's behavior will be 0. To seed these apathies we will use bernoulli random trials with parameter p, where p will be an input to the simulation function.\n",
    "\n"
   ]
  },
  {
   "cell_type": "code",
   "execution_count": 9,
   "id": "73408eb1",
   "metadata": {},
   "outputs": [],
   "source": [
    "def run_simulation_with_apathy(G\n",
    "                               ,n_iterations\n",
    "                               ,attitude_m\n",
    "                               ,attitude_sd\n",
    "                               ,fraction_a\n",
    "                               ,a_bilateral\n",
    "                               ,epsilon_sd = 0):\n",
    "    \n",
    "    '''Simulates the defined peer pressure process over an existing network graph, with unidirectional apathy\n",
    "    \n",
    "    Args:\n",
    "        G (networkx graph): Undirected graph defining peer relationships in a mock society\n",
    "        n_iterations (int): Number of times to iterate through the behavior updating process\n",
    "        attitude_m (float): Mean of attitude distribution\n",
    "        attitude_sd (float): Scale of attitude distribution\n",
    "        fraction_a (float): Bernoulli parameter for setting apathy switch to 0 or 1 for each person\n",
    "        a_bilateral (bool): switch for bilateral apathy, as opposed to unilateral\n",
    "        epsilon_sd (float): standard deviation of random factor\n",
    "\n",
    "    Returns:\n",
    "        Dictionary of form {epoch -> (mean resultant behavior)}\n",
    "    '''\n",
    "    length = len(G)\n",
    "    attitudes = np.random.normal(loc = attitude_m\n",
    "                                 ,scale = attitude_sd\n",
    "                                 , size = length)\n",
    "    for j in G.nodes:\n",
    "        G.nodes[j]['behavior'] = 0\n",
    "\n",
    "    #before here \n",
    "    apathies = bernoulli.rvs(fraction_a, size = length)\n",
    "    apathy_dict = {i : apathies[i] for i in range(len(apathies))}\n",
    "    nx.set_node_attributes(G, apathy_dict, \"apathy\")\n",
    "        \n",
    "    node_list = list(G.nodes)\n",
    "    \n",
    "    res = {}\n",
    "    \n",
    "    rands = np.random.normal(scale = epsilon_sd,size = (n_iterations,length))\n",
    "    \n",
    "    neighbors = [[G.nodes[j] for j in G.neighbors(n)] for n in node_list]\n",
    "    neighbor_node_list = [n for v,n in zip(neighbors,node_list) for x in v]\n",
    "    labels = to_array(neighbor_node_list) #gets used later\n",
    "    \n",
    "    for i in range(n_iterations):\n",
    "                \n",
    "        if a_bilateral:\n",
    "            neighbor_behaviors = [x['behavior'] if not x['apathy'] else 0 \\\n",
    "                      for v in neighbors for x in v ]\n",
    "        else:\n",
    "            neighbor_behaviors = [x['behavior'] if not (x['apathy'] and not x['behavior'] ==1) else 0 \\\n",
    "                                  for v in neighbors for x in v ]\n",
    "\n",
    "        average_neighbor_behaviors = clever_average(neighbor_behaviors, labels)\n",
    "        \n",
    "        new_behavior = np.sign(average_neighbor_behaviors + attitudes + rands[i])\n",
    "        \n",
    "        for j, v in zip(G.nodes, new_behavior):\n",
    "            G.nodes[j]['behavior'] = v\n",
    "                \n",
    "        res[i] = np.mean([G.nodes[n]['behavior'] for n in G.nodes])\n",
    "        \n",
    "    return res"
   ]
  },
  {
   "cell_type": "code",
   "execution_count": 10,
   "id": "275c417c",
   "metadata": {},
   "outputs": [],
   "source": [
    "def run_simulations_with_apathy(G\n",
    "                                ,n_iterations\n",
    "                                ,attitude_m\n",
    "                                ,attitude_sd\n",
    "                                ,fraction_a\n",
    "                                ,a_bilateral = False\n",
    "                                ,epsilon_sd = 0\n",
    "                                , n_trials = 5):\n",
    "    '''Runs a simulation with apathy many times, and takes the average result\n",
    "    \n",
    "    Args:\n",
    "        G (networkx graph): Undirected graph defining peer relationships in a mock society\n",
    "        n_iterations (int): Number of times to iterate through the behavior updating process\n",
    "        attitude_m (float): Mean of attitude distribution\n",
    "        attitude_sd (float): Mean of attitude distribution\n",
    "        fraction_a (float): Bernoulli parameter for setting apathy switch to 0 or 1 for each person\n",
    "        a_bilateral (bool): switch for bilateral apathy, as opposed to unilateral\n",
    "        epsilon_sd (float): standard deviation of random factor.\n",
    "        n_trials (int): Number of times to run the simulation from scratch\n",
    "\n",
    "    Returns:\n",
    "        Dictionary of form {epoch -> (mean resultant behavior)}\n",
    "    '''\n",
    "    res = [run_simulation_with_apathy(G, n_iterations, attitude_m,attitude_sd,fraction_a,a_bilateral,epsilon_sd) for i in range(n_trials)]\n",
    "    \n",
    "    return res\n",
    "\n"
   ]
  },
  {
   "cell_type": "markdown",
   "id": "a7ff7ead",
   "metadata": {},
   "source": [
    "### 5a. Unilateral apathy\n",
    "\n",
    "First, we will apply apathy only to the opposition side. That is, an apathetic person will withdraw from the peer behavior process if and only if they are in opposition. This could model situations where speaking out against something has a cost and speaking in support does not, like when the government can punish those who speak out against it.\n",
    "\n",
    "We will run a number of experiments with this apathy lever, varying the amount of apathy and seeing what happens. To isolate the effect of unilateral apathy, we will set the mode of the natural inclinations to zero."
   ]
  },
  {
   "cell_type": "code",
   "execution_count": 18,
   "id": "54bf939b",
   "metadata": {},
   "outputs": [
    {
     "name": "stdout",
     "output_type": "stream",
     "text": [
      "0:07:44.772469\n"
     ]
    }
   ],
   "source": [
    "G = nx.generators.random_graphs.barabasi_albert_graph(1500, 8)\n",
    "\n",
    "start = datetime.datetime.now()\n",
    "ps = np.linspace(0,1,15) \n",
    "all_res_p = [run_simulations_with_apathy(G, 20,0,1,p,False,0.17,100) for p in ps]\n",
    "end = datetime.datetime.now()\n",
    "print(end - start)"
   ]
  },
  {
   "cell_type": "code",
   "execution_count": 19,
   "id": "6e01093d",
   "metadata": {},
   "outputs": [],
   "source": [
    "y_p = [{r : np.mean([x[r] for x in res]) for r in res[0].keys()} for res in all_res_p]\n",
    "\n",
    "result_df_p = pd.DataFrame.from_records(y_p)\n",
    "result_df_p.index = ps\n",
    "result_df_p.columns = ['Epoch: ' + str(col) for col in result_df_p.columns]"
   ]
  },
  {
   "cell_type": "code",
   "execution_count": 20,
   "id": "65df550d",
   "metadata": {},
   "outputs": [
    {
     "data": {
      "image/png": "[encoded data removed]",
      "text/plain": [
       "<Figure size 432x288 with 1 Axes>"
      ]
     },
     "metadata": {
      "needs_background": "light"
     },
     "output_type": "display_data"
    }
   ],
   "source": [
    "for col in result_df_p.columns:\n",
    "    plt.plot(result_df_p.index,result_df_p[col], label = col) \n",
    "plt.xlabel('Fraction of Unilateral Apathy')\n",
    "plt.ylabel('Average Resultant Behavior')\n",
    "plt.legend(fontsize = 'xx-small', loc = 'lower right')\n",
    "plt.show()"
   ]
  },
  {
   "cell_type": "markdown",
   "id": "ff6cfa08",
   "metadata": {},
   "source": [
    "It is clear that unilateral apathy has a real effect on an otherwise evenly split population. This suggests that another way for mob mentality to take over is for opponents to be less interested than supporters, allowing the supporters to dominate the public narrative\n",
    "\n",
    "\n",
    "### 5b. Bilateral apathy\n",
    "\n",
    "Another way to look at apathy is to consider bilateral apathy, which applies equally to both sides. If we kept m = 0 the simulation would be entirely symmetrical and therefore the resultant expectant behavior would be 0 no matter what. To make things interesting, we will use a slightly skewed distribution from the start, and see how apathy interacts with it"
   ]
  },
  {
   "cell_type": "code",
   "execution_count": 23,
   "id": "9ae1bced",
   "metadata": {},
   "outputs": [
    {
     "name": "stdout",
     "output_type": "stream",
     "text": [
      "0:05:46.276837\n"
     ]
    }
   ],
   "source": [
    "start = datetime.datetime.now()\n",
    "ps = np.linspace(0,1,15) \n",
    "all_res_pb = [run_simulations_with_apathy(G, 20,0.1,1,p,True,0.17,100) for p in ps]\n",
    "end = datetime.datetime.now()\n",
    "print(end - start)"
   ]
  },
  {
   "cell_type": "code",
   "execution_count": 24,
   "id": "c959cf84",
   "metadata": {},
   "outputs": [],
   "source": [
    "y_pb = [{r : np.mean([x[r] for x in res]) for r in res[0].keys()} for res in all_res_pb]\n",
    "result_df_pb = pd.DataFrame.from_records(y_pb)\n",
    "result_df_pb.index = ps\n",
    "result_df_pb.columns = ['Epoch: ' + str(col) for col in result_df_pb.columns]"
   ]
  },
  {
   "cell_type": "code",
   "execution_count": 25,
   "id": "b6e3bc0a",
   "metadata": {},
   "outputs": [
    {
     "data": {
      "image/png": "[encoded data removed]",
      "text/plain": [
       "<Figure size 432x288 with 1 Axes>"
      ]
     },
     "metadata": {
      "needs_background": "light"
     },
     "output_type": "display_data"
    }
   ],
   "source": [
    "for col in result_df_pb.columns:\n",
    "    plt.plot(result_df_pb.index,result_df_pb[col], label = col) \n",
    "plt.xlabel('Fraction of Bilateral Apathy')\n",
    "plt.ylabel('Average Resultant Behavior')\n",
    "plt.legend(fontsize = 'xx-small', loc = 'lower right')\n",
    "plt.show()"
   ]
  },
  {
   "cell_type": "markdown",
   "id": "4c78d6c0",
   "metadata": {},
   "source": [
    "The result shows that higher bilateral apathy actually tamps down on 'critical mass' effects. This suggests that societies where people are politically engaged are more susceptible to radical homogenization than those where people are not engaged"
   ]
  },
  {
   "cell_type": "markdown",
   "id": "8f00d894",
   "metadata": {},
   "source": [
    "## 6. Conclusion \n",
    "\n",
    "In this notebook we looked at a simple model for peer pressure. It showed that a small imbalance in a population's attitudes can transform societal behavior from strong public opposition to strong public support. This could explain how entire groups of people can seem to get much more violent in a small amount of time. This also warns us that dangerous attitudes might be lying under the surface of any society, waiting for the right circumstances to catapult them into the mainstream. \n",
    "\n",
    "I believe that there is a huge amount of work that could be done extending this kind of model\n",
    "- Modeling society with different kinds of graphs, besides Barabasi-Albert\n",
    "- Seeding attitudes with different random processes\n",
    "- Adding more sophisticated mechanisms of behavior, ideally informed by psychology research"
   ]
  }
 ],
 "metadata": {
  "kernelspec": {
   "display_name": "Python 3",
   "language": "python",
   "name": "python3"
  },
  "language_info": {
   "codemirror_mode": {
    "name": "ipython",
    "version": 3
   },
   "file_extension": ".py",
   "mimetype": "text/x-python",
   "name": "python",
   "nbconvert_exporter": "python",
   "pygments_lexer": "ipython3",
   "version": "3.8.8"
  }
 },
 "nbformat": 4,
 "nbformat_minor": 5
}
