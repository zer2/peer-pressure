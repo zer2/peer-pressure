{
 "cells": [
  {
   "cell_type": "markdown",
   "id": "e17c634c",
   "metadata": {},
   "source": [
    "# Individual-level characteristics of peer pressure model"
   ]
  },
  {
   "cell_type": "code",
   "execution_count": 2,
   "id": "be9edd49",
   "metadata": {},
   "outputs": [],
   "source": [
    "import plotly.io as pio\n",
    "pio.renderers.default='notebook'"
   ]
  },
  {
   "cell_type": "code",
   "execution_count": 3,
   "id": "19a61227",
   "metadata": {},
   "outputs": [],
   "source": [
    "import pandas as pd\n",
    "import numpy as np\n",
    "import plotly.express as px\n",
    "import networkx as nx\n",
    "import matplotlib.pyplot as plt\n",
    "from scipy.optimize import curve_fit\n",
    "from sympy import Symbol, diff, lambdify, solve, nsolve, exp\n",
    "import datetime\n",
    "\n",
    "from scipy.stats import skew\n",
    "from scipy.stats import kurtosis\n",
    "from scipy.stats import kurtosistest\n",
    "from scipy.stats import skewtest\n",
    "from scipy.stats import bernoulli\n",
    "from sklearn.metrics import mean_absolute_error"
   ]
  },
  {
   "cell_type": "code",
   "execution_count": 4,
   "id": "913aa996",
   "metadata": {},
   "outputs": [],
   "source": [
    "#turning a list into an array is much faster with cython than it is with numpy\n",
    "\n",
    "%load_ext cython"
   ]
  },
  {
   "cell_type": "code",
   "execution_count": 5,
   "id": "6eba560b",
   "metadata": {},
   "outputs": [],
   "source": [
    "%%cython\n",
    "\n",
    "cimport cython\n",
    "import numpy as np\n",
    "\n",
    "@cython.boundscheck(False)\n",
    "cpdef to_array(list inp):\n",
    "    cdef long[:] arr = np.zeros(len(inp), dtype=long)\n",
    "    cdef Py_ssize_t idx\n",
    "    for idx in range(len(inp)):\n",
    "        arr[idx] = inp[idx]\n",
    "    return np.asarray(arr)"
   ]
  },
  {
   "cell_type": "code",
   "execution_count": 15,
   "id": "15ec535c",
   "metadata": {},
   "outputs": [],
   "source": [
    "def run_simulation(G\n",
    "                   ,n_iterations\n",
    "                   ,attitude_m\n",
    "                   ,attitude_sd\n",
    "                   ,fraction_a\n",
    "                   ,a_bilateral\n",
    "                   ,epsilon_sd):\n",
    "    \n",
    "    '''Simulates the defined peer pressure process over an existing network graph\n",
    "    \n",
    "    Args:\n",
    "        G (networkx graph): Undirected graph defining peer relationships in a mock society\n",
    "        n_iterations (int): Number of times to iterate through the behavior updating process\n",
    "        attitude_m (float): Mean of attitude distribution\n",
    "        attitude_sd (float): Scale of attitude distribution\n",
    "        fraction_a (float): Bernoulli parameter for setting apathy switch to 0 or 1 for each person\n",
    "        a_bilateral (bool): switch for bilateral apathy, as opposed to unilateral\n",
    "        epsilon_sd (float): standard deviation of random factor\n",
    "\n",
    "    Returns:\n",
    "        Dictionary of form {epoch -> (mean resultant behavior)}\n",
    "    '''\n",
    "    population = len(G)\n",
    "    attitudes = np.random.normal(loc = attitude_m\n",
    "                                 ,scale = attitude_sd\n",
    "                                 , size = population)\n",
    "    for j in G.nodes:\n",
    "        G.nodes[j]['behavior'] = 0\n",
    "\n",
    "    #before here \n",
    "    apathies = bernoulli.rvs(fraction_a, size = population)\n",
    "    apathy_dict = {i : apathies[i] for i in range(len(apathies))}\n",
    "    nx.set_node_attributes(G, apathy_dict, \"apathy\")\n",
    "        \n",
    "    node_list = list(G.nodes)\n",
    "        \n",
    "    rands = np.random.normal(scale = epsilon_sd,size = (n_iterations,population))\n",
    "    \n",
    "    neighbors = [[G.nodes[j] for j in G.neighbors(n)] for n in node_list]\n",
    "    neighbor_node_list = [n for v,n in zip(neighbors,node_list) for x in v]\n",
    "    labels = to_array(neighbor_node_list) #gets used later\n",
    "    \n",
    "    for i in range(n_iterations):\n",
    "                \n",
    "        if a_bilateral:\n",
    "            neighbor_behaviors = [x['behavior'] if not x['apathy'] else 0 \\\n",
    "                      for v in neighbors for x in v ]\n",
    "        else:\n",
    "            neighbor_behaviors = [x['behavior'] if not (x['apathy'] and not x['behavior'] ==1) else 0 \\\n",
    "                                  for v in neighbors for x in v ]\n",
    "\n",
    "        average_neighbor_behaviors = clever_average(neighbor_behaviors, labels)\n",
    "        \n",
    "        new_behavior = np.sign(average_neighbor_behaviors + attitudes + rands[i])\n",
    "        \n",
    "        for j, v in zip(G.nodes, new_behavior):\n",
    "            G.nodes[j]['behavior'] = v\n",
    "            \n",
    "    return G, attitudes\n",
    "\n",
    "#this function is adapted from Vlad Feinberg, at https://vladfeinberg.com/2021/01/07/vectorizing-ragged-arrays.html\n",
    "#the purpose is to do a more efficient 'jagged mean' via clever vectorization\n",
    "def clever_average(Xz, labels):\n",
    "    d = np.diff(labels, prepend=-1) # binary mask where labels change\n",
    "    \n",
    "    pos = np.flatnonzero(d) # indices where labels change\n",
    "    pos = np.append(pos, len(Xz))\n",
    "    \n",
    "    Xz = np.concatenate((np.zeros_like(Xz[0:1]), Xz), axis=0)\n",
    "    Xsums = np.cumsum(Xz, axis=0)\n",
    "\n",
    "    # reduce by taking differences of accumulations exactly at the\n",
    "    # endpoints for cluster indices, using pos array\n",
    "    Xsums = np.diff(Xsums[pos], axis=0)\n",
    "    counts = np.diff(pos)\n",
    "\n",
    "    return Xsums / np.maximum(counts, 1)"
   ]
  },
  {
   "cell_type": "markdown",
   "id": "09470a94",
   "metadata": {},
   "source": [
    "To study inviduals under peer pressure, we will run a balanced (m = 0) simulation on a very large Barabasi-Albert graph. That will give us many data points"
   ]
  },
  {
   "cell_type": "code",
   "execution_count": 16,
   "id": "9fdd9eea",
   "metadata": {},
   "outputs": [],
   "source": [
    "G = nx.generators.random_graphs.barabasi_albert_graph(1000000, 8, seed = 0)\n",
    "result, initial_attitudes = run_simulation(G = G\n",
    "                   ,n_iterations = 20\n",
    "                   ,attitude_m = 0\n",
    "                   ,attitude_sd = 1\n",
    "                   ,fraction_a = 0\n",
    "                   ,a_bilateral = False\n",
    "                   ,epsilon_sd = 0.17)"
   ]
  },
  {
   "cell_type": "code",
   "execution_count": 22,
   "id": "3b074858",
   "metadata": {},
   "outputs": [],
   "source": [
    "behaviors = [G.nodes[n]['behavior'] for n in G]\n",
    "average_neighbor_behavior = [np.mean([G.nodes[i]['behavior'] for i in G.neighbors(n)]) for n in G.nodes]\n",
    "degrees = [G.degree[n] for n in G.nodes]\n",
    "result_df = pd.DataFrame({'attitude' : initial_attitudes\n",
    "                          , 'behavior' : behaviors\n",
    "                          , 'average_neighbor_behavior' : average_neighbor_behavior\n",
    "                          , 'degree' : degrees})\n"
   ]
  },
  {
   "cell_type": "code",
   "execution_count": 57,
   "id": "463fdcff",
   "metadata": {},
   "outputs": [
    {
     "data": {
      "image/png": "[encoded data removed]",
      "text/plain": [
       "<Figure size 432x288 with 1 Axes>"
      ]
     },
     "metadata": {
      "needs_background": "light"
     },
     "output_type": "display_data"
    }
   ],
   "source": [
    "attitude_cat = pd.cut(result_df['attitude'], bins = 50)\n",
    "result_df.loc[:,'attitude_cat'] = [(x.left+x.right)/2 for x in attitude_cat]\n",
    "bin_series = (result_df.groupby('attitude_cat')['behavior'].mean()+1)/2\n",
    "plt.plot(bin_series)\n",
    "\n",
    "plt.xlabel('Attitudes (bin centers)')\n",
    "plt.ylabel('Fraction supporting')\n",
    "plt.show()"
   ]
  },
  {
   "cell_type": "code",
   "execution_count": 58,
   "id": "8c45293f",
   "metadata": {},
   "outputs": [
    {
     "data": {
      "image/png": "[encoded data removed]",
      "text/plain": [
       "<Figure size 432x288 with 1 Axes>"
      ]
     },
     "metadata": {
      "needs_background": "light"
     },
     "output_type": "display_data"
    }
   ],
   "source": [
    "def logifunc(x,A,k, off):\n",
    "    return A / (1 + np.exp(-k*(x)))+off\n",
    "\n",
    "def polyfunc(x,a,b,c):\n",
    "    return a*x**3 + b*x**2 + c*x**1\n",
    "\n",
    "logi_popt, logi_pcov = curve_fit(logifunc, bin_series.index, bin_series, p0=[9, 1, 0])\n",
    "\n",
    "poly_popt, poly_pcov = curve_fit(polyfunc, bin_series.index, bin_series, p0=[0,0,0])\n",
    "\n",
    "plt.plot(bin_series.index, logifunc(bin_series.index,*logi_popt), color = 'red', label = 'logistic')\n",
    "plt.plot(bin_series.index, polyfunc(bin_series.index,*poly_popt), color = 'blue', label = 'polynomial')\n",
    "plt.plot(bin_series.index, bin_series, color = 'black', label = 'actual')\n",
    "\n",
    "plt.xlabel('Attitudes (bin centers)')\n",
    "plt.ylabel('Fraction supporting')\n",
    "plt.legend(fontsize = 'small', loc = 'upper left')\n",
    "\n",
    "plt.show()"
   ]
  },
  {
   "cell_type": "markdown",
   "id": "eeade016",
   "metadata": {},
   "source": [
    "This graph is clearly logistic! This tells us that a normal distributions of behaviors leads to a logistic distribution of behaviors"
   ]
  },
  {
   "cell_type": "markdown",
   "id": "c1758f83",
   "metadata": {},
   "source": [
    "More to part 2 coming soon :) "
   ]
  }
 ],
 "metadata": {
  "kernelspec": {
   "display_name": "Python 3",
   "language": "python",
   "name": "python3"
  },
  "language_info": {
   "codemirror_mode": {
    "name": "ipython",
    "version": 3
   },
   "file_extension": ".py",
   "mimetype": "text/x-python",
   "name": "python",
   "nbconvert_exporter": "python",
   "pygments_lexer": "ipython3",
   "version": "3.8.8"
  }
 },
 "nbformat": 4,
 "nbformat_minor": 5
}
