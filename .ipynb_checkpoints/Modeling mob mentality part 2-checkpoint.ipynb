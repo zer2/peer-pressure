{
 "cells": [
  {
   "cell_type": "markdown",
   "id": "61880e0e",
   "metadata": {},
   "source": [
    "# Individual-level characteristics of peer pressure model\n",
    "\n",
    "In part one, we looked at graph-level attributes of the social pressure process, running many simulations to see how the overall process played out with different parameters. \n",
    "\n",
    "In part two we will run one simulation and do a deep-dive into individual nodes from that simulation. This will give us a more precise understanding of the dynamics of our idealized process. "
   ]
  },
  {
   "cell_type": "code",
   "execution_count": 87,
   "id": "4566ae9e",
   "metadata": {},
   "outputs": [],
   "source": [
    "import plotly.io as pio\n",
    "pio.renderers.default='notebook'"
   ]
  },
  {
   "cell_type": "code",
   "execution_count": 47,
   "id": "9a902d1b",
   "metadata": {},
   "outputs": [],
   "source": [
    "import pandas as pd\n",
    "import numpy as np\n",
    "import plotly.express as px\n",
    "import networkx as nx\n",
    "import matplotlib.pyplot as plt\n",
    "from scipy.optimize import curve_fit\n",
    "from sympy import Symbol, diff, lambdify, solve, nsolve, exp\n",
    "import datetime\n",
    "\n",
    "from scipy.stats import skew\n",
    "from scipy.stats import kurtosis\n",
    "from scipy.stats import kurtosistest\n",
    "from scipy.stats import skewtest\n",
    "from scipy.stats import bernoulli\n",
    "from sklearn.metrics import mean_absolute_error, log_loss\n",
    "from xgboost import XGBClassifier, XGBRegressor\n",
    "from sklearn.model_selection import train_test_split\n",
    "from sklearn.inspection import plot_partial_dependence\n",
    "from sklearn.metrics import roc_auc_score\n",
    "from sklearn.ensemble import RandomForestClassifier\n",
    "from sklearn.linear_model import LogisticRegression"
   ]
  },
  {
   "cell_type": "code",
   "execution_count": 3,
   "id": "5fa28ae3",
   "metadata": {},
   "outputs": [],
   "source": [
    "#turning a list into an array is much faster with cython than it is with numpy\n",
    "\n",
    "%load_ext cython"
   ]
  },
  {
   "cell_type": "code",
   "execution_count": 4,
   "id": "ab7939cb",
   "metadata": {},
   "outputs": [],
   "source": [
    "%%cython\n",
    "\n",
    "cimport cython\n",
    "import numpy as np\n",
    "\n",
    "@cython.boundscheck(False)\n",
    "cpdef to_array(list inp):\n",
    "    cdef long[:] arr = np.zeros(len(inp), dtype=long)\n",
    "    cdef Py_ssize_t idx\n",
    "    for idx in range(len(inp)):\n",
    "        arr[idx] = inp[idx]\n",
    "    return np.asarray(arr)"
   ]
  },
  {
   "cell_type": "code",
   "execution_count": 5,
   "id": "8242f690",
   "metadata": {},
   "outputs": [],
   "source": [
    "def run_simulation(G\n",
    "                   ,n_iterations\n",
    "                   ,attitude_m\n",
    "                   ,attitude_sd\n",
    "                   ,fraction_a\n",
    "                   ,a_bilateral\n",
    "                   ,epsilon_sd):\n",
    "    \n",
    "    '''Simulates the defined peer pressure process over an existing network graph\n",
    "    \n",
    "    Args:\n",
    "        G (networkx graph): Undirected graph defining peer relationships in a mock society\n",
    "        n_iterations (int): Number of times to iterate through the behavior updating process\n",
    "        attitude_m (float): Mean of attitude distribution\n",
    "        attitude_sd (float): Scale of attitude distribution\n",
    "        fraction_a (float): Bernoulli parameter for setting apathy switch to 0 or 1 for each person\n",
    "        a_bilateral (bool): switch for bilateral apathy, as opposed to unilateral\n",
    "        epsilon_sd (float): standard deviation of random factor\n",
    "\n",
    "    Returns:\n",
    "        Dictionary of form {epoch -> (mean resultant behavior)}\n",
    "    '''\n",
    "    population = len(G)\n",
    "    attitudes = np.random.normal(loc = attitude_m\n",
    "                                 ,scale = attitude_sd\n",
    "                                 , size = population)\n",
    "    for j in G.nodes:\n",
    "        G.nodes[j]['behavior'] = 0\n",
    "\n",
    "    #before here \n",
    "    apathies = bernoulli.rvs(fraction_a, size = population)\n",
    "    apathy_dict = {i : apathies[i] for i in range(len(apathies))}\n",
    "    nx.set_node_attributes(G, apathy_dict, \"apathy\")\n",
    "        \n",
    "    node_list = list(G.nodes)\n",
    "        \n",
    "    rands = np.random.normal(scale = epsilon_sd,size = (n_iterations,population))\n",
    "    \n",
    "    neighbors = [[G.nodes[j] for j in G.neighbors(n)] for n in node_list]\n",
    "    neighbor_node_list = [n for v,n in zip(neighbors,node_list) for x in v]\n",
    "    labels = to_array(neighbor_node_list) #gets used later\n",
    "    \n",
    "    for i in range(n_iterations):\n",
    "                \n",
    "        if a_bilateral:\n",
    "            neighbor_behaviors = [x['behavior'] if not x['apathy'] else 0 \\\n",
    "                      for v in neighbors for x in v ]\n",
    "        else:\n",
    "            neighbor_behaviors = [x['behavior'] if not (x['apathy'] and not x['behavior'] ==1) else 0 \\\n",
    "                                  for v in neighbors for x in v ]\n",
    "\n",
    "        average_neighbor_behaviors = clever_average(neighbor_behaviors, labels)\n",
    "        \n",
    "        new_behavior = np.sign(average_neighbor_behaviors + attitudes + rands[i])\n",
    "        \n",
    "        for j, v in zip(G.nodes, new_behavior):\n",
    "            G.nodes[j]['behavior'] = v\n",
    "            \n",
    "    return G, attitudes\n",
    "\n",
    "#this function is adapted from Vlad Feinberg, at https://vladfeinberg.com/2021/01/07/vectorizing-ragged-arrays.html\n",
    "#the purpose is to do a more efficient 'jagged mean' via clever vectorization\n",
    "def clever_average(Xz, labels):\n",
    "    d = np.diff(labels, prepend=-1) # binary mask where labels change\n",
    "    \n",
    "    pos = np.flatnonzero(d) # indices where labels change\n",
    "    pos = np.append(pos, len(Xz))\n",
    "    \n",
    "    Xz = np.concatenate((np.zeros_like(Xz[0:1]), Xz), axis=0)\n",
    "    Xsums = np.cumsum(Xz, axis=0)\n",
    "\n",
    "    # reduce by taking differences of accumulations exactly at the\n",
    "    # endpoints for cluster indices, using pos array\n",
    "    Xsums = np.diff(Xsums[pos], axis=0)\n",
    "    counts = np.diff(pos)\n",
    "\n",
    "    return Xsums / np.maximum(counts, 1)"
   ]
  },
  {
   "cell_type": "markdown",
   "id": "dd0c9cb6",
   "metadata": {},
   "source": [
    "In order to get many data points, we will run our simulation on a very large Barabasi-Albert graph"
   ]
  },
  {
   "cell_type": "markdown",
   "id": "d14a9a9a",
   "metadata": {},
   "source": [
    "## 1. Symmetrical graph, high attitude sd"
   ]
  },
  {
   "cell_type": "code",
   "execution_count": 6,
   "id": "94dd8a1c",
   "metadata": {},
   "outputs": [],
   "source": [
    "G = nx.generators.random_graphs.barabasi_albert_graph(1000000, 8, seed = 0)\n",
    "result, initial_attitudes = run_simulation(G = G\n",
    "                   ,n_iterations = 20\n",
    "                   ,attitude_m = 0\n",
    "                   ,attitude_sd = 1\n",
    "                   ,fraction_a = 0\n",
    "                   ,a_bilateral = False\n",
    "                   ,epsilon_sd = 0.17)"
   ]
  },
  {
   "cell_type": "markdown",
   "id": "021624a1",
   "metadata": {},
   "source": [
    "## 1a. Relationships between node characteristics"
   ]
  },
  {
   "cell_type": "markdown",
   "id": "8c96ea90",
   "metadata": {},
   "source": [
    "Now that we have a resultant graph, we can look at how initial attitude informed resultant behavior"
   ]
  },
  {
   "cell_type": "code",
   "execution_count": 7,
   "id": "c2c8cf41",
   "metadata": {},
   "outputs": [],
   "source": [
    "for j,attitude in zip(G.nodes,initial_attitudes):\n",
    "    G.nodes[j]['attitude'] = attitude"
   ]
  },
  {
   "cell_type": "code",
   "execution_count": 8,
   "id": "294e4f98",
   "metadata": {},
   "outputs": [],
   "source": [
    "behaviors = [G.nodes[n]['behavior'] for n in G]\n",
    "average_neighbor_behavior = [np.mean([G.nodes[i]['behavior'] for i in G.neighbors(n)]) for n in G.nodes]\n",
    "average_neighbor_attitude = [np.mean([G.nodes[i]['attitude'] for i in G.neighbors(n)]) for n in G.nodes]\n",
    "degrees = [G.degree[n] for n in G.nodes]\n"
   ]
  },
  {
   "cell_type": "code",
   "execution_count": 9,
   "id": "cb4a1332",
   "metadata": {},
   "outputs": [],
   "source": [
    "result_df = pd.DataFrame({'attitude' : initial_attitudes\n",
    "                          , 'behavior' : behaviors\n",
    "                          , 'average_neighbor_behavior' : average_neighbor_behavior\n",
    "                          , 'average_neighbor_attitude' : average_neighbor_attitude\n",
    "                          , 'degree' : degrees})\n"
   ]
  },
  {
   "cell_type": "code",
   "execution_count": 14,
   "id": "2b76161a",
   "metadata": {},
   "outputs": [
    {
     "data": {
      "image/png": "[encoded data removed]",
      "text/plain": [
       "<Figure size 432x288 with 1 Axes>"
      ]
     },
     "metadata": {
      "needs_background": "light"
     },
     "output_type": "display_data"
    }
   ],
   "source": [
    "attitude_cat = pd.cut(result_df['attitude'], bins = 50)\n",
    "result_df.loc[:,'attitude_cat'] = [(x.left+x.right)/2 for x in attitude_cat]\n",
    "bin_series = (result_df.groupby('attitude_cat')['behavior'].mean()+1)/2\n",
    "plt.plot(bin_series)\n",
    "\n",
    "plt.xlabel('Attitudes (bin centers)')\n",
    "plt.ylabel('Fraction supporting')\n",
    "plt.show()"
   ]
  },
  {
   "cell_type": "code",
   "execution_count": 15,
   "id": "f3965900",
   "metadata": {},
   "outputs": [
    {
     "data": {
      "image/png": "[encoded data removed]",
      "text/plain": [
       "<Figure size 432x288 with 1 Axes>"
      ]
     },
     "metadata": {
      "needs_background": "light"
     },
     "output_type": "display_data"
    }
   ],
   "source": [
    "def logifunc(x,A,k, off):\n",
    "    return A / (1 + np.exp(-k*(x)))+off\n",
    "\n",
    "def polyfunc(x,a,b,c):\n",
    "    return a*x**3 + b*x**2 + c*x**1\n",
    "\n",
    "logi_popt, logi_pcov = curve_fit(logifunc, bin_series.index, bin_series, p0=[9, 1, 0])\n",
    "\n",
    "poly_popt, poly_pcov = curve_fit(polyfunc, bin_series.index, bin_series, p0=[0,0,0])\n",
    "\n",
    "plt.plot(bin_series.index, logifunc(bin_series.index,*logi_popt), color = 'red', label = 'logistic')\n",
    "plt.plot(bin_series.index, polyfunc(bin_series.index,*poly_popt), color = 'blue', label = 'polynomial')\n",
    "plt.plot(bin_series.index, bin_series, color = 'black', label = 'actual')\n",
    "\n",
    "plt.xlabel('Attitudes (bin centers)')\n",
    "plt.ylabel('Fraction supporting')\n",
    "plt.legend(fontsize = 'small', loc = 'upper left')\n",
    "\n",
    "plt.show()"
   ]
  },
  {
   "cell_type": "markdown",
   "id": "b289c4a3",
   "metadata": {},
   "source": [
    "This graph is clearly logistic! This tells us that a normal distributions of behaviors leads to a logistic distribution of behaviors"
   ]
  },
  {
   "cell_type": "markdown",
   "id": "e4e3da9b",
   "metadata": {},
   "source": [
    "## 2. XGB model for resultant behavior"
   ]
  },
  {
   "cell_type": "markdown",
   "id": "dc935029",
   "metadata": {},
   "source": [
    "We also know that initial attitude is not the only factor that influences behavior. To see what other factors influence it, we will train an XGB model"
   ]
  },
  {
   "cell_type": "code",
   "execution_count": 16,
   "id": "491fbef9",
   "metadata": {},
   "outputs": [],
   "source": [
    "train_x, test_x, train_y, test_y = train_test_split(result_df[['attitude','average_neighbor_attitude','degree']]\n",
    "                                                    ,result_df['behavior']\n",
    "                                                    ,test_size = 0.1)"
   ]
  },
  {
   "cell_type": "code",
   "execution_count": 18,
   "id": "d97d0819",
   "metadata": {},
   "outputs": [
    {
     "name": "stderr",
     "output_type": "stream",
     "text": [
      "C:\\Users\\Zach Rosenof\\Anaconda3\\lib\\site-packages\\xgboost\\sklearn.py:1146: UserWarning:\n",
      "\n",
      "The use of label encoder in XGBClassifier is deprecated and will be removed in a future release. To remove this warning, do the following: 1) Pass option use_label_encoder=False when constructing XGBClassifier object; and 2) Encode your labels (y) as integers starting with 0, i.e. 0, 1, 2, ..., [num_class - 1].\n",
      "\n"
     ]
    },
    {
     "name": "stdout",
     "output_type": "stream",
     "text": [
      "[09:12:46] WARNING: C:/Users/Administrator/workspace/xgboost-win64_release_1.4.0/src/learner.cc:1095: Starting in XGBoost 1.3.0, the default evaluation metric used with the objective 'binary:logistic' was changed from 'error' to 'logloss'. Explicitly set eval_metric if you'd like to restore the old behavior.\n"
     ]
    }
   ],
   "source": [
    "xgb_behavior = XGBClassifier().fit(train_x, train_y)\n",
    "lr_behavior = LogisticRegression().fit(train_x,train_y)"
   ]
  },
  {
   "cell_type": "code",
   "execution_count": 22,
   "id": "723676e6",
   "metadata": {},
   "outputs": [
    {
     "name": "stdout",
     "output_type": "stream",
     "text": [
      "Logistic regression score: 98.43%\n",
      "XGB score: 98.44%\n"
     ]
    }
   ],
   "source": [
    "lr_predictions = lr_behavior.predict_proba(test_x)\n",
    "xgb_predictions = xgb_behavior.predict_proba(test_x)\n",
    "\n",
    "lr_score = roc_auc_score(test_y, [p[1] for p in lr_predictions])\n",
    "xgb_score = roc_auc_score(test_y, [p[1] for p in xgb_predictions])\n",
    "\n",
    "print('Logistic regression score: ' + str(np.round(lr_score*100,2)) + '%')\n",
    "print('XGB score: ' + str(np.round(xgb_score*100,2)) + '%')"
   ]
  },
  {
   "cell_type": "markdown",
   "id": "8e342cfc",
   "metadata": {},
   "source": [
    "These scores are both very high, suggesting that the random factors do not have much influence. If they had significant influence, there would be a low ceiling on the highest possible AUC\n",
    "\n",
    "It is also interesting to note that the logistic regression matches up almost exactly with the XGBoost. Apparently the true function is very nearly a logistic, but there might be a small discrepancy which XGB takes advantage of. Let's observe how the XGB model works"
   ]
  },
  {
   "cell_type": "code",
   "execution_count": 23,
   "id": "53fa436b",
   "metadata": {},
   "outputs": [
    {
     "data": {
      "text/plain": [
       "<BarContainer object of 3 artists>"
      ]
     },
     "execution_count": 23,
     "metadata": {},
     "output_type": "execute_result"
    },
    {
     "data": {
      "image/png": "[encoded data removed]",
      "text/plain": [
       "<Figure size 432x288 with 1 Axes>"
      ]
     },
     "metadata": {},
     "output_type": "display_data"
    }
   ],
   "source": [
    "gain_importances = xgb_behavior.get_booster().get_score(importance_type='gain')\n",
    "plt.style.use('ggplot')\n",
    "\n",
    "plt.barh([k for k,v in gain_importances.items()], [v for k,v in gain_importances.items()])"
   ]
  },
  {
   "cell_type": "markdown",
   "id": "a7f71801",
   "metadata": {},
   "source": [
    "With this model, a person's own attitude is about 12x more important than the average of their neighbors. This makes sense considering that we are using an unbiased distribution, and neighboring attitudes are probably close to 0 in general.\n",
    "\n",
    "Also note that degree has a non-zero importance. It could be the reason why xgboost is very slightly better than logistic, since the effect of degree on behavior must be complicated"
   ]
  },
  {
   "cell_type": "code",
   "execution_count": 24,
   "id": "739edd32",
   "metadata": {},
   "outputs": [
    {
     "data": {
      "text/plain": [
       "<sklearn.inspection._plot.partial_dependence.PartialDependenceDisplay at 0x28bebea0af0>"
      ]
     },
     "execution_count": 24,
     "metadata": {},
     "output_type": "execute_result"
    },
    {
     "data": {
      "image/png": "[encoded data removed]",
      "text/plain": [
       "<Figure size 432x288 with 2 Axes>"
      ]
     },
     "metadata": {},
     "output_type": "display_data"
    }
   ],
   "source": [
    "sample = train_x.sample(1000)\n",
    "plot_partial_dependence(xgb_behavior, sample, [('attitude','average_neighbor_attitude')])"
   ]
  },
  {
   "cell_type": "markdown",
   "id": "fc9bb382",
   "metadata": {},
   "source": [
    "As expected, both attitude and average_neighbor_attitude have significant effects. The boundary lines are linear, which is consistent with a pure logistic regression since the two quantities are summed at the start"
   ]
  },
  {
   "cell_type": "code",
   "execution_count": 26,
   "id": "ad7a77e9",
   "metadata": {},
   "outputs": [
    {
     "data": {
      "text/plain": [
       "<sklearn.inspection._plot.partial_dependence.PartialDependenceDisplay at 0x28beeeb1f10>"
      ]
     },
     "execution_count": 26,
     "metadata": {},
     "output_type": "execute_result"
    },
    {
     "data": {
      "image/png": "[encoded data removed]",
      "text/plain": [
       "<Figure size 432x288 with 2 Axes>"
      ]
     },
     "metadata": {},
     "output_type": "display_data"
    }
   ],
   "source": [
    "sample = train_x.sample(10000)\n",
    "plot_partial_dependence(xgb_behavior, sample, [('attitude','degree')])"
   ]
  },
  {
   "cell_type": "markdown",
   "id": "3eff5caf",
   "metadata": {},
   "source": [
    "We can see here that the degree does have some effect. Very low degrees dampen the effect of attitude, perhaps because the attitudes of low-degree nodes don't \"get around\" as much as those of high degrees. However, the effect is very slight, which is why the logistic regression worked almost just as well"
   ]
  },
  {
   "cell_type": "markdown",
   "id": "43969cd6",
   "metadata": {},
   "source": [
    "## Model for resultant neighbor behavior\n",
    "\n",
    "We can also look at how each node is affecting its neighbors, by regressing on average neighbor attitude"
   ]
  },
  {
   "cell_type": "code",
   "execution_count": 43,
   "id": "57a67d9b",
   "metadata": {},
   "outputs": [],
   "source": [
    "train_n_x, test_n_x, train_n_y, test_n_y = train_test_split(result_df[['attitude','average_neighbor_attitude','degree']]\n",
    "                                                    ,result_df['average_neighbor_behavior']\n",
    "                                                    ,test_size = 0.1 )\n",
    "\n",
    "#we need numbers between 0 and 1 to fit logistic regressions\n",
    "train_n_y = (1+train_n_y)/2\n",
    "test_n_y = (1+test_n_y)/2"
   ]
  },
  {
   "cell_type": "code",
   "execution_count": 59,
   "id": "f570ecd2",
   "metadata": {},
   "outputs": [],
   "source": [
    "xgb_n_behavior = XGBRegressor(objective = 'reg:logistic').fit(train_n_x\n",
    "                                                             ,train_n_y\n",
    "                                                            )\n",
    "#following https://stackoverflow.com/questions/61373393/plot-partial-dependence-from-scikit-learn-incorrectly-raises-notfittederror-fo\n",
    "xgb_n_behavior.dummy_ = \"dummy\""
   ]
  },
  {
   "cell_type": "code",
   "execution_count": 85,
   "id": "82e5d241",
   "metadata": {},
   "outputs": [
    {
     "name": "stdout",
     "output_type": "stream",
     "text": [
      "Optimization terminated successfully.\n",
      "         Current function value: 0.640833\n",
      "         Iterations 5\n"
     ]
    }
   ],
   "source": [
    "from statsmodels.discrete.discrete_model import Logit\n",
    "logit_model = Logit(train_n_y, train_n_x).fit()"
   ]
  },
  {
   "cell_type": "code",
   "execution_count": 84,
   "id": "2d8bbb12",
   "metadata": {},
   "outputs": [
    {
     "data": {
      "text/html": [
       "<table class=\"simpletable\">\n",
       "<caption>Logit Regression Results</caption>\n",
       "<tr>\n",
       "  <th>Dep. Variable:</th>   <td>average_neighbor_behavior</td> <th>  No. Observations:  </th>   <td>900000</td>   \n",
       "</tr>\n",
       "<tr>\n",
       "  <th>Model:</th>                     <td>Logit</td>           <th>  Df Residuals:      </th>   <td>899997</td>   \n",
       "</tr>\n",
       "<tr>\n",
       "  <th>Method:</th>                     <td>MLE</td>            <th>  Df Model:          </th>   <td>     2</td>   \n",
       "</tr>\n",
       "<tr>\n",
       "  <th>Date:</th>                <td>Tue, 02 Nov 2021</td>      <th>  Pseudo R-squ.:     </th>   <td>0.07526</td>  \n",
       "</tr>\n",
       "<tr>\n",
       "  <th>Time:</th>                    <td>20:23:38</td>          <th>  Log-Likelihood:    </th> <td>-5.7675e+05</td>\n",
       "</tr>\n",
       "<tr>\n",
       "  <th>converged:</th>                 <td>True</td>            <th>  LL-Null:           </th> <td>-6.2369e+05</td>\n",
       "</tr>\n",
       "<tr>\n",
       "  <th>Covariance Type:</th>         <td>nonrobust</td>         <th>  LLR p-value:       </th>   <td> 0.000</td>   \n",
       "</tr>\n",
       "</table>\n",
       "<table class=\"simpletable\">\n",
       "<tr>\n",
       "              <td></td>                 <th>coef</th>     <th>std err</th>      <th>z</th>      <th>P>|z|</th>  <th>[0.025</th>    <th>0.975]</th>  \n",
       "</tr>\n",
       "<tr>\n",
       "  <th>attitude</th>                  <td>    0.0733</td> <td>    0.002</td> <td>   33.709</td> <td> 0.000</td> <td>    0.069</td> <td>    0.078</td>\n",
       "</tr>\n",
       "<tr>\n",
       "  <th>average_neighbor_attitude</th> <td>    1.6925</td> <td>    0.008</td> <td>  214.121</td> <td> 0.000</td> <td>    1.677</td> <td>    1.708</td>\n",
       "</tr>\n",
       "<tr>\n",
       "  <th>degree</th>                    <td>    0.0002</td> <td> 6.95e-05</td> <td>    2.184</td> <td> 0.029</td> <td> 1.56e-05</td> <td>    0.000</td>\n",
       "</tr>\n",
       "</table>"
      ],
      "text/plain": [
       "<class 'statsmodels.iolib.summary.Summary'>\n",
       "\"\"\"\n",
       "                               Logit Regression Results                              \n",
       "=====================================================================================\n",
       "Dep. Variable:     average_neighbor_behavior   No. Observations:               900000\n",
       "Model:                                 Logit   Df Residuals:                   899997\n",
       "Method:                                  MLE   Df Model:                            2\n",
       "Date:                       Tue, 02 Nov 2021   Pseudo R-squ.:                 0.07526\n",
       "Time:                               20:23:38   Log-Likelihood:            -5.7675e+05\n",
       "converged:                              True   LL-Null:                   -6.2369e+05\n",
       "Covariance Type:                   nonrobust   LLR p-value:                     0.000\n",
       "=============================================================================================\n",
       "                                coef    std err          z      P>|z|      [0.025      0.975]\n",
       "---------------------------------------------------------------------------------------------\n",
       "attitude                      0.0733      0.002     33.709      0.000       0.069       0.078\n",
       "average_neighbor_attitude     1.6925      0.008    214.121      0.000       1.677       1.708\n",
       "degree                        0.0002   6.95e-05      2.184      0.029    1.56e-05       0.000\n",
       "=============================================================================================\n",
       "\"\"\""
      ]
     },
     "execution_count": 84,
     "metadata": {},
     "output_type": "execute_result"
    }
   ],
   "source": [
    "logit_model.summary()"
   ]
  },
  {
   "cell_type": "markdown",
   "id": "880faedc",
   "metadata": {},
   "source": [
    "We know the degree relationship must be a spurious correlation, because degree's effect on the result should be symmetrical. And yet, the model is confident with statistical significance that there really is a relationship... this emphasizes that we should be careful when interpreting p-values!"
   ]
  },
  {
   "cell_type": "code",
   "execution_count": 86,
   "id": "8bac34c8",
   "metadata": {},
   "outputs": [
    {
     "name": "stdout",
     "output_type": "stream",
     "text": [
      "Logistic regression score: 7.58%\n",
      "XGB score: 7.52%\n"
     ]
    }
   ],
   "source": [
    "lr_n_predictions = logit_model.predict(test_n_x)\n",
    "xgb_n_predictions = xgb_n_behavior.predict(test_n_x)\n",
    "\n",
    "lr_score = mean_absolute_error(test_n_y, lr_n_predictions)\n",
    "xgb_score = mean_absolute_error(test_n_y, xgb_n_predictions)\n",
    "\n",
    "print('Logistic regression score: ' + str(np.round(lr_score*100,2)) + '%')\n",
    "print('XGB score: ' + str(np.round(xgb_score*100,2)) + '%')"
   ]
  },
  {
   "cell_type": "markdown",
   "id": "393b2af2",
   "metadata": {},
   "source": [
    "Again, the XGB model does slightly better"
   ]
  },
  {
   "cell_type": "code",
   "execution_count": 63,
   "id": "e305741b",
   "metadata": {},
   "outputs": [
    {
     "data": {
      "text/plain": [
       "<BarContainer object of 3 artists>"
      ]
     },
     "execution_count": 63,
     "metadata": {},
     "output_type": "execute_result"
    },
    {
     "data": {
      "image/png": "[encoded data removed]",
      "text/plain": [
       "<Figure size 432x288 with 1 Axes>"
      ]
     },
     "metadata": {},
     "output_type": "display_data"
    }
   ],
   "source": [
    "gain_importances = xgb_n_behavior.get_booster().get_score(importance_type='gain')\n",
    "plt.style.use('ggplot')\n",
    "\n",
    "plt.barh([k for k,v in gain_importances.items()], [v for k,v in gain_importances.items()])"
   ]
  },
  {
   "cell_type": "markdown",
   "id": "0469518f",
   "metadata": {},
   "source": [
    "In this case, degree has no influence. So it seems like each node is equally influential to neighboring nodes no matter how many neighbors it has. \n",
    "\n",
    "This is surprising to me, since I assumed nodes with more neighbors would have more influence on their neighbors through feedback loops, but apparently not"
   ]
  },
  {
   "cell_type": "code",
   "execution_count": 64,
   "id": "a25b162e",
   "metadata": {},
   "outputs": [
    {
     "data": {
      "text/plain": [
       "<sklearn.inspection._plot.partial_dependence.PartialDependenceDisplay at 0x2856cf35a30>"
      ]
     },
     "execution_count": 64,
     "metadata": {},
     "output_type": "execute_result"
    },
    {
     "data": {
      "image/png": "[encoded data removed]",
      "text/plain": [
       "<Figure size 432x288 with 2 Axes>"
      ]
     },
     "metadata": {},
     "output_type": "display_data"
    }
   ],
   "source": [
    "sample = train_n_x.sample(1000)\n",
    "plot_partial_dependence(xgb_n_behavior, sample, [('attitude','average_neighbor_attitude')])"
   ]
  },
  {
   "cell_type": "markdown",
   "id": "03d13b3d",
   "metadata": {},
   "source": [
    "This shows an interesting relationship between attitude and average_neighbor_attitude. It seems like the neighbor attitude is the overwhelming factor in general, but the attitude does have influence when it is around 0"
   ]
  },
  {
   "cell_type": "markdown",
   "id": "43378ea2",
   "metadata": {},
   "source": [
    "More to part 2 coming soon :) "
   ]
  }
 ],
 "metadata": {
  "kernelspec": {
   "display_name": "Python 3",
   "language": "python",
   "name": "python3"
  },
  "language_info": {
   "codemirror_mode": {
    "name": "ipython",
    "version": 3
   },
   "file_extension": ".py",
   "mimetype": "text/x-python",
   "name": "python",
   "nbconvert_exporter": "python",
   "pygments_lexer": "ipython3",
   "version": "3.8.8"
  }
 },
 "nbformat": 4,
 "nbformat_minor": 5
}
